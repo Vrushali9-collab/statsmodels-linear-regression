{
  "nbformat": 4,
  "nbformat_minor": 0,
  "metadata": {
    "colab": {
      "name": "Untitled5.ipynb",
      "provenance": [],
      "collapsed_sections": []
    },
    "kernelspec": {
      "name": "python3",
      "display_name": "Python 3"
    },
    "language_info": {
      "name": "python"
    }
  },
  "cells": [
    {
      "cell_type": "code",
      "metadata": {
        "id": "VVUGhJ-yQRgj"
      },
      "source": [
        "import numpy as np\n",
        "import pandas as pd\n",
        "\n",
        "import statsmodels.api as sm\n"
      ],
      "execution_count": 29,
      "outputs": []
    },
    {
      "cell_type": "code",
      "metadata": {
        "id": "a0f2O-4wSzcF"
      },
      "source": [
        "data=pd.read_csv('/content/Student_Grade.csv')"
      ],
      "execution_count": 30,
      "outputs": []
    },
    {
      "cell_type": "code",
      "metadata": {
        "colab": {
          "base_uri": "https://localhost:8080/",
          "height": 197
        },
        "id": "CqEHmWISYVAZ",
        "outputId": "22fea8a0-3d06-4ed1-e059-b7e9860465bd"
      },
      "source": [
        "data.head()"
      ],
      "execution_count": 31,
      "outputs": [
        {
          "output_type": "execute_result",
          "data": {
            "text/html": [
              "<div>\n",
              "<style scoped>\n",
              "    .dataframe tbody tr th:only-of-type {\n",
              "        vertical-align: middle;\n",
              "    }\n",
              "\n",
              "    .dataframe tbody tr th {\n",
              "        vertical-align: top;\n",
              "    }\n",
              "\n",
              "    .dataframe thead th {\n",
              "        text-align: right;\n",
              "    }\n",
              "</style>\n",
              "<table border=\"1\" class=\"dataframe\">\n",
              "  <thead>\n",
              "    <tr style=\"text-align: right;\">\n",
              "      <th></th>\n",
              "      <th>Study Time In Minutes</th>\n",
              "      <th>Credit Grade</th>\n",
              "    </tr>\n",
              "  </thead>\n",
              "  <tbody>\n",
              "    <tr>\n",
              "      <th>0</th>\n",
              "      <td>230</td>\n",
              "      <td>6.43</td>\n",
              "    </tr>\n",
              "    <tr>\n",
              "      <th>1</th>\n",
              "      <td>160</td>\n",
              "      <td>4.94</td>\n",
              "    </tr>\n",
              "    <tr>\n",
              "      <th>2</th>\n",
              "      <td>234</td>\n",
              "      <td>6.53</td>\n",
              "    </tr>\n",
              "    <tr>\n",
              "      <th>3</th>\n",
              "      <td>120</td>\n",
              "      <td>4.17</td>\n",
              "    </tr>\n",
              "    <tr>\n",
              "      <th>4</th>\n",
              "      <td>350</td>\n",
              "      <td>8.99</td>\n",
              "    </tr>\n",
              "  </tbody>\n",
              "</table>\n",
              "</div>"
            ],
            "text/plain": [
              "   Study Time In Minutes  Credit Grade\n",
              "0                    230          6.43\n",
              "1                    160          4.94\n",
              "2                    234          6.53\n",
              "3                    120          4.17\n",
              "4                    350          8.99"
            ]
          },
          "metadata": {
            "tags": []
          },
          "execution_count": 31
        }
      ]
    },
    {
      "cell_type": "code",
      "metadata": {
        "id": "bpol4vh5Ycow"
      },
      "source": [
        "a=data['Study Time In Minutes']\n",
        "b=data['Credit Grade']"
      ],
      "execution_count": 32,
      "outputs": []
    },
    {
      "cell_type": "code",
      "metadata": {
        "id": "I0agF682Y5UH"
      },
      "source": [
        "model=sm.OLS(b,a).fit()\n",
        "model_predication=model.predict(a)\n",
        "model_details=model.summary()"
      ],
      "execution_count": 34,
      "outputs": []
    },
    {
      "cell_type": "code",
      "metadata": {
        "colab": {
          "base_uri": "https://localhost:8080/"
        },
        "id": "lex_o27TZHbX",
        "outputId": "b03856be-fef7-46ac-bc45-570b81b1f7da"
      },
      "source": [
        "print(model_details)"
      ],
      "execution_count": 35,
      "outputs": [
        {
          "output_type": "stream",
          "text": [
            "                                 OLS Regression Results                                \n",
            "=======================================================================================\n",
            "Dep. Variable:           Credit Grade   R-squared (uncentered):                   0.989\n",
            "Model:                            OLS   Adj. R-squared (uncentered):              0.989\n",
            "Method:                 Least Squares   F-statistic:                          1.731e+04\n",
            "Date:                Thu, 15 Apr 2021   Prob (F-statistic):                   1.91e-195\n",
            "Time:                        07:53:00   Log-Likelihood:                         -224.20\n",
            "No. Observations:                 200   AIC:                                      450.4\n",
            "Df Residuals:                     199   BIC:                                      453.7\n",
            "Df Model:                           1                                                  \n",
            "Covariance Type:            nonrobust                                                  \n",
            "=========================================================================================\n",
            "                            coef    std err          t      P>|t|      [0.025      0.975]\n",
            "-----------------------------------------------------------------------------------------\n",
            "Study Time In Minutes     0.0261      0.000    131.574      0.000       0.026       0.027\n",
            "==============================================================================\n",
            "Omnibus:                       70.522   Durbin-Watson:                   1.652\n",
            "Prob(Omnibus):                  0.000   Jarque-Bera (JB):              171.903\n",
            "Skew:                          -1.589   Prob(JB):                     4.70e-38\n",
            "Kurtosis:                       6.244   Cond. No.                         1.00\n",
            "==============================================================================\n",
            "\n",
            "Warnings:\n",
            "[1] Standard Errors assume that the covariance matrix of the errors is correctly specified.\n"
          ],
          "name": "stdout"
        }
      ]
    }
  ]
}