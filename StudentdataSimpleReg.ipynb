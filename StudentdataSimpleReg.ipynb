{
  "nbformat": 4,
  "nbformat_minor": 0,
  "metadata": {
    "colab": {
      "name": "StudentdataSimpleReg.ipynb",
      "provenance": [],
      "collapsed_sections": [],
      "include_colab_link": true
    },
    "kernelspec": {
      "name": "python3",
      "display_name": "Python 3"
    },
    "language_info": {
      "name": "python"
    }
  },
  "cells": [
    {
      "cell_type": "markdown",
      "metadata": {
        "id": "view-in-github",
        "colab_type": "text"
      },
      "source": [
        "<a href=\"https://colab.research.google.com/github/Vrushali9-collab/statsmodels-linear-regression/blob/main/StudentdataSimpleReg.ipynb\" target=\"_parent\"><img src=\"https://colab.research.google.com/assets/colab-badge.svg\" alt=\"Open In Colab\"/></a>"
      ]
    },
    {
      "cell_type": "markdown",
      "metadata": {
        "id": "36AKKbxSysGt"
      },
      "source": [
        "### **Importing lib**"
      ]
    },
    {
      "cell_type": "code",
      "metadata": {
        "id": "-vuA5SR6dOj4"
      },
      "source": [
        "import pandas as pd\n",
        "import numpy as np\n",
        "import seaborn as sns\n",
        "import matplotlib.pyplot as plt\n",
        "import statsmodels.api as sm\n",
        "sns.set_style(\"whitegrid\")\n"
      ],
      "execution_count": 28,
      "outputs": []
    },
    {
      "cell_type": "markdown",
      "metadata": {
        "id": "PoDt8Md1y4iM"
      },
      "source": [
        "## **Importing dataset**"
      ]
    },
    {
      "cell_type": "code",
      "metadata": {
        "id": "feyUFuFXdXSB"
      },
      "source": [
        "#importing dataset\n",
        "data=pd.read_csv('/content/personality test.csv')"
      ],
      "execution_count": 29,
      "outputs": []
    },
    {
      "cell_type": "code",
      "metadata": {
        "colab": {
          "base_uri": "https://localhost:8080/"
        },
        "id": "NRWkwRm21fdv",
        "outputId": "426607ba-f4e4-4af6-8d8c-33c7cb1089ee"
      },
      "source": [
        "data.count()"
      ],
      "execution_count": 4,
      "outputs": [
        {
          "output_type": "execute_result",
          "data": {
            "text/plain": [
              "Student                     300\n",
              "A (Self Awareness)          300\n",
              "B (Empathy)                 300\n",
              "C (Self Motivation)         300\n",
              "D (Emotional Stabilty)      300\n",
              "E(Managing Relations)       300\n",
              "F (Integrity)               300\n",
              "G (Self Development)        300\n",
              "H (Value Orientation)       300\n",
              "I (Commitment)              300\n",
              "J (Altruistic Behaviour)    300\n",
              "Total Score                 300\n",
              "dtype: int64"
            ]
          },
          "metadata": {
            "tags": []
          },
          "execution_count": 4
        }
      ]
    },
    {
      "cell_type": "code",
      "metadata": {
        "colab": {
          "base_uri": "https://localhost:8080/"
        },
        "id": "C05gsk8BdxNw",
        "outputId": "4b848641-477d-4a03-868f-d664118ef8d0"
      },
      "source": [
        "data.shape"
      ],
      "execution_count": null,
      "outputs": [
        {
          "output_type": "execute_result",
          "data": {
            "text/plain": [
              "(300, 12)"
            ]
          },
          "metadata": {
            "tags": []
          },
          "execution_count": 64
        }
      ]
    },
    {
      "cell_type": "code",
      "metadata": {
        "colab": {
          "base_uri": "https://localhost:8080/",
          "height": 392
        },
        "id": "JmqwjNrOd0Pw",
        "outputId": "6a262376-ba1c-4e41-d477-b674975bc195"
      },
      "source": [
        "data.describe().T"
      ],
      "execution_count": null,
      "outputs": [
        {
          "output_type": "execute_result",
          "data": {
            "text/html": [
              "<div>\n",
              "<style scoped>\n",
              "    .dataframe tbody tr th:only-of-type {\n",
              "        vertical-align: middle;\n",
              "    }\n",
              "\n",
              "    .dataframe tbody tr th {\n",
              "        vertical-align: top;\n",
              "    }\n",
              "\n",
              "    .dataframe thead th {\n",
              "        text-align: right;\n",
              "    }\n",
              "</style>\n",
              "<table border=\"1\" class=\"dataframe\">\n",
              "  <thead>\n",
              "    <tr style=\"text-align: right;\">\n",
              "      <th></th>\n",
              "      <th>count</th>\n",
              "      <th>mean</th>\n",
              "      <th>std</th>\n",
              "      <th>min</th>\n",
              "      <th>25%</th>\n",
              "      <th>50%</th>\n",
              "      <th>75%</th>\n",
              "      <th>max</th>\n",
              "    </tr>\n",
              "  </thead>\n",
              "  <tbody>\n",
              "    <tr>\n",
              "      <th>Student</th>\n",
              "      <td>300.0</td>\n",
              "      <td>150.500000</td>\n",
              "      <td>86.746758</td>\n",
              "      <td>1.0</td>\n",
              "      <td>75.75</td>\n",
              "      <td>150.5</td>\n",
              "      <td>225.25</td>\n",
              "      <td>300.0</td>\n",
              "    </tr>\n",
              "    <tr>\n",
              "      <th>A (Self Awareness)</th>\n",
              "      <td>300.0</td>\n",
              "      <td>4.333333</td>\n",
              "      <td>1.456925</td>\n",
              "      <td>1.0</td>\n",
              "      <td>5.00</td>\n",
              "      <td>5.0</td>\n",
              "      <td>5.00</td>\n",
              "      <td>5.0</td>\n",
              "    </tr>\n",
              "    <tr>\n",
              "      <th>B (Empathy)</th>\n",
              "      <td>300.0</td>\n",
              "      <td>9.413333</td>\n",
              "      <td>4.013667</td>\n",
              "      <td>0.0</td>\n",
              "      <td>5.75</td>\n",
              "      <td>10.0</td>\n",
              "      <td>12.00</td>\n",
              "      <td>16.0</td>\n",
              "    </tr>\n",
              "    <tr>\n",
              "      <th>C (Self Motivation)</th>\n",
              "      <td>300.0</td>\n",
              "      <td>9.276667</td>\n",
              "      <td>3.917219</td>\n",
              "      <td>0.0</td>\n",
              "      <td>7.00</td>\n",
              "      <td>9.0</td>\n",
              "      <td>13.00</td>\n",
              "      <td>19.0</td>\n",
              "    </tr>\n",
              "    <tr>\n",
              "      <th>D (Emotional Stabilty)</th>\n",
              "      <td>300.0</td>\n",
              "      <td>6.813333</td>\n",
              "      <td>3.710938</td>\n",
              "      <td>1.0</td>\n",
              "      <td>4.00</td>\n",
              "      <td>7.0</td>\n",
              "      <td>11.00</td>\n",
              "      <td>15.0</td>\n",
              "    </tr>\n",
              "    <tr>\n",
              "      <th>E(Managing Relations)</th>\n",
              "      <td>300.0</td>\n",
              "      <td>6.046667</td>\n",
              "      <td>3.686433</td>\n",
              "      <td>2.0</td>\n",
              "      <td>3.00</td>\n",
              "      <td>5.0</td>\n",
              "      <td>10.00</td>\n",
              "      <td>16.0</td>\n",
              "    </tr>\n",
              "    <tr>\n",
              "      <th>F (Integrity)</th>\n",
              "      <td>300.0</td>\n",
              "      <td>4.786667</td>\n",
              "      <td>1.909619</td>\n",
              "      <td>1.0</td>\n",
              "      <td>3.00</td>\n",
              "      <td>5.0</td>\n",
              "      <td>6.00</td>\n",
              "      <td>11.0</td>\n",
              "    </tr>\n",
              "    <tr>\n",
              "      <th>G (Self Development)</th>\n",
              "      <td>300.0</td>\n",
              "      <td>4.100000</td>\n",
              "      <td>2.546556</td>\n",
              "      <td>0.0</td>\n",
              "      <td>3.00</td>\n",
              "      <td>3.0</td>\n",
              "      <td>6.00</td>\n",
              "      <td>10.0</td>\n",
              "    </tr>\n",
              "    <tr>\n",
              "      <th>H (Value Orientation)</th>\n",
              "      <td>300.0</td>\n",
              "      <td>4.436667</td>\n",
              "      <td>2.523334</td>\n",
              "      <td>0.0</td>\n",
              "      <td>2.00</td>\n",
              "      <td>5.0</td>\n",
              "      <td>6.00</td>\n",
              "      <td>9.0</td>\n",
              "    </tr>\n",
              "    <tr>\n",
              "      <th>I (Commitment)</th>\n",
              "      <td>300.0</td>\n",
              "      <td>4.160000</td>\n",
              "      <td>2.858023</td>\n",
              "      <td>0.0</td>\n",
              "      <td>3.00</td>\n",
              "      <td>3.0</td>\n",
              "      <td>6.00</td>\n",
              "      <td>11.0</td>\n",
              "    </tr>\n",
              "    <tr>\n",
              "      <th>J (Altruistic Behaviour)</th>\n",
              "      <td>300.0</td>\n",
              "      <td>5.270000</td>\n",
              "      <td>3.078206</td>\n",
              "      <td>0.0</td>\n",
              "      <td>4.00</td>\n",
              "      <td>5.0</td>\n",
              "      <td>6.00</td>\n",
              "      <td>16.0</td>\n",
              "    </tr>\n",
              "    <tr>\n",
              "      <th>Total Score</th>\n",
              "      <td>300.0</td>\n",
              "      <td>58.636667</td>\n",
              "      <td>26.305473</td>\n",
              "      <td>16.0</td>\n",
              "      <td>44.00</td>\n",
              "      <td>50.0</td>\n",
              "      <td>78.25</td>\n",
              "      <td>111.0</td>\n",
              "    </tr>\n",
              "  </tbody>\n",
              "</table>\n",
              "</div>"
            ],
            "text/plain": [
              "                          count        mean        std  ...    50%     75%    max\n",
              "Student                   300.0  150.500000  86.746758  ...  150.5  225.25  300.0\n",
              "A (Self Awareness)        300.0    4.333333   1.456925  ...    5.0    5.00    5.0\n",
              "B (Empathy)               300.0    9.413333   4.013667  ...   10.0   12.00   16.0\n",
              "C (Self Motivation)       300.0    9.276667   3.917219  ...    9.0   13.00   19.0\n",
              "D (Emotional Stabilty)    300.0    6.813333   3.710938  ...    7.0   11.00   15.0\n",
              "E(Managing Relations)     300.0    6.046667   3.686433  ...    5.0   10.00   16.0\n",
              "F (Integrity)             300.0    4.786667   1.909619  ...    5.0    6.00   11.0\n",
              "G (Self Development)      300.0    4.100000   2.546556  ...    3.0    6.00   10.0\n",
              "H (Value Orientation)     300.0    4.436667   2.523334  ...    5.0    6.00    9.0\n",
              "I (Commitment)            300.0    4.160000   2.858023  ...    3.0    6.00   11.0\n",
              "J (Altruistic Behaviour)  300.0    5.270000   3.078206  ...    5.0    6.00   16.0\n",
              "Total Score               300.0   58.636667  26.305473  ...   50.0   78.25  111.0\n",
              "\n",
              "[12 rows x 8 columns]"
            ]
          },
          "metadata": {
            "tags": []
          },
          "execution_count": 65
        }
      ]
    },
    {
      "cell_type": "code",
      "metadata": {
        "colab": {
          "base_uri": "https://localhost:8080/",
          "height": 555
        },
        "id": "bQV9taTM6JDI",
        "outputId": "66acd2e6-41d0-4d49-8e7e-8b441f2f4daa"
      },
      "source": [
        "data.corr()"
      ],
      "execution_count": 5,
      "outputs": [
        {
          "output_type": "execute_result",
          "data": {
            "text/html": [
              "<div>\n",
              "<style scoped>\n",
              "    .dataframe tbody tr th:only-of-type {\n",
              "        vertical-align: middle;\n",
              "    }\n",
              "\n",
              "    .dataframe tbody tr th {\n",
              "        vertical-align: top;\n",
              "    }\n",
              "\n",
              "    .dataframe thead th {\n",
              "        text-align: right;\n",
              "    }\n",
              "</style>\n",
              "<table border=\"1\" class=\"dataframe\">\n",
              "  <thead>\n",
              "    <tr style=\"text-align: right;\">\n",
              "      <th></th>\n",
              "      <th>Student</th>\n",
              "      <th>A (Self Awareness)</th>\n",
              "      <th>B (Empathy)</th>\n",
              "      <th>C (Self Motivation)</th>\n",
              "      <th>D (Emotional Stabilty)</th>\n",
              "      <th>E(Managing Relations)</th>\n",
              "      <th>F (Integrity)</th>\n",
              "      <th>G (Self Development)</th>\n",
              "      <th>H (Value Orientation)</th>\n",
              "      <th>I (Commitment)</th>\n",
              "      <th>J (Altruistic Behaviour)</th>\n",
              "      <th>Total Score</th>\n",
              "    </tr>\n",
              "  </thead>\n",
              "  <tbody>\n",
              "    <tr>\n",
              "      <th>Student</th>\n",
              "      <td>1.000000</td>\n",
              "      <td>-0.304483</td>\n",
              "      <td>-0.120150</td>\n",
              "      <td>-0.149175</td>\n",
              "      <td>-0.111624</td>\n",
              "      <td>-0.055754</td>\n",
              "      <td>-0.193215</td>\n",
              "      <td>-0.069583</td>\n",
              "      <td>-0.113257</td>\n",
              "      <td>-0.052948</td>\n",
              "      <td>-0.119946</td>\n",
              "      <td>-0.132385</td>\n",
              "    </tr>\n",
              "    <tr>\n",
              "      <th>A (Self Awareness)</th>\n",
              "      <td>-0.304483</td>\n",
              "      <td>1.000000</td>\n",
              "      <td>0.664975</td>\n",
              "      <td>0.595593</td>\n",
              "      <td>0.622102</td>\n",
              "      <td>0.381928</td>\n",
              "      <td>0.660360</td>\n",
              "      <td>0.562500</td>\n",
              "      <td>0.627114</td>\n",
              "      <td>0.509231</td>\n",
              "      <td>0.639854</td>\n",
              "      <td>0.679570</td>\n",
              "    </tr>\n",
              "    <tr>\n",
              "      <th>B (Empathy)</th>\n",
              "      <td>-0.120150</td>\n",
              "      <td>0.664975</td>\n",
              "      <td>1.000000</td>\n",
              "      <td>0.769771</td>\n",
              "      <td>0.799414</td>\n",
              "      <td>0.672511</td>\n",
              "      <td>0.770366</td>\n",
              "      <td>0.805147</td>\n",
              "      <td>0.798111</td>\n",
              "      <td>0.775002</td>\n",
              "      <td>0.775699</td>\n",
              "      <td>0.896455</td>\n",
              "    </tr>\n",
              "    <tr>\n",
              "      <th>C (Self Motivation)</th>\n",
              "      <td>-0.149175</td>\n",
              "      <td>0.595593</td>\n",
              "      <td>0.769771</td>\n",
              "      <td>1.000000</td>\n",
              "      <td>0.850236</td>\n",
              "      <td>0.801608</td>\n",
              "      <td>0.753232</td>\n",
              "      <td>0.798518</td>\n",
              "      <td>0.706409</td>\n",
              "      <td>0.762585</td>\n",
              "      <td>0.676937</td>\n",
              "      <td>0.893442</td>\n",
              "    </tr>\n",
              "    <tr>\n",
              "      <th>D (Emotional Stabilty)</th>\n",
              "      <td>-0.111624</td>\n",
              "      <td>0.622102</td>\n",
              "      <td>0.799414</td>\n",
              "      <td>0.850236</td>\n",
              "      <td>1.000000</td>\n",
              "      <td>0.874890</td>\n",
              "      <td>0.722113</td>\n",
              "      <td>0.877199</td>\n",
              "      <td>0.732353</td>\n",
              "      <td>0.846045</td>\n",
              "      <td>0.730531</td>\n",
              "      <td>0.931714</td>\n",
              "    </tr>\n",
              "    <tr>\n",
              "      <th>E(Managing Relations)</th>\n",
              "      <td>-0.055754</td>\n",
              "      <td>0.381928</td>\n",
              "      <td>0.672511</td>\n",
              "      <td>0.801608</td>\n",
              "      <td>0.874890</td>\n",
              "      <td>1.000000</td>\n",
              "      <td>0.616185</td>\n",
              "      <td>0.798596</td>\n",
              "      <td>0.594639</td>\n",
              "      <td>0.761136</td>\n",
              "      <td>0.578326</td>\n",
              "      <td>0.836146</td>\n",
              "    </tr>\n",
              "    <tr>\n",
              "      <th>F (Integrity)</th>\n",
              "      <td>-0.193215</td>\n",
              "      <td>0.660360</td>\n",
              "      <td>0.770366</td>\n",
              "      <td>0.753232</td>\n",
              "      <td>0.722113</td>\n",
              "      <td>0.616185</td>\n",
              "      <td>1.000000</td>\n",
              "      <td>0.761611</td>\n",
              "      <td>0.845348</td>\n",
              "      <td>0.779012</td>\n",
              "      <td>0.773950</td>\n",
              "      <td>0.857119</td>\n",
              "    </tr>\n",
              "    <tr>\n",
              "      <th>G (Self Development)</th>\n",
              "      <td>-0.069583</td>\n",
              "      <td>0.562500</td>\n",
              "      <td>0.805147</td>\n",
              "      <td>0.798518</td>\n",
              "      <td>0.877199</td>\n",
              "      <td>0.798596</td>\n",
              "      <td>0.761611</td>\n",
              "      <td>1.000000</td>\n",
              "      <td>0.896728</td>\n",
              "      <td>0.939362</td>\n",
              "      <td>0.857536</td>\n",
              "      <td>0.949094</td>\n",
              "    </tr>\n",
              "    <tr>\n",
              "      <th>H (Value Orientation)</th>\n",
              "      <td>-0.113257</td>\n",
              "      <td>0.627114</td>\n",
              "      <td>0.798111</td>\n",
              "      <td>0.706409</td>\n",
              "      <td>0.732353</td>\n",
              "      <td>0.594639</td>\n",
              "      <td>0.845348</td>\n",
              "      <td>0.896728</td>\n",
              "      <td>1.000000</td>\n",
              "      <td>0.885790</td>\n",
              "      <td>0.902342</td>\n",
              "      <td>0.894277</td>\n",
              "    </tr>\n",
              "    <tr>\n",
              "      <th>I (Commitment)</th>\n",
              "      <td>-0.052948</td>\n",
              "      <td>0.509231</td>\n",
              "      <td>0.775002</td>\n",
              "      <td>0.762585</td>\n",
              "      <td>0.846045</td>\n",
              "      <td>0.761136</td>\n",
              "      <td>0.779012</td>\n",
              "      <td>0.939362</td>\n",
              "      <td>0.885790</td>\n",
              "      <td>1.000000</td>\n",
              "      <td>0.893769</td>\n",
              "      <td>0.931721</td>\n",
              "    </tr>\n",
              "    <tr>\n",
              "      <th>J (Altruistic Behaviour)</th>\n",
              "      <td>-0.119946</td>\n",
              "      <td>0.639854</td>\n",
              "      <td>0.775699</td>\n",
              "      <td>0.676937</td>\n",
              "      <td>0.730531</td>\n",
              "      <td>0.578326</td>\n",
              "      <td>0.773950</td>\n",
              "      <td>0.857536</td>\n",
              "      <td>0.902342</td>\n",
              "      <td>0.893769</td>\n",
              "      <td>1.000000</td>\n",
              "      <td>0.878581</td>\n",
              "    </tr>\n",
              "    <tr>\n",
              "      <th>Total Score</th>\n",
              "      <td>-0.132385</td>\n",
              "      <td>0.679570</td>\n",
              "      <td>0.896455</td>\n",
              "      <td>0.893442</td>\n",
              "      <td>0.931714</td>\n",
              "      <td>0.836146</td>\n",
              "      <td>0.857119</td>\n",
              "      <td>0.949094</td>\n",
              "      <td>0.894277</td>\n",
              "      <td>0.931721</td>\n",
              "      <td>0.878581</td>\n",
              "      <td>1.000000</td>\n",
              "    </tr>\n",
              "  </tbody>\n",
              "</table>\n",
              "</div>"
            ],
            "text/plain": [
              "                           Student  ...  Total Score\n",
              "Student                   1.000000  ...    -0.132385\n",
              "A (Self Awareness)       -0.304483  ...     0.679570\n",
              "B (Empathy)              -0.120150  ...     0.896455\n",
              "C (Self Motivation)      -0.149175  ...     0.893442\n",
              "D (Emotional Stabilty)   -0.111624  ...     0.931714\n",
              "E(Managing Relations)    -0.055754  ...     0.836146\n",
              "F (Integrity)            -0.193215  ...     0.857119\n",
              "G (Self Development)     -0.069583  ...     0.949094\n",
              "H (Value Orientation)    -0.113257  ...     0.894277\n",
              "I (Commitment)           -0.052948  ...     0.931721\n",
              "J (Altruistic Behaviour) -0.119946  ...     0.878581\n",
              "Total Score              -0.132385  ...     1.000000\n",
              "\n",
              "[12 rows x 12 columns]"
            ]
          },
          "metadata": {
            "tags": []
          },
          "execution_count": 5
        }
      ]
    },
    {
      "cell_type": "code",
      "metadata": {
        "colab": {
          "base_uri": "https://localhost:8080/",
          "height": 407
        },
        "id": "QCKrbgG-6S0N",
        "outputId": "aefa15f3-0e86-4080-cbba-ae552b5ae5d2"
      },
      "source": [
        "data.isnull()"
      ],
      "execution_count": 6,
      "outputs": [
        {
          "output_type": "execute_result",
          "data": {
            "text/html": [
              "<div>\n",
              "<style scoped>\n",
              "    .dataframe tbody tr th:only-of-type {\n",
              "        vertical-align: middle;\n",
              "    }\n",
              "\n",
              "    .dataframe tbody tr th {\n",
              "        vertical-align: top;\n",
              "    }\n",
              "\n",
              "    .dataframe thead th {\n",
              "        text-align: right;\n",
              "    }\n",
              "</style>\n",
              "<table border=\"1\" class=\"dataframe\">\n",
              "  <thead>\n",
              "    <tr style=\"text-align: right;\">\n",
              "      <th></th>\n",
              "      <th>Student</th>\n",
              "      <th>A (Self Awareness)</th>\n",
              "      <th>B (Empathy)</th>\n",
              "      <th>C (Self Motivation)</th>\n",
              "      <th>D (Emotional Stabilty)</th>\n",
              "      <th>E(Managing Relations)</th>\n",
              "      <th>F (Integrity)</th>\n",
              "      <th>G (Self Development)</th>\n",
              "      <th>H (Value Orientation)</th>\n",
              "      <th>I (Commitment)</th>\n",
              "      <th>J (Altruistic Behaviour)</th>\n",
              "      <th>Total Score</th>\n",
              "    </tr>\n",
              "  </thead>\n",
              "  <tbody>\n",
              "    <tr>\n",
              "      <th>0</th>\n",
              "      <td>False</td>\n",
              "      <td>False</td>\n",
              "      <td>False</td>\n",
              "      <td>False</td>\n",
              "      <td>False</td>\n",
              "      <td>False</td>\n",
              "      <td>False</td>\n",
              "      <td>False</td>\n",
              "      <td>False</td>\n",
              "      <td>False</td>\n",
              "      <td>False</td>\n",
              "      <td>False</td>\n",
              "    </tr>\n",
              "    <tr>\n",
              "      <th>1</th>\n",
              "      <td>False</td>\n",
              "      <td>False</td>\n",
              "      <td>False</td>\n",
              "      <td>False</td>\n",
              "      <td>False</td>\n",
              "      <td>False</td>\n",
              "      <td>False</td>\n",
              "      <td>False</td>\n",
              "      <td>False</td>\n",
              "      <td>False</td>\n",
              "      <td>False</td>\n",
              "      <td>False</td>\n",
              "    </tr>\n",
              "    <tr>\n",
              "      <th>2</th>\n",
              "      <td>False</td>\n",
              "      <td>False</td>\n",
              "      <td>False</td>\n",
              "      <td>False</td>\n",
              "      <td>False</td>\n",
              "      <td>False</td>\n",
              "      <td>False</td>\n",
              "      <td>False</td>\n",
              "      <td>False</td>\n",
              "      <td>False</td>\n",
              "      <td>False</td>\n",
              "      <td>False</td>\n",
              "    </tr>\n",
              "    <tr>\n",
              "      <th>3</th>\n",
              "      <td>False</td>\n",
              "      <td>False</td>\n",
              "      <td>False</td>\n",
              "      <td>False</td>\n",
              "      <td>False</td>\n",
              "      <td>False</td>\n",
              "      <td>False</td>\n",
              "      <td>False</td>\n",
              "      <td>False</td>\n",
              "      <td>False</td>\n",
              "      <td>False</td>\n",
              "      <td>False</td>\n",
              "    </tr>\n",
              "    <tr>\n",
              "      <th>4</th>\n",
              "      <td>False</td>\n",
              "      <td>False</td>\n",
              "      <td>False</td>\n",
              "      <td>False</td>\n",
              "      <td>False</td>\n",
              "      <td>False</td>\n",
              "      <td>False</td>\n",
              "      <td>False</td>\n",
              "      <td>False</td>\n",
              "      <td>False</td>\n",
              "      <td>False</td>\n",
              "      <td>False</td>\n",
              "    </tr>\n",
              "    <tr>\n",
              "      <th>...</th>\n",
              "      <td>...</td>\n",
              "      <td>...</td>\n",
              "      <td>...</td>\n",
              "      <td>...</td>\n",
              "      <td>...</td>\n",
              "      <td>...</td>\n",
              "      <td>...</td>\n",
              "      <td>...</td>\n",
              "      <td>...</td>\n",
              "      <td>...</td>\n",
              "      <td>...</td>\n",
              "      <td>...</td>\n",
              "    </tr>\n",
              "    <tr>\n",
              "      <th>295</th>\n",
              "      <td>False</td>\n",
              "      <td>False</td>\n",
              "      <td>False</td>\n",
              "      <td>False</td>\n",
              "      <td>False</td>\n",
              "      <td>False</td>\n",
              "      <td>False</td>\n",
              "      <td>False</td>\n",
              "      <td>False</td>\n",
              "      <td>False</td>\n",
              "      <td>False</td>\n",
              "      <td>False</td>\n",
              "    </tr>\n",
              "    <tr>\n",
              "      <th>296</th>\n",
              "      <td>False</td>\n",
              "      <td>False</td>\n",
              "      <td>False</td>\n",
              "      <td>False</td>\n",
              "      <td>False</td>\n",
              "      <td>False</td>\n",
              "      <td>False</td>\n",
              "      <td>False</td>\n",
              "      <td>False</td>\n",
              "      <td>False</td>\n",
              "      <td>False</td>\n",
              "      <td>False</td>\n",
              "    </tr>\n",
              "    <tr>\n",
              "      <th>297</th>\n",
              "      <td>False</td>\n",
              "      <td>False</td>\n",
              "      <td>False</td>\n",
              "      <td>False</td>\n",
              "      <td>False</td>\n",
              "      <td>False</td>\n",
              "      <td>False</td>\n",
              "      <td>False</td>\n",
              "      <td>False</td>\n",
              "      <td>False</td>\n",
              "      <td>False</td>\n",
              "      <td>False</td>\n",
              "    </tr>\n",
              "    <tr>\n",
              "      <th>298</th>\n",
              "      <td>False</td>\n",
              "      <td>False</td>\n",
              "      <td>False</td>\n",
              "      <td>False</td>\n",
              "      <td>False</td>\n",
              "      <td>False</td>\n",
              "      <td>False</td>\n",
              "      <td>False</td>\n",
              "      <td>False</td>\n",
              "      <td>False</td>\n",
              "      <td>False</td>\n",
              "      <td>False</td>\n",
              "    </tr>\n",
              "    <tr>\n",
              "      <th>299</th>\n",
              "      <td>False</td>\n",
              "      <td>False</td>\n",
              "      <td>False</td>\n",
              "      <td>False</td>\n",
              "      <td>False</td>\n",
              "      <td>False</td>\n",
              "      <td>False</td>\n",
              "      <td>False</td>\n",
              "      <td>False</td>\n",
              "      <td>False</td>\n",
              "      <td>False</td>\n",
              "      <td>False</td>\n",
              "    </tr>\n",
              "  </tbody>\n",
              "</table>\n",
              "<p>300 rows × 12 columns</p>\n",
              "</div>"
            ],
            "text/plain": [
              "     Student  A (Self Awareness)  ...  J (Altruistic Behaviour)  Total Score\n",
              "0      False               False  ...                     False        False\n",
              "1      False               False  ...                     False        False\n",
              "2      False               False  ...                     False        False\n",
              "3      False               False  ...                     False        False\n",
              "4      False               False  ...                     False        False\n",
              "..       ...                 ...  ...                       ...          ...\n",
              "295    False               False  ...                     False        False\n",
              "296    False               False  ...                     False        False\n",
              "297    False               False  ...                     False        False\n",
              "298    False               False  ...                     False        False\n",
              "299    False               False  ...                     False        False\n",
              "\n",
              "[300 rows x 12 columns]"
            ]
          },
          "metadata": {
            "tags": []
          },
          "execution_count": 6
        }
      ]
    },
    {
      "cell_type": "code",
      "metadata": {
        "id": "e7bjCZnod4fU"
      },
      "source": [
        "#spliting data into dependent and independent data \n",
        "x = data.iloc[:, 0:1].values\n",
        "y = data.iloc[:, 1].values\n"
      ],
      "execution_count": 30,
      "outputs": []
    },
    {
      "cell_type": "code",
      "metadata": {
        "id": "uGYqmZNmta_n"
      },
      "source": [
        "#Calculating Mean of X varible and Y varible \n",
        "x_mean=np.mean(x)\n",
        "y_mean=np.mean(y)\n"
      ],
      "execution_count": 70,
      "outputs": []
    },
    {
      "cell_type": "code",
      "metadata": {
        "id": "M9is91Fit2SL",
        "outputId": "877ded1c-d198-4053-aab7-26a35aef6960",
        "colab": {
          "base_uri": "https://localhost:8080/"
        }
      },
      "source": [
        "#Total Number of Vlues\n",
        "n=len(x)\n",
        "n"
      ],
      "execution_count": 68,
      "outputs": [
        {
          "output_type": "execute_result",
          "data": {
            "text/plain": [
              "300"
            ]
          },
          "metadata": {
            "tags": []
          },
          "execution_count": 68
        }
      ]
    },
    {
      "cell_type": "markdown",
      "metadata": {
        "id": "JgIMUHKHzFwd"
      },
      "source": [
        "## **Splitting dataset into traing and test**"
      ]
    },
    {
      "cell_type": "code",
      "metadata": {
        "id": "qU2LenqyvIZ_",
        "colab": {
          "base_uri": "https://localhost:8080/"
        },
        "outputId": "6d5fce86-b48d-4ee5-8161-9f004e5220fd"
      },
      "source": [
        "from sklearn.model_selection import train_test_split\n",
        "x_train,x_test,y_train,y_test=train_test_split(x,y,test_size=0.2,random_state=0)\n",
        "\n",
        "print(x_train.shape, x_test.shape, y_train.shape, y_test.shape)"
      ],
      "execution_count": 31,
      "outputs": [
        {
          "output_type": "stream",
          "text": [
            "(240, 1) (60, 1) (240,) (60,)\n"
          ],
          "name": "stdout"
        }
      ]
    },
    {
      "cell_type": "markdown",
      "metadata": {
        "id": "X86j60a_3n39"
      },
      "source": [
        "## **Training the Sample Linear Regression model on Training test**\n",
        "\n",
        "\n",
        "\n"
      ]
    },
    {
      "cell_type": "code",
      "metadata": {
        "id": "L8lJfeio30tk",
        "colab": {
          "base_uri": "https://localhost:8080/"
        },
        "outputId": "7cce2ab2-ab62-47ca-829f-419e253293ae"
      },
      "source": [
        "from sklearn.linear_model import LinearRegression\n",
        "lr=LinearRegression()\n",
        "lr.fit(x_train,y_train)"
      ],
      "execution_count": 32,
      "outputs": [
        {
          "output_type": "execute_result",
          "data": {
            "text/plain": [
              "LinearRegression(copy_X=True, fit_intercept=True, n_jobs=None, normalize=False)"
            ]
          },
          "metadata": {
            "tags": []
          },
          "execution_count": 32
        }
      ]
    },
    {
      "cell_type": "code",
      "metadata": {
        "colab": {
          "base_uri": "https://localhost:8080/"
        },
        "id": "PefAnw58ZnNG",
        "outputId": "71f17493-e732-4826-eca4-905641c898aa"
      },
      "source": [
        "x_train.shape"
      ],
      "execution_count": 18,
      "outputs": [
        {
          "output_type": "execute_result",
          "data": {
            "text/plain": [
              "(210, 1)"
            ]
          },
          "metadata": {
            "tags": []
          },
          "execution_count": 18
        }
      ]
    },
    {
      "cell_type": "code",
      "metadata": {
        "colab": {
          "base_uri": "https://localhost:8080/"
        },
        "id": "g1SYhk5JaPRb",
        "outputId": "9f7d1e5b-88ed-4b7f-a5d5-6300a4d8ea2f"
      },
      "source": [
        "y_train.shape"
      ],
      "execution_count": 19,
      "outputs": [
        {
          "output_type": "execute_result",
          "data": {
            "text/plain": [
              "(210,)"
            ]
          },
          "metadata": {
            "tags": []
          },
          "execution_count": 19
        }
      ]
    },
    {
      "cell_type": "markdown",
      "metadata": {
        "id": "_e71RjIptoJ6"
      },
      "source": [
        "## **Predicting test set result**"
      ]
    },
    {
      "cell_type": "code",
      "metadata": {
        "id": "GWRHXBy1tnR4",
        "colab": {
          "base_uri": "https://localhost:8080/"
        },
        "outputId": "81f0a228-4d04-42c4-f83b-b295b44d18e7"
      },
      "source": [
        "y_pred=lr.predict(x_test)\n",
        "y_pred.shape"
      ],
      "execution_count": 64,
      "outputs": [
        {
          "output_type": "execute_result",
          "data": {
            "text/plain": [
              "(60,)"
            ]
          },
          "metadata": {
            "tags": []
          },
          "execution_count": 64
        }
      ]
    },
    {
      "cell_type": "code",
      "metadata": {
        "id": "rUSHBgYzvJmf",
        "outputId": "a8234212-be7c-4b01-b9f0-eeea9eed3be8",
        "colab": {
          "base_uri": "https://localhost:8080/",
          "height": 35
        }
      },
      "source": [
        "acc=lr.score(x_test,y_test)\n",
        "\"Accuracy:{}%\".format(int(round(acc*100)))"
      ],
      "execution_count": 83,
      "outputs": [
        {
          "output_type": "execute_result",
          "data": {
            "application/vnd.google.colaboratory.intrinsic+json": {
              "type": "string"
            },
            "text/plain": [
              "'Accuracy:7%'"
            ]
          },
          "metadata": {
            "tags": []
          },
          "execution_count": 83
        }
      ]
    },
    {
      "cell_type": "code",
      "metadata": {
        "id": "cJ5Y22tx1Nh1"
      },
      "source": [
        "correlation_matrix = np.corrcoef(x, y)\n",
        "correlation_xy = correlation_matrix[0,1]\n",
        "r_squared = correlation_xy**2\n",
        "\n",
        "print(r_squared)"
      ],
      "execution_count": null,
      "outputs": []
    },
    {
      "cell_type": "markdown",
      "metadata": {
        "id": "fQnPxhPdvKwo"
      },
      "source": [
        "## **Visualiztion traing set result**\n",
        "\n",
        "\n",
        "\n"
      ]
    },
    {
      "cell_type": "code",
      "metadata": {
        "colab": {
          "base_uri": "https://localhost:8080/",
          "height": 301
        },
        "id": "_yznFzszLCML",
        "outputId": "f52f5f2a-5eab-44a9-d030-593972fea8bc"
      },
      "source": [
        "plt.scatter(x_train, y_train, color = 'red',label='Data Point')\n",
        "plt.plot(x_train, lr.predict(x_train), color = 'green',label='Linear Regerssion')\n",
        "plt.title('Study on Personality Test(Training set)')\n",
        "plt.xlabel('Total Score')\n",
        "plt.ylabel('Test')\n",
        "plt.legend()\n",
        "plt.show()"
      ],
      "execution_count": 78,
      "outputs": [
        {
          "output_type": "display_data",
          "data": {
            "image/png": "[encoded data removed]",
            "text/plain": [
              "<Figure size 432x288 with 1 Axes>"
            ]
          },
          "metadata": {
            "tags": []
          }
        }
      ]
    },
    {
      "cell_type": "markdown",
      "metadata": {
        "id": "x214_DBJN2A1"
      },
      "source": [
        "### **Visualiztion test set result**"
      ]
    },
    {
      "cell_type": "code",
      "metadata": {
        "colab": {
          "base_uri": "https://localhost:8080/",
          "height": 301
        },
        "id": "ULS4ovTOvU74",
        "outputId": "c33bd1f0-b2fd-4dca-8c69-cf60c3c7e4cd"
      },
      "source": [
        "plt.scatter(x_test,y_test,color='red',label='Data Point')\n",
        "plt.plot(x_train,lr.predict(x_train),label='Linear Regerssion')\n",
        "plt.title('Study on Personality Test(Testing set)')\n",
        "plt.xlabel('Test')\n",
        "plt.ylabel('Total Score')\n",
        "plt.legend()\n",
        "plt.show()"
      ],
      "execution_count": 80,
      "outputs": [
        {
          "output_type": "display_data",
          "data": {
            "image/png": "[encoded data removed]",
            "text/plain": [
              "<Figure size 432x288 with 1 Axes>"
            ]
          },
          "metadata": {
            "tags": []
          }
        }
      ]
    },
    {
      "cell_type": "code",
      "metadata": {
        "colab": {
          "base_uri": "https://localhost:8080/",
          "height": 615
        },
        "id": "xM5s-PI1of1o",
        "outputId": "30d95643-e9af-4e17-994a-9960fa6ff6b0"
      },
      "source": [
        "#outliers\n",
        "plt.figure(figsize=(16,8))\n",
        "\n",
        "plt.subplot(1,3,1)\n",
        "sns.distplot(data['Total Score'])\n",
        "\n",
        "sns.distplot(data[\"Total Score\"], kde=False, rug=True)\n",
        "plt.show()"
      ],
      "execution_count": 37,
      "outputs": [
        {
          "output_type": "stream",
          "text": [
            "/usr/local/lib/python3.7/dist-packages/seaborn/distributions.py:2557: FutureWarning: `distplot` is a deprecated function and will be removed in a future version. Please adapt your code to use either `displot` (a figure-level function with similar flexibility) or `histplot` (an axes-level function for histograms).\n",
            "  warnings.warn(msg, FutureWarning)\n",
            "/usr/local/lib/python3.7/dist-packages/seaborn/distributions.py:2557: FutureWarning: `distplot` is a deprecated function and will be removed in a future version. Please adapt your code to use either `displot` (a figure-level function with similar flexibility) or `histplot` (an axes-level function for histograms).\n",
            "  warnings.warn(msg, FutureWarning)\n",
            "/usr/local/lib/python3.7/dist-packages/seaborn/distributions.py:2056: FutureWarning: The `axis` variable is no longer used and will be removed. Instead, assign variables directly to `x` or `y`.\n",
            "  warnings.warn(msg, FutureWarning)\n"
          ],
          "name": "stderr"
        },
        {
          "output_type": "display_data",
          "data": {
            "image/png": "[encoded data removed]",
            "text/plain": [
              "<Figure size 1152x576 with 1 Axes>"
            ]
          },
          "metadata": {
            "tags": []
          }
        }
      ]
    },
    {
      "cell_type": "markdown",
      "metadata": {
        "id": "DSfMt-Ydnahb"
      },
      "source": [
        "### **Categorising the students who passed or failed**"
      ]
    },
    {
      "cell_type": "code",
      "metadata": {
        "id": "o74BGCjTndei",
        "outputId": "a277b2f8-5609-43b9-ea92-5346f5755956",
        "colab": {
          "base_uri": "https://localhost:8080/",
          "height": 423
        }
      },
      "source": [
        "cut_off = 50\n",
        "\n",
        "data['Result'] = data['Total Score']>=50\n",
        "data"
      ],
      "execution_count": 57,
      "outputs": [
        {
          "output_type": "execute_result",
          "data": {
            "text/html": [
              "<div>\n",
              "<style scoped>\n",
              "    .dataframe tbody tr th:only-of-type {\n",
              "        vertical-align: middle;\n",
              "    }\n",
              "\n",
              "    .dataframe tbody tr th {\n",
              "        vertical-align: top;\n",
              "    }\n",
              "\n",
              "    .dataframe thead th {\n",
              "        text-align: right;\n",
              "    }\n",
              "</style>\n",
              "<table border=\"1\" class=\"dataframe\">\n",
              "  <thead>\n",
              "    <tr style=\"text-align: right;\">\n",
              "      <th></th>\n",
              "      <th>Student</th>\n",
              "      <th>A (Self Awareness)</th>\n",
              "      <th>B (Empathy)</th>\n",
              "      <th>C (Self Motivation)</th>\n",
              "      <th>D (Emotional Stabilty)</th>\n",
              "      <th>E(Managing Relations)</th>\n",
              "      <th>F (Integrity)</th>\n",
              "      <th>G (Self Development)</th>\n",
              "      <th>H (Value Orientation)</th>\n",
              "      <th>I (Commitment)</th>\n",
              "      <th>J (Altruistic Behaviour)</th>\n",
              "      <th>Total Score</th>\n",
              "      <th>Result</th>\n",
              "    </tr>\n",
              "  </thead>\n",
              "  <tbody>\n",
              "    <tr>\n",
              "      <th>0</th>\n",
              "      <td>1</td>\n",
              "      <td>5</td>\n",
              "      <td>10</td>\n",
              "      <td>3</td>\n",
              "      <td>4</td>\n",
              "      <td>2</td>\n",
              "      <td>7</td>\n",
              "      <td>3</td>\n",
              "      <td>5</td>\n",
              "      <td>3</td>\n",
              "      <td>6</td>\n",
              "      <td>48</td>\n",
              "      <td>False</td>\n",
              "    </tr>\n",
              "    <tr>\n",
              "      <th>1</th>\n",
              "      <td>2</td>\n",
              "      <td>5</td>\n",
              "      <td>10</td>\n",
              "      <td>7</td>\n",
              "      <td>4</td>\n",
              "      <td>2</td>\n",
              "      <td>5</td>\n",
              "      <td>3</td>\n",
              "      <td>5</td>\n",
              "      <td>3</td>\n",
              "      <td>6</td>\n",
              "      <td>50</td>\n",
              "      <td>True</td>\n",
              "    </tr>\n",
              "    <tr>\n",
              "      <th>2</th>\n",
              "      <td>3</td>\n",
              "      <td>5</td>\n",
              "      <td>9</td>\n",
              "      <td>7</td>\n",
              "      <td>4</td>\n",
              "      <td>2</td>\n",
              "      <td>5</td>\n",
              "      <td>3</td>\n",
              "      <td>5</td>\n",
              "      <td>3</td>\n",
              "      <td>5</td>\n",
              "      <td>48</td>\n",
              "      <td>False</td>\n",
              "    </tr>\n",
              "    <tr>\n",
              "      <th>3</th>\n",
              "      <td>4</td>\n",
              "      <td>5</td>\n",
              "      <td>10</td>\n",
              "      <td>7</td>\n",
              "      <td>4</td>\n",
              "      <td>2</td>\n",
              "      <td>5</td>\n",
              "      <td>3</td>\n",
              "      <td>5</td>\n",
              "      <td>3</td>\n",
              "      <td>6</td>\n",
              "      <td>50</td>\n",
              "      <td>True</td>\n",
              "    </tr>\n",
              "    <tr>\n",
              "      <th>4</th>\n",
              "      <td>5</td>\n",
              "      <td>5</td>\n",
              "      <td>3</td>\n",
              "      <td>7</td>\n",
              "      <td>4</td>\n",
              "      <td>2</td>\n",
              "      <td>5</td>\n",
              "      <td>3</td>\n",
              "      <td>5</td>\n",
              "      <td>3</td>\n",
              "      <td>6</td>\n",
              "      <td>43</td>\n",
              "      <td>False</td>\n",
              "    </tr>\n",
              "    <tr>\n",
              "      <th>...</th>\n",
              "      <td>...</td>\n",
              "      <td>...</td>\n",
              "      <td>...</td>\n",
              "      <td>...</td>\n",
              "      <td>...</td>\n",
              "      <td>...</td>\n",
              "      <td>...</td>\n",
              "      <td>...</td>\n",
              "      <td>...</td>\n",
              "      <td>...</td>\n",
              "      <td>...</td>\n",
              "      <td>...</td>\n",
              "      <td>...</td>\n",
              "    </tr>\n",
              "    <tr>\n",
              "      <th>295</th>\n",
              "      <td>296</td>\n",
              "      <td>5</td>\n",
              "      <td>10</td>\n",
              "      <td>7</td>\n",
              "      <td>4</td>\n",
              "      <td>2</td>\n",
              "      <td>5</td>\n",
              "      <td>3</td>\n",
              "      <td>5</td>\n",
              "      <td>3</td>\n",
              "      <td>6</td>\n",
              "      <td>50</td>\n",
              "      <td>True</td>\n",
              "    </tr>\n",
              "    <tr>\n",
              "      <th>296</th>\n",
              "      <td>297</td>\n",
              "      <td>5</td>\n",
              "      <td>9</td>\n",
              "      <td>7</td>\n",
              "      <td>4</td>\n",
              "      <td>2</td>\n",
              "      <td>5</td>\n",
              "      <td>3</td>\n",
              "      <td>5</td>\n",
              "      <td>3</td>\n",
              "      <td>5</td>\n",
              "      <td>48</td>\n",
              "      <td>False</td>\n",
              "    </tr>\n",
              "    <tr>\n",
              "      <th>297</th>\n",
              "      <td>298</td>\n",
              "      <td>5</td>\n",
              "      <td>10</td>\n",
              "      <td>7</td>\n",
              "      <td>4</td>\n",
              "      <td>2</td>\n",
              "      <td>5</td>\n",
              "      <td>3</td>\n",
              "      <td>5</td>\n",
              "      <td>3</td>\n",
              "      <td>6</td>\n",
              "      <td>50</td>\n",
              "      <td>True</td>\n",
              "    </tr>\n",
              "    <tr>\n",
              "      <th>298</th>\n",
              "      <td>299</td>\n",
              "      <td>5</td>\n",
              "      <td>3</td>\n",
              "      <td>7</td>\n",
              "      <td>4</td>\n",
              "      <td>2</td>\n",
              "      <td>5</td>\n",
              "      <td>3</td>\n",
              "      <td>5</td>\n",
              "      <td>3</td>\n",
              "      <td>6</td>\n",
              "      <td>43</td>\n",
              "      <td>False</td>\n",
              "    </tr>\n",
              "    <tr>\n",
              "      <th>299</th>\n",
              "      <td>300</td>\n",
              "      <td>5</td>\n",
              "      <td>10</td>\n",
              "      <td>7</td>\n",
              "      <td>4</td>\n",
              "      <td>2</td>\n",
              "      <td>5</td>\n",
              "      <td>3</td>\n",
              "      <td>5</td>\n",
              "      <td>3</td>\n",
              "      <td>6</td>\n",
              "      <td>50</td>\n",
              "      <td>True</td>\n",
              "    </tr>\n",
              "  </tbody>\n",
              "</table>\n",
              "<p>300 rows × 13 columns</p>\n",
              "</div>"
            ],
            "text/plain": [
              "     Student  A (Self Awareness)  ...  Total Score  Result\n",
              "0          1                   5  ...           48   False\n",
              "1          2                   5  ...           50    True\n",
              "2          3                   5  ...           48   False\n",
              "3          4                   5  ...           50    True\n",
              "4          5                   5  ...           43   False\n",
              "..       ...                 ...  ...          ...     ...\n",
              "295      296                   5  ...           50    True\n",
              "296      297                   5  ...           48   False\n",
              "297      298                   5  ...           50    True\n",
              "298      299                   5  ...           43   False\n",
              "299      300                   5  ...           50    True\n",
              "\n",
              "[300 rows x 13 columns]"
            ]
          },
          "metadata": {
            "tags": []
          },
          "execution_count": 57
        }
      ]
    },
    {
      "cell_type": "code",
      "metadata": {
        "id": "V627BT_hoL0e"
      },
      "source": [
        "data[\"Result\"] = data[\"Result\"].astype(str)"
      ],
      "execution_count": 59,
      "outputs": []
    },
    {
      "cell_type": "code",
      "metadata": {
        "id": "ceT1DizOoRII"
      },
      "source": [
        "data.Result = data.Result.replace({\"True\": \"Passed\", \"False\": \"Failed\"})"
      ],
      "execution_count": 60,
      "outputs": []
    },
    {
      "cell_type": "code",
      "metadata": {
        "id": "QgmRDHbAoXri",
        "outputId": "c4e76b4e-dbdd-4485-994e-48542313ad06",
        "colab": {
          "base_uri": "https://localhost:8080/",
          "height": 423
        }
      },
      "source": [
        "data"
      ],
      "execution_count": 61,
      "outputs": [
        {
          "output_type": "execute_result",
          "data": {
            "text/html": [
              "<div>\n",
              "<style scoped>\n",
              "    .dataframe tbody tr th:only-of-type {\n",
              "        vertical-align: middle;\n",
              "    }\n",
              "\n",
              "    .dataframe tbody tr th {\n",
              "        vertical-align: top;\n",
              "    }\n",
              "\n",
              "    .dataframe thead th {\n",
              "        text-align: right;\n",
              "    }\n",
              "</style>\n",
              "<table border=\"1\" class=\"dataframe\">\n",
              "  <thead>\n",
              "    <tr style=\"text-align: right;\">\n",
              "      <th></th>\n",
              "      <th>Student</th>\n",
              "      <th>A (Self Awareness)</th>\n",
              "      <th>B (Empathy)</th>\n",
              "      <th>C (Self Motivation)</th>\n",
              "      <th>D (Emotional Stabilty)</th>\n",
              "      <th>E(Managing Relations)</th>\n",
              "      <th>F (Integrity)</th>\n",
              "      <th>G (Self Development)</th>\n",
              "      <th>H (Value Orientation)</th>\n",
              "      <th>I (Commitment)</th>\n",
              "      <th>J (Altruistic Behaviour)</th>\n",
              "      <th>Total Score</th>\n",
              "      <th>Result</th>\n",
              "    </tr>\n",
              "  </thead>\n",
              "  <tbody>\n",
              "    <tr>\n",
              "      <th>0</th>\n",
              "      <td>1</td>\n",
              "      <td>5</td>\n",
              "      <td>10</td>\n",
              "      <td>3</td>\n",
              "      <td>4</td>\n",
              "      <td>2</td>\n",
              "      <td>7</td>\n",
              "      <td>3</td>\n",
              "      <td>5</td>\n",
              "      <td>3</td>\n",
              "      <td>6</td>\n",
              "      <td>48</td>\n",
              "      <td>Failed</td>\n",
              "    </tr>\n",
              "    <tr>\n",
              "      <th>1</th>\n",
              "      <td>2</td>\n",
              "      <td>5</td>\n",
              "      <td>10</td>\n",
              "      <td>7</td>\n",
              "      <td>4</td>\n",
              "      <td>2</td>\n",
              "      <td>5</td>\n",
              "      <td>3</td>\n",
              "      <td>5</td>\n",
              "      <td>3</td>\n",
              "      <td>6</td>\n",
              "      <td>50</td>\n",
              "      <td>Passed</td>\n",
              "    </tr>\n",
              "    <tr>\n",
              "      <th>2</th>\n",
              "      <td>3</td>\n",
              "      <td>5</td>\n",
              "      <td>9</td>\n",
              "      <td>7</td>\n",
              "      <td>4</td>\n",
              "      <td>2</td>\n",
              "      <td>5</td>\n",
              "      <td>3</td>\n",
              "      <td>5</td>\n",
              "      <td>3</td>\n",
              "      <td>5</td>\n",
              "      <td>48</td>\n",
              "      <td>Failed</td>\n",
              "    </tr>\n",
              "    <tr>\n",
              "      <th>3</th>\n",
              "      <td>4</td>\n",
              "      <td>5</td>\n",
              "      <td>10</td>\n",
              "      <td>7</td>\n",
              "      <td>4</td>\n",
              "      <td>2</td>\n",
              "      <td>5</td>\n",
              "      <td>3</td>\n",
              "      <td>5</td>\n",
              "      <td>3</td>\n",
              "      <td>6</td>\n",
              "      <td>50</td>\n",
              "      <td>Passed</td>\n",
              "    </tr>\n",
              "    <tr>\n",
              "      <th>4</th>\n",
              "      <td>5</td>\n",
              "      <td>5</td>\n",
              "      <td>3</td>\n",
              "      <td>7</td>\n",
              "      <td>4</td>\n",
              "      <td>2</td>\n",
              "      <td>5</td>\n",
              "      <td>3</td>\n",
              "      <td>5</td>\n",
              "      <td>3</td>\n",
              "      <td>6</td>\n",
              "      <td>43</td>\n",
              "      <td>Failed</td>\n",
              "    </tr>\n",
              "    <tr>\n",
              "      <th>...</th>\n",
              "      <td>...</td>\n",
              "      <td>...</td>\n",
              "      <td>...</td>\n",
              "      <td>...</td>\n",
              "      <td>...</td>\n",
              "      <td>...</td>\n",
              "      <td>...</td>\n",
              "      <td>...</td>\n",
              "      <td>...</td>\n",
              "      <td>...</td>\n",
              "      <td>...</td>\n",
              "      <td>...</td>\n",
              "      <td>...</td>\n",
              "    </tr>\n",
              "    <tr>\n",
              "      <th>295</th>\n",
              "      <td>296</td>\n",
              "      <td>5</td>\n",
              "      <td>10</td>\n",
              "      <td>7</td>\n",
              "      <td>4</td>\n",
              "      <td>2</td>\n",
              "      <td>5</td>\n",
              "      <td>3</td>\n",
              "      <td>5</td>\n",
              "      <td>3</td>\n",
              "      <td>6</td>\n",
              "      <td>50</td>\n",
              "      <td>Passed</td>\n",
              "    </tr>\n",
              "    <tr>\n",
              "      <th>296</th>\n",
              "      <td>297</td>\n",
              "      <td>5</td>\n",
              "      <td>9</td>\n",
              "      <td>7</td>\n",
              "      <td>4</td>\n",
              "      <td>2</td>\n",
              "      <td>5</td>\n",
              "      <td>3</td>\n",
              "      <td>5</td>\n",
              "      <td>3</td>\n",
              "      <td>5</td>\n",
              "      <td>48</td>\n",
              "      <td>Failed</td>\n",
              "    </tr>\n",
              "    <tr>\n",
              "      <th>297</th>\n",
              "      <td>298</td>\n",
              "      <td>5</td>\n",
              "      <td>10</td>\n",
              "      <td>7</td>\n",
              "      <td>4</td>\n",
              "      <td>2</td>\n",
              "      <td>5</td>\n",
              "      <td>3</td>\n",
              "      <td>5</td>\n",
              "      <td>3</td>\n",
              "      <td>6</td>\n",
              "      <td>50</td>\n",
              "      <td>Passed</td>\n",
              "    </tr>\n",
              "    <tr>\n",
              "      <th>298</th>\n",
              "      <td>299</td>\n",
              "      <td>5</td>\n",
              "      <td>3</td>\n",
              "      <td>7</td>\n",
              "      <td>4</td>\n",
              "      <td>2</td>\n",
              "      <td>5</td>\n",
              "      <td>3</td>\n",
              "      <td>5</td>\n",
              "      <td>3</td>\n",
              "      <td>6</td>\n",
              "      <td>43</td>\n",
              "      <td>Failed</td>\n",
              "    </tr>\n",
              "    <tr>\n",
              "      <th>299</th>\n",
              "      <td>300</td>\n",
              "      <td>5</td>\n",
              "      <td>10</td>\n",
              "      <td>7</td>\n",
              "      <td>4</td>\n",
              "      <td>2</td>\n",
              "      <td>5</td>\n",
              "      <td>3</td>\n",
              "      <td>5</td>\n",
              "      <td>3</td>\n",
              "      <td>6</td>\n",
              "      <td>50</td>\n",
              "      <td>Passed</td>\n",
              "    </tr>\n",
              "  </tbody>\n",
              "</table>\n",
              "<p>300 rows × 13 columns</p>\n",
              "</div>"
            ],
            "text/plain": [
              "     Student  A (Self Awareness)  ...  Total Score  Result\n",
              "0          1                   5  ...           48  Failed\n",
              "1          2                   5  ...           50  Passed\n",
              "2          3                   5  ...           48  Failed\n",
              "3          4                   5  ...           50  Passed\n",
              "4          5                   5  ...           43  Failed\n",
              "..       ...                 ...  ...          ...     ...\n",
              "295      296                   5  ...           50  Passed\n",
              "296      297                   5  ...           48  Failed\n",
              "297      298                   5  ...           50  Passed\n",
              "298      299                   5  ...           43  Failed\n",
              "299      300                   5  ...           50  Passed\n",
              "\n",
              "[300 rows x 13 columns]"
            ]
          },
          "metadata": {
            "tags": []
          },
          "execution_count": 61
        }
      ]
    },
    {
      "cell_type": "code",
      "metadata": {
        "id": "qzuobQkZod5l",
        "outputId": "dc3724cd-be07-4ea8-b0db-7a493ae6851a",
        "colab": {
          "base_uri": "https://localhost:8080/"
        }
      },
      "source": [
        "data[\"Result\"].value_counts()"
      ],
      "execution_count": 62,
      "outputs": [
        {
          "output_type": "execute_result",
          "data": {
            "text/plain": [
              "Passed    204\n",
              "Failed     96\n",
              "Name: Result, dtype: int64"
            ]
          },
          "metadata": {
            "tags": []
          },
          "execution_count": 62
        }
      ]
    }
  ]
}