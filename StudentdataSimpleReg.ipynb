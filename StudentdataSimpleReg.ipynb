{
  "nbformat": 4,
  "nbformat_minor": 0,
  "metadata": {
    "colab": {
      "name": "StudentdataSimpleReg.ipynb",
      "provenance": [],
      "collapsed_sections": [],
      "toc_visible": true,
      "include_colab_link": true
    },
    "kernelspec": {
      "name": "python3",
      "display_name": "Python 3"
    },
    "language_info": {
      "name": "python"
    }
  },
  "cells": [
    {
      "cell_type": "markdown",
      "metadata": {
        "id": "view-in-github",
        "colab_type": "text"
      },
      "source": [
        "<a href=\"https://colab.research.google.com/github/Vrushali9-collab/statsmodels-linear-regression/blob/main/StudentdataSimpleReg.ipynb\" target=\"_parent\"><img src=\"https://colab.research.google.com/assets/colab-badge.svg\" alt=\"Open In Colab\"/></a>"
      ]
    },
    {
      "cell_type": "markdown",
      "metadata": {
        "id": "36AKKbxSysGt"
      },
      "source": [
        "### **Importing lib**"
      ]
    },
    {
      "cell_type": "code",
      "metadata": {
        "id": "-vuA5SR6dOj4"
      },
      "source": [
        "import pandas as pd\n",
        "import numpy as np\n",
        "import seaborn as sns\n",
        "import matplotlib.pyplot as plt\n",
        "import statsmodels.api as sm\n",
        "sns.set_style(\"whitegrid\")\n"
      ],
      "execution_count": 89,
      "outputs": []
    },
    {
      "cell_type": "markdown",
      "metadata": {
        "id": "PoDt8Md1y4iM"
      },
      "source": [
        "## **Importing dataset**"
      ]
    },
    {
      "cell_type": "code",
      "metadata": {
        "id": "feyUFuFXdXSB"
      },
      "source": [
        "#importing dataset\n",
        "data=pd.read_csv('/content/personality test.csv')"
      ],
      "execution_count": 62,
      "outputs": []
    },
    {
      "cell_type": "code",
      "metadata": {
        "colab": {
          "base_uri": "https://localhost:8080/"
        },
        "id": "NRWkwRm21fdv",
        "outputId": "fc7c74e7-498c-4a40-91dc-aa2980a2c36c"
      },
      "source": [
        "data.count()"
      ],
      "execution_count": 63,
      "outputs": [
        {
          "output_type": "execute_result",
          "data": {
            "text/plain": [
              "Student                     300\n",
              "A (Self Awareness)          300\n",
              "B (Empathy)                 300\n",
              "C (Self Motivation)         300\n",
              "D (Emotional Stabilty)      300\n",
              "E(Managing Relations)       300\n",
              "F (Integrity)               300\n",
              "G (Self Development)        300\n",
              "H (Value Orientation)       300\n",
              "I (Commitment)              300\n",
              "J (Altruistic Behaviour)    300\n",
              "Total Score                 300\n",
              "dtype: int64"
            ]
          },
          "metadata": {
            "tags": []
          },
          "execution_count": 63
        }
      ]
    },
    {
      "cell_type": "code",
      "metadata": {
        "colab": {
          "base_uri": "https://localhost:8080/"
        },
        "id": "C05gsk8BdxNw",
        "outputId": "4b848641-477d-4a03-868f-d664118ef8d0"
      },
      "source": [
        "data.shape"
      ],
      "execution_count": 64,
      "outputs": [
        {
          "output_type": "execute_result",
          "data": {
            "text/plain": [
              "(300, 12)"
            ]
          },
          "metadata": {
            "tags": []
          },
          "execution_count": 64
        }
      ]
    },
    {
      "cell_type": "code",
      "metadata": {
        "colab": {
          "base_uri": "https://localhost:8080/",
          "height": 392
        },
        "id": "JmqwjNrOd0Pw",
        "outputId": "6a262376-ba1c-4e41-d477-b674975bc195"
      },
      "source": [
        "data.describe().T"
      ],
      "execution_count": 65,
      "outputs": [
        {
          "output_type": "execute_result",
          "data": {
            "text/html": [
              "<div>\n",
              "<style scoped>\n",
              "    .dataframe tbody tr th:only-of-type {\n",
              "        vertical-align: middle;\n",
              "    }\n",
              "\n",
              "    .dataframe tbody tr th {\n",
              "        vertical-align: top;\n",
              "    }\n",
              "\n",
              "    .dataframe thead th {\n",
              "        text-align: right;\n",
              "    }\n",
              "</style>\n",
              "<table border=\"1\" class=\"dataframe\">\n",
              "  <thead>\n",
              "    <tr style=\"text-align: right;\">\n",
              "      <th></th>\n",
              "      <th>count</th>\n",
              "      <th>mean</th>\n",
              "      <th>std</th>\n",
              "      <th>min</th>\n",
              "      <th>25%</th>\n",
              "      <th>50%</th>\n",
              "      <th>75%</th>\n",
              "      <th>max</th>\n",
              "    </tr>\n",
              "  </thead>\n",
              "  <tbody>\n",
              "    <tr>\n",
              "      <th>Student</th>\n",
              "      <td>300.0</td>\n",
              "      <td>150.500000</td>\n",
              "      <td>86.746758</td>\n",
              "      <td>1.0</td>\n",
              "      <td>75.75</td>\n",
              "      <td>150.5</td>\n",
              "      <td>225.25</td>\n",
              "      <td>300.0</td>\n",
              "    </tr>\n",
              "    <tr>\n",
              "      <th>A (Self Awareness)</th>\n",
              "      <td>300.0</td>\n",
              "      <td>4.333333</td>\n",
              "      <td>1.456925</td>\n",
              "      <td>1.0</td>\n",
              "      <td>5.00</td>\n",
              "      <td>5.0</td>\n",
              "      <td>5.00</td>\n",
              "      <td>5.0</td>\n",
              "    </tr>\n",
              "    <tr>\n",
              "      <th>B (Empathy)</th>\n",
              "      <td>300.0</td>\n",
              "      <td>9.413333</td>\n",
              "      <td>4.013667</td>\n",
              "      <td>0.0</td>\n",
              "      <td>5.75</td>\n",
              "      <td>10.0</td>\n",
              "      <td>12.00</td>\n",
              "      <td>16.0</td>\n",
              "    </tr>\n",
              "    <tr>\n",
              "      <th>C (Self Motivation)</th>\n",
              "      <td>300.0</td>\n",
              "      <td>9.276667</td>\n",
              "      <td>3.917219</td>\n",
              "      <td>0.0</td>\n",
              "      <td>7.00</td>\n",
              "      <td>9.0</td>\n",
              "      <td>13.00</td>\n",
              "      <td>19.0</td>\n",
              "    </tr>\n",
              "    <tr>\n",
              "      <th>D (Emotional Stabilty)</th>\n",
              "      <td>300.0</td>\n",
              "      <td>6.813333</td>\n",
              "      <td>3.710938</td>\n",
              "      <td>1.0</td>\n",
              "      <td>4.00</td>\n",
              "      <td>7.0</td>\n",
              "      <td>11.00</td>\n",
              "      <td>15.0</td>\n",
              "    </tr>\n",
              "    <tr>\n",
              "      <th>E(Managing Relations)</th>\n",
              "      <td>300.0</td>\n",
              "      <td>6.046667</td>\n",
              "      <td>3.686433</td>\n",
              "      <td>2.0</td>\n",
              "      <td>3.00</td>\n",
              "      <td>5.0</td>\n",
              "      <td>10.00</td>\n",
              "      <td>16.0</td>\n",
              "    </tr>\n",
              "    <tr>\n",
              "      <th>F (Integrity)</th>\n",
              "      <td>300.0</td>\n",
              "      <td>4.786667</td>\n",
              "      <td>1.909619</td>\n",
              "      <td>1.0</td>\n",
              "      <td>3.00</td>\n",
              "      <td>5.0</td>\n",
              "      <td>6.00</td>\n",
              "      <td>11.0</td>\n",
              "    </tr>\n",
              "    <tr>\n",
              "      <th>G (Self Development)</th>\n",
              "      <td>300.0</td>\n",
              "      <td>4.100000</td>\n",
              "      <td>2.546556</td>\n",
              "      <td>0.0</td>\n",
              "      <td>3.00</td>\n",
              "      <td>3.0</td>\n",
              "      <td>6.00</td>\n",
              "      <td>10.0</td>\n",
              "    </tr>\n",
              "    <tr>\n",
              "      <th>H (Value Orientation)</th>\n",
              "      <td>300.0</td>\n",
              "      <td>4.436667</td>\n",
              "      <td>2.523334</td>\n",
              "      <td>0.0</td>\n",
              "      <td>2.00</td>\n",
              "      <td>5.0</td>\n",
              "      <td>6.00</td>\n",
              "      <td>9.0</td>\n",
              "    </tr>\n",
              "    <tr>\n",
              "      <th>I (Commitment)</th>\n",
              "      <td>300.0</td>\n",
              "      <td>4.160000</td>\n",
              "      <td>2.858023</td>\n",
              "      <td>0.0</td>\n",
              "      <td>3.00</td>\n",
              "      <td>3.0</td>\n",
              "      <td>6.00</td>\n",
              "      <td>11.0</td>\n",
              "    </tr>\n",
              "    <tr>\n",
              "      <th>J (Altruistic Behaviour)</th>\n",
              "      <td>300.0</td>\n",
              "      <td>5.270000</td>\n",
              "      <td>3.078206</td>\n",
              "      <td>0.0</td>\n",
              "      <td>4.00</td>\n",
              "      <td>5.0</td>\n",
              "      <td>6.00</td>\n",
              "      <td>16.0</td>\n",
              "    </tr>\n",
              "    <tr>\n",
              "      <th>Total Score</th>\n",
              "      <td>300.0</td>\n",
              "      <td>58.636667</td>\n",
              "      <td>26.305473</td>\n",
              "      <td>16.0</td>\n",
              "      <td>44.00</td>\n",
              "      <td>50.0</td>\n",
              "      <td>78.25</td>\n",
              "      <td>111.0</td>\n",
              "    </tr>\n",
              "  </tbody>\n",
              "</table>\n",
              "</div>"
            ],
            "text/plain": [
              "                          count        mean        std  ...    50%     75%    max\n",
              "Student                   300.0  150.500000  86.746758  ...  150.5  225.25  300.0\n",
              "A (Self Awareness)        300.0    4.333333   1.456925  ...    5.0    5.00    5.0\n",
              "B (Empathy)               300.0    9.413333   4.013667  ...   10.0   12.00   16.0\n",
              "C (Self Motivation)       300.0    9.276667   3.917219  ...    9.0   13.00   19.0\n",
              "D (Emotional Stabilty)    300.0    6.813333   3.710938  ...    7.0   11.00   15.0\n",
              "E(Managing Relations)     300.0    6.046667   3.686433  ...    5.0   10.00   16.0\n",
              "F (Integrity)             300.0    4.786667   1.909619  ...    5.0    6.00   11.0\n",
              "G (Self Development)      300.0    4.100000   2.546556  ...    3.0    6.00   10.0\n",
              "H (Value Orientation)     300.0    4.436667   2.523334  ...    5.0    6.00    9.0\n",
              "I (Commitment)            300.0    4.160000   2.858023  ...    3.0    6.00   11.0\n",
              "J (Altruistic Behaviour)  300.0    5.270000   3.078206  ...    5.0    6.00   16.0\n",
              "Total Score               300.0   58.636667  26.305473  ...   50.0   78.25  111.0\n",
              "\n",
              "[12 rows x 8 columns]"
            ]
          },
          "metadata": {
            "tags": []
          },
          "execution_count": 65
        }
      ]
    },
    {
      "cell_type": "code",
      "metadata": {
        "colab": {
          "base_uri": "https://localhost:8080/",
          "height": 555
        },
        "id": "bQV9taTM6JDI",
        "outputId": "1f151081-1e58-4428-8051-44b2124e4539"
      },
      "source": [
        "data.corr()"
      ],
      "execution_count": 83,
      "outputs": [
        {
          "output_type": "execute_result",
          "data": {
            "text/html": [
              "<div>\n",
              "<style scoped>\n",
              "    .dataframe tbody tr th:only-of-type {\n",
              "        vertical-align: middle;\n",
              "    }\n",
              "\n",
              "    .dataframe tbody tr th {\n",
              "        vertical-align: top;\n",
              "    }\n",
              "\n",
              "    .dataframe thead th {\n",
              "        text-align: right;\n",
              "    }\n",
              "</style>\n",
              "<table border=\"1\" class=\"dataframe\">\n",
              "  <thead>\n",
              "    <tr style=\"text-align: right;\">\n",
              "      <th></th>\n",
              "      <th>Student</th>\n",
              "      <th>A (Self Awareness)</th>\n",
              "      <th>B (Empathy)</th>\n",
              "      <th>C (Self Motivation)</th>\n",
              "      <th>D (Emotional Stabilty)</th>\n",
              "      <th>E(Managing Relations)</th>\n",
              "      <th>F (Integrity)</th>\n",
              "      <th>G (Self Development)</th>\n",
              "      <th>H (Value Orientation)</th>\n",
              "      <th>I (Commitment)</th>\n",
              "      <th>J (Altruistic Behaviour)</th>\n",
              "      <th>Total Score</th>\n",
              "    </tr>\n",
              "  </thead>\n",
              "  <tbody>\n",
              "    <tr>\n",
              "      <th>Student</th>\n",
              "      <td>1.000000</td>\n",
              "      <td>-0.304483</td>\n",
              "      <td>-0.120150</td>\n",
              "      <td>-0.149175</td>\n",
              "      <td>-0.111624</td>\n",
              "      <td>-0.055754</td>\n",
              "      <td>-0.193215</td>\n",
              "      <td>-0.069583</td>\n",
              "      <td>-0.113257</td>\n",
              "      <td>-0.052948</td>\n",
              "      <td>-0.119946</td>\n",
              "      <td>-0.132385</td>\n",
              "    </tr>\n",
              "    <tr>\n",
              "      <th>A (Self Awareness)</th>\n",
              "      <td>-0.304483</td>\n",
              "      <td>1.000000</td>\n",
              "      <td>0.664975</td>\n",
              "      <td>0.595593</td>\n",
              "      <td>0.622102</td>\n",
              "      <td>0.381928</td>\n",
              "      <td>0.660360</td>\n",
              "      <td>0.562500</td>\n",
              "      <td>0.627114</td>\n",
              "      <td>0.509231</td>\n",
              "      <td>0.639854</td>\n",
              "      <td>0.679570</td>\n",
              "    </tr>\n",
              "    <tr>\n",
              "      <th>B (Empathy)</th>\n",
              "      <td>-0.120150</td>\n",
              "      <td>0.664975</td>\n",
              "      <td>1.000000</td>\n",
              "      <td>0.769771</td>\n",
              "      <td>0.799414</td>\n",
              "      <td>0.672511</td>\n",
              "      <td>0.770366</td>\n",
              "      <td>0.805147</td>\n",
              "      <td>0.798111</td>\n",
              "      <td>0.775002</td>\n",
              "      <td>0.775699</td>\n",
              "      <td>0.896455</td>\n",
              "    </tr>\n",
              "    <tr>\n",
              "      <th>C (Self Motivation)</th>\n",
              "      <td>-0.149175</td>\n",
              "      <td>0.595593</td>\n",
              "      <td>0.769771</td>\n",
              "      <td>1.000000</td>\n",
              "      <td>0.850236</td>\n",
              "      <td>0.801608</td>\n",
              "      <td>0.753232</td>\n",
              "      <td>0.798518</td>\n",
              "      <td>0.706409</td>\n",
              "      <td>0.762585</td>\n",
              "      <td>0.676937</td>\n",
              "      <td>0.893442</td>\n",
              "    </tr>\n",
              "    <tr>\n",
              "      <th>D (Emotional Stabilty)</th>\n",
              "      <td>-0.111624</td>\n",
              "      <td>0.622102</td>\n",
              "      <td>0.799414</td>\n",
              "      <td>0.850236</td>\n",
              "      <td>1.000000</td>\n",
              "      <td>0.874890</td>\n",
              "      <td>0.722113</td>\n",
              "      <td>0.877199</td>\n",
              "      <td>0.732353</td>\n",
              "      <td>0.846045</td>\n",
              "      <td>0.730531</td>\n",
              "      <td>0.931714</td>\n",
              "    </tr>\n",
              "    <tr>\n",
              "      <th>E(Managing Relations)</th>\n",
              "      <td>-0.055754</td>\n",
              "      <td>0.381928</td>\n",
              "      <td>0.672511</td>\n",
              "      <td>0.801608</td>\n",
              "      <td>0.874890</td>\n",
              "      <td>1.000000</td>\n",
              "      <td>0.616185</td>\n",
              "      <td>0.798596</td>\n",
              "      <td>0.594639</td>\n",
              "      <td>0.761136</td>\n",
              "      <td>0.578326</td>\n",
              "      <td>0.836146</td>\n",
              "    </tr>\n",
              "    <tr>\n",
              "      <th>F (Integrity)</th>\n",
              "      <td>-0.193215</td>\n",
              "      <td>0.660360</td>\n",
              "      <td>0.770366</td>\n",
              "      <td>0.753232</td>\n",
              "      <td>0.722113</td>\n",
              "      <td>0.616185</td>\n",
              "      <td>1.000000</td>\n",
              "      <td>0.761611</td>\n",
              "      <td>0.845348</td>\n",
              "      <td>0.779012</td>\n",
              "      <td>0.773950</td>\n",
              "      <td>0.857119</td>\n",
              "    </tr>\n",
              "    <tr>\n",
              "      <th>G (Self Development)</th>\n",
              "      <td>-0.069583</td>\n",
              "      <td>0.562500</td>\n",
              "      <td>0.805147</td>\n",
              "      <td>0.798518</td>\n",
              "      <td>0.877199</td>\n",
              "      <td>0.798596</td>\n",
              "      <td>0.761611</td>\n",
              "      <td>1.000000</td>\n",
              "      <td>0.896728</td>\n",
              "      <td>0.939362</td>\n",
              "      <td>0.857536</td>\n",
              "      <td>0.949094</td>\n",
              "    </tr>\n",
              "    <tr>\n",
              "      <th>H (Value Orientation)</th>\n",
              "      <td>-0.113257</td>\n",
              "      <td>0.627114</td>\n",
              "      <td>0.798111</td>\n",
              "      <td>0.706409</td>\n",
              "      <td>0.732353</td>\n",
              "      <td>0.594639</td>\n",
              "      <td>0.845348</td>\n",
              "      <td>0.896728</td>\n",
              "      <td>1.000000</td>\n",
              "      <td>0.885790</td>\n",
              "      <td>0.902342</td>\n",
              "      <td>0.894277</td>\n",
              "    </tr>\n",
              "    <tr>\n",
              "      <th>I (Commitment)</th>\n",
              "      <td>-0.052948</td>\n",
              "      <td>0.509231</td>\n",
              "      <td>0.775002</td>\n",
              "      <td>0.762585</td>\n",
              "      <td>0.846045</td>\n",
              "      <td>0.761136</td>\n",
              "      <td>0.779012</td>\n",
              "      <td>0.939362</td>\n",
              "      <td>0.885790</td>\n",
              "      <td>1.000000</td>\n",
              "      <td>0.893769</td>\n",
              "      <td>0.931721</td>\n",
              "    </tr>\n",
              "    <tr>\n",
              "      <th>J (Altruistic Behaviour)</th>\n",
              "      <td>-0.119946</td>\n",
              "      <td>0.639854</td>\n",
              "      <td>0.775699</td>\n",
              "      <td>0.676937</td>\n",
              "      <td>0.730531</td>\n",
              "      <td>0.578326</td>\n",
              "      <td>0.773950</td>\n",
              "      <td>0.857536</td>\n",
              "      <td>0.902342</td>\n",
              "      <td>0.893769</td>\n",
              "      <td>1.000000</td>\n",
              "      <td>0.878581</td>\n",
              "    </tr>\n",
              "    <tr>\n",
              "      <th>Total Score</th>\n",
              "      <td>-0.132385</td>\n",
              "      <td>0.679570</td>\n",
              "      <td>0.896455</td>\n",
              "      <td>0.893442</td>\n",
              "      <td>0.931714</td>\n",
              "      <td>0.836146</td>\n",
              "      <td>0.857119</td>\n",
              "      <td>0.949094</td>\n",
              "      <td>0.894277</td>\n",
              "      <td>0.931721</td>\n",
              "      <td>0.878581</td>\n",
              "      <td>1.000000</td>\n",
              "    </tr>\n",
              "  </tbody>\n",
              "</table>\n",
              "</div>"
            ],
            "text/plain": [
              "                           Student  ...  Total Score\n",
              "Student                   1.000000  ...    -0.132385\n",
              "A (Self Awareness)       -0.304483  ...     0.679570\n",
              "B (Empathy)              -0.120150  ...     0.896455\n",
              "C (Self Motivation)      -0.149175  ...     0.893442\n",
              "D (Emotional Stabilty)   -0.111624  ...     0.931714\n",
              "E(Managing Relations)    -0.055754  ...     0.836146\n",
              "F (Integrity)            -0.193215  ...     0.857119\n",
              "G (Self Development)     -0.069583  ...     0.949094\n",
              "H (Value Orientation)    -0.113257  ...     0.894277\n",
              "I (Commitment)           -0.052948  ...     0.931721\n",
              "J (Altruistic Behaviour) -0.119946  ...     0.878581\n",
              "Total Score              -0.132385  ...     1.000000\n",
              "\n",
              "[12 rows x 12 columns]"
            ]
          },
          "metadata": {
            "tags": []
          },
          "execution_count": 83
        }
      ]
    },
    {
      "cell_type": "code",
      "metadata": {
        "colab": {
          "base_uri": "https://localhost:8080/",
          "height": 407
        },
        "id": "QCKrbgG-6S0N",
        "outputId": "d861a97f-83a5-4781-ef33-029d11e6cfdc"
      },
      "source": [
        "data.isnull()"
      ],
      "execution_count": 84,
      "outputs": [
        {
          "output_type": "execute_result",
          "data": {
            "text/html": [
              "<div>\n",
              "<style scoped>\n",
              "    .dataframe tbody tr th:only-of-type {\n",
              "        vertical-align: middle;\n",
              "    }\n",
              "\n",
              "    .dataframe tbody tr th {\n",
              "        vertical-align: top;\n",
              "    }\n",
              "\n",
              "    .dataframe thead th {\n",
              "        text-align: right;\n",
              "    }\n",
              "</style>\n",
              "<table border=\"1\" class=\"dataframe\">\n",
              "  <thead>\n",
              "    <tr style=\"text-align: right;\">\n",
              "      <th></th>\n",
              "      <th>Student</th>\n",
              "      <th>A (Self Awareness)</th>\n",
              "      <th>B (Empathy)</th>\n",
              "      <th>C (Self Motivation)</th>\n",
              "      <th>D (Emotional Stabilty)</th>\n",
              "      <th>E(Managing Relations)</th>\n",
              "      <th>F (Integrity)</th>\n",
              "      <th>G (Self Development)</th>\n",
              "      <th>H (Value Orientation)</th>\n",
              "      <th>I (Commitment)</th>\n",
              "      <th>J (Altruistic Behaviour)</th>\n",
              "      <th>Total Score</th>\n",
              "    </tr>\n",
              "  </thead>\n",
              "  <tbody>\n",
              "    <tr>\n",
              "      <th>0</th>\n",
              "      <td>False</td>\n",
              "      <td>False</td>\n",
              "      <td>False</td>\n",
              "      <td>False</td>\n",
              "      <td>False</td>\n",
              "      <td>False</td>\n",
              "      <td>False</td>\n",
              "      <td>False</td>\n",
              "      <td>False</td>\n",
              "      <td>False</td>\n",
              "      <td>False</td>\n",
              "      <td>False</td>\n",
              "    </tr>\n",
              "    <tr>\n",
              "      <th>1</th>\n",
              "      <td>False</td>\n",
              "      <td>False</td>\n",
              "      <td>False</td>\n",
              "      <td>False</td>\n",
              "      <td>False</td>\n",
              "      <td>False</td>\n",
              "      <td>False</td>\n",
              "      <td>False</td>\n",
              "      <td>False</td>\n",
              "      <td>False</td>\n",
              "      <td>False</td>\n",
              "      <td>False</td>\n",
              "    </tr>\n",
              "    <tr>\n",
              "      <th>2</th>\n",
              "      <td>False</td>\n",
              "      <td>False</td>\n",
              "      <td>False</td>\n",
              "      <td>False</td>\n",
              "      <td>False</td>\n",
              "      <td>False</td>\n",
              "      <td>False</td>\n",
              "      <td>False</td>\n",
              "      <td>False</td>\n",
              "      <td>False</td>\n",
              "      <td>False</td>\n",
              "      <td>False</td>\n",
              "    </tr>\n",
              "    <tr>\n",
              "      <th>3</th>\n",
              "      <td>False</td>\n",
              "      <td>False</td>\n",
              "      <td>False</td>\n",
              "      <td>False</td>\n",
              "      <td>False</td>\n",
              "      <td>False</td>\n",
              "      <td>False</td>\n",
              "      <td>False</td>\n",
              "      <td>False</td>\n",
              "      <td>False</td>\n",
              "      <td>False</td>\n",
              "      <td>False</td>\n",
              "    </tr>\n",
              "    <tr>\n",
              "      <th>4</th>\n",
              "      <td>False</td>\n",
              "      <td>False</td>\n",
              "      <td>False</td>\n",
              "      <td>False</td>\n",
              "      <td>False</td>\n",
              "      <td>False</td>\n",
              "      <td>False</td>\n",
              "      <td>False</td>\n",
              "      <td>False</td>\n",
              "      <td>False</td>\n",
              "      <td>False</td>\n",
              "      <td>False</td>\n",
              "    </tr>\n",
              "    <tr>\n",
              "      <th>...</th>\n",
              "      <td>...</td>\n",
              "      <td>...</td>\n",
              "      <td>...</td>\n",
              "      <td>...</td>\n",
              "      <td>...</td>\n",
              "      <td>...</td>\n",
              "      <td>...</td>\n",
              "      <td>...</td>\n",
              "      <td>...</td>\n",
              "      <td>...</td>\n",
              "      <td>...</td>\n",
              "      <td>...</td>\n",
              "    </tr>\n",
              "    <tr>\n",
              "      <th>295</th>\n",
              "      <td>False</td>\n",
              "      <td>False</td>\n",
              "      <td>False</td>\n",
              "      <td>False</td>\n",
              "      <td>False</td>\n",
              "      <td>False</td>\n",
              "      <td>False</td>\n",
              "      <td>False</td>\n",
              "      <td>False</td>\n",
              "      <td>False</td>\n",
              "      <td>False</td>\n",
              "      <td>False</td>\n",
              "    </tr>\n",
              "    <tr>\n",
              "      <th>296</th>\n",
              "      <td>False</td>\n",
              "      <td>False</td>\n",
              "      <td>False</td>\n",
              "      <td>False</td>\n",
              "      <td>False</td>\n",
              "      <td>False</td>\n",
              "      <td>False</td>\n",
              "      <td>False</td>\n",
              "      <td>False</td>\n",
              "      <td>False</td>\n",
              "      <td>False</td>\n",
              "      <td>False</td>\n",
              "    </tr>\n",
              "    <tr>\n",
              "      <th>297</th>\n",
              "      <td>False</td>\n",
              "      <td>False</td>\n",
              "      <td>False</td>\n",
              "      <td>False</td>\n",
              "      <td>False</td>\n",
              "      <td>False</td>\n",
              "      <td>False</td>\n",
              "      <td>False</td>\n",
              "      <td>False</td>\n",
              "      <td>False</td>\n",
              "      <td>False</td>\n",
              "      <td>False</td>\n",
              "    </tr>\n",
              "    <tr>\n",
              "      <th>298</th>\n",
              "      <td>False</td>\n",
              "      <td>False</td>\n",
              "      <td>False</td>\n",
              "      <td>False</td>\n",
              "      <td>False</td>\n",
              "      <td>False</td>\n",
              "      <td>False</td>\n",
              "      <td>False</td>\n",
              "      <td>False</td>\n",
              "      <td>False</td>\n",
              "      <td>False</td>\n",
              "      <td>False</td>\n",
              "    </tr>\n",
              "    <tr>\n",
              "      <th>299</th>\n",
              "      <td>False</td>\n",
              "      <td>False</td>\n",
              "      <td>False</td>\n",
              "      <td>False</td>\n",
              "      <td>False</td>\n",
              "      <td>False</td>\n",
              "      <td>False</td>\n",
              "      <td>False</td>\n",
              "      <td>False</td>\n",
              "      <td>False</td>\n",
              "      <td>False</td>\n",
              "      <td>False</td>\n",
              "    </tr>\n",
              "  </tbody>\n",
              "</table>\n",
              "<p>300 rows × 12 columns</p>\n",
              "</div>"
            ],
            "text/plain": [
              "     Student  A (Self Awareness)  ...  J (Altruistic Behaviour)  Total Score\n",
              "0      False               False  ...                     False        False\n",
              "1      False               False  ...                     False        False\n",
              "2      False               False  ...                     False        False\n",
              "3      False               False  ...                     False        False\n",
              "4      False               False  ...                     False        False\n",
              "..       ...                 ...  ...                       ...          ...\n",
              "295    False               False  ...                     False        False\n",
              "296    False               False  ...                     False        False\n",
              "297    False               False  ...                     False        False\n",
              "298    False               False  ...                     False        False\n",
              "299    False               False  ...                     False        False\n",
              "\n",
              "[300 rows x 12 columns]"
            ]
          },
          "metadata": {
            "tags": []
          },
          "execution_count": 84
        }
      ]
    },
    {
      "cell_type": "code",
      "metadata": {
        "id": "e7bjCZnod4fU"
      },
      "source": [
        "#spliting data into dependent and independent data \n",
        "x = data.iloc[:, :-1].values\n",
        "y = data.iloc[:, -1].values\n"
      ],
      "execution_count": 90,
      "outputs": []
    },
    {
      "cell_type": "code",
      "metadata": {
        "colab": {
          "base_uri": "https://localhost:8080/"
        },
        "id": "rAasliMZ0vMa",
        "outputId": "310f2738-a698-4a5a-a4d1-d9a8171fe6cc"
      },
      "source": [
        "x.shape"
      ],
      "execution_count": 91,
      "outputs": [
        {
          "output_type": "execute_result",
          "data": {
            "text/plain": [
              "(300, 11)"
            ]
          },
          "metadata": {
            "tags": []
          },
          "execution_count": 91
        }
      ]
    },
    {
      "cell_type": "code",
      "metadata": {
        "colab": {
          "base_uri": "https://localhost:8080/"
        },
        "id": "e4cR0Db60xUf",
        "outputId": "105a3e6e-9316-4d74-dc3f-d1413c3c696a"
      },
      "source": [
        "y.shape"
      ],
      "execution_count": 92,
      "outputs": [
        {
          "output_type": "execute_result",
          "data": {
            "text/plain": [
              "(300,)"
            ]
          },
          "metadata": {
            "tags": []
          },
          "execution_count": 92
        }
      ]
    },
    {
      "cell_type": "markdown",
      "metadata": {
        "id": "JgIMUHKHzFwd"
      },
      "source": [
        "## **Splitting dataset into traing and test**"
      ]
    },
    {
      "cell_type": "code",
      "metadata": {
        "id": "qU2LenqyvIZ_",
        "colab": {
          "base_uri": "https://localhost:8080/"
        },
        "outputId": "bf9fe222-02a2-4c67-ba86-fdc758870ca7"
      },
      "source": [
        "from sklearn.model_selection import train_test_split\n",
        "x_train,x_test,y_train,y_test=train_test_split(x,y,test_size=0.30,random_state=0)\n",
        "\n",
        "print(x_train.shape, x_test.shape, y_train.shape, y_test.shape)"
      ],
      "execution_count": 93,
      "outputs": [
        {
          "output_type": "stream",
          "text": [
            "(210, 11) (90, 11) (210,) (90,)\n"
          ],
          "name": "stdout"
        }
      ]
    },
    {
      "cell_type": "markdown",
      "metadata": {
        "id": "X86j60a_3n39"
      },
      "source": [
        "## **Training the Sample Linear Regression model on Training test**\n",
        "\n",
        "\n",
        "\n"
      ]
    },
    {
      "cell_type": "code",
      "metadata": {
        "id": "L8lJfeio30tk",
        "colab": {
          "base_uri": "https://localhost:8080/"
        },
        "outputId": "d09e79e8-7b68-4c9a-b796-fcbff63eee8e"
      },
      "source": [
        "from sklearn.linear_model import LinearRegression\n",
        "lr=LinearRegression()\n",
        "lr.fit(x_train,y_train)"
      ],
      "execution_count": 94,
      "outputs": [
        {
          "output_type": "execute_result",
          "data": {
            "text/plain": [
              "LinearRegression(copy_X=True, fit_intercept=True, n_jobs=None, normalize=False)"
            ]
          },
          "metadata": {
            "tags": []
          },
          "execution_count": 94
        }
      ]
    },
    {
      "cell_type": "code",
      "metadata": {
        "colab": {
          "base_uri": "https://localhost:8080/"
        },
        "id": "PefAnw58ZnNG",
        "outputId": "fe3c7d51-7d5f-4569-f32b-d6a921e12744"
      },
      "source": [
        "x_train.shape"
      ],
      "execution_count": 79,
      "outputs": [
        {
          "output_type": "execute_result",
          "data": {
            "text/plain": [
              "(210, 10)"
            ]
          },
          "metadata": {
            "tags": []
          },
          "execution_count": 79
        }
      ]
    },
    {
      "cell_type": "code",
      "metadata": {
        "colab": {
          "base_uri": "https://localhost:8080/"
        },
        "id": "g1SYhk5JaPRb",
        "outputId": "c3456e77-2734-4a99-f0cc-b0e85cda9ac3"
      },
      "source": [
        "y_train.shape"
      ],
      "execution_count": 80,
      "outputs": [
        {
          "output_type": "execute_result",
          "data": {
            "text/plain": [
              "(210,)"
            ]
          },
          "metadata": {
            "tags": []
          },
          "execution_count": 80
        }
      ]
    },
    {
      "cell_type": "markdown",
      "metadata": {
        "id": "_e71RjIptoJ6"
      },
      "source": [
        "## **Predicting test set result**"
      ]
    },
    {
      "cell_type": "code",
      "metadata": {
        "id": "GWRHXBy1tnR4",
        "colab": {
          "base_uri": "https://localhost:8080/"
        },
        "outputId": "8ddcb163-c477-457b-9d31-e322d6d8de31"
      },
      "source": [
        "y_pred=lr.predict(x_test)\n",
        "y_pred"
      ],
      "execution_count": 95,
      "outputs": [
        {
          "output_type": "execute_result",
          "data": {
            "text/plain": [
              "array([ 50.,  18.,  50.,  47.,  56.,  50.,  78., 103.,  60., 102.,  78.,\n",
              "        51.,  22.,  19.,  50.,  70.,  22.,  82.,  58.,  21.,  19.,  79.,\n",
              "       102.,  50.,  50.,  96.,  23.,  82.,  67.,  50.,  82.,  49.,  50.,\n",
              "       102.,  50.,  40.,  19.,  20.,  50.,  50.,  51.,  82., 106.,  50.,\n",
              "        50.,  50.,  50.,  59.,  50.,  66.,  58.,  50.,  20.,  77.,  72.,\n",
              "        50.,  20.,  50.,  80.,  43.,  50.,  48.,  73., 102.,  80.,  60.,\n",
              "        50., 100.,  50.,  74.,  45.,  67.,  18.,  45.,  40.,  50.,  54.,\n",
              "        87.,  19.,  50., 108.,  40.,  58.,  50.,  69., 100.,  43.,  58.,\n",
              "        50.,  71.])"
            ]
          },
          "metadata": {
            "tags": []
          },
          "execution_count": 95
        }
      ]
    },
    {
      "cell_type": "markdown",
      "metadata": {
        "id": "fQnPxhPdvKwo"
      },
      "source": [
        "## **Visualiztion traing set result**\n",
        "\n",
        "\n",
        "\n"
      ]
    },
    {
      "cell_type": "code",
      "metadata": {
        "colab": {
          "base_uri": "https://localhost:8080/",
          "height": 630
        },
        "id": "_yznFzszLCML",
        "outputId": "5c2790f1-4e40-48ac-d2af-ff729ec7a160"
      },
      "source": [
        "plt.scatter(x_train, y_train, color = 'red')\n",
        "plt.plot(x, lr.predict(x_train), color = 'blue')\n",
        "plt.title('Salary vs Experience (Training set)')\n",
        "plt.xlabel('Years of Experience')\n",
        "plt.ylabel('Salary')\n",
        "plt.show()"
      ],
      "execution_count": 96,
      "outputs": [
        {
          "output_type": "error",
          "ename": "ValueError",
          "evalue": "ignored",
          "traceback": [
            "\u001b[0;31m---------------------------------------------------------------------------\u001b[0m",
            "\u001b[0;31mValueError\u001b[0m                                Traceback (most recent call last)",
            "\u001b[0;32m<ipython-input-96-5f08bf2aa2d2>\u001b[0m in \u001b[0;36m<module>\u001b[0;34m()\u001b[0m\n\u001b[0;32m----> 1\u001b[0;31m \u001b[0mplt\u001b[0m\u001b[0;34m.\u001b[0m\u001b[0mscatter\u001b[0m\u001b[0;34m(\u001b[0m\u001b[0mx_train\u001b[0m\u001b[0;34m,\u001b[0m \u001b[0my_train\u001b[0m\u001b[0;34m,\u001b[0m \u001b[0mcolor\u001b[0m \u001b[0;34m=\u001b[0m \u001b[0;34m'red'\u001b[0m\u001b[0;34m)\u001b[0m\u001b[0;34m\u001b[0m\u001b[0;34m\u001b[0m\u001b[0m\n\u001b[0m\u001b[1;32m      2\u001b[0m \u001b[0mplt\u001b[0m\u001b[0;34m.\u001b[0m\u001b[0mplot\u001b[0m\u001b[0;34m(\u001b[0m\u001b[0mx\u001b[0m\u001b[0;34m,\u001b[0m \u001b[0mlr\u001b[0m\u001b[0;34m.\u001b[0m\u001b[0mpredict\u001b[0m\u001b[0;34m(\u001b[0m\u001b[0mx_train\u001b[0m\u001b[0;34m)\u001b[0m\u001b[0;34m,\u001b[0m \u001b[0mcolor\u001b[0m \u001b[0;34m=\u001b[0m \u001b[0;34m'blue'\u001b[0m\u001b[0;34m)\u001b[0m\u001b[0;34m\u001b[0m\u001b[0;34m\u001b[0m\u001b[0m\n\u001b[1;32m      3\u001b[0m \u001b[0mplt\u001b[0m\u001b[0;34m.\u001b[0m\u001b[0mtitle\u001b[0m\u001b[0;34m(\u001b[0m\u001b[0;34m'Salary vs Experience (Training set)'\u001b[0m\u001b[0;34m)\u001b[0m\u001b[0;34m\u001b[0m\u001b[0;34m\u001b[0m\u001b[0m\n\u001b[1;32m      4\u001b[0m \u001b[0mplt\u001b[0m\u001b[0;34m.\u001b[0m\u001b[0mxlabel\u001b[0m\u001b[0;34m(\u001b[0m\u001b[0;34m'Years of Experience'\u001b[0m\u001b[0;34m)\u001b[0m\u001b[0;34m\u001b[0m\u001b[0;34m\u001b[0m\u001b[0m\n\u001b[1;32m      5\u001b[0m \u001b[0mplt\u001b[0m\u001b[0;34m.\u001b[0m\u001b[0mylabel\u001b[0m\u001b[0;34m(\u001b[0m\u001b[0;34m'Salary'\u001b[0m\u001b[0;34m)\u001b[0m\u001b[0;34m\u001b[0m\u001b[0;34m\u001b[0m\u001b[0m\n",
            "\u001b[0;32m/usr/local/lib/python3.7/dist-packages/matplotlib/pyplot.py\u001b[0m in \u001b[0;36mscatter\u001b[0;34m(x, y, s, c, marker, cmap, norm, vmin, vmax, alpha, linewidths, verts, edgecolors, plotnonfinite, data, **kwargs)\u001b[0m\n\u001b[1;32m   2814\u001b[0m         \u001b[0mverts\u001b[0m\u001b[0;34m=\u001b[0m\u001b[0mverts\u001b[0m\u001b[0;34m,\u001b[0m \u001b[0medgecolors\u001b[0m\u001b[0;34m=\u001b[0m\u001b[0medgecolors\u001b[0m\u001b[0;34m,\u001b[0m\u001b[0;34m\u001b[0m\u001b[0;34m\u001b[0m\u001b[0m\n\u001b[1;32m   2815\u001b[0m         plotnonfinite=plotnonfinite, **({\"data\": data} if data is not\n\u001b[0;32m-> 2816\u001b[0;31m         None else {}), **kwargs)\n\u001b[0m\u001b[1;32m   2817\u001b[0m     \u001b[0msci\u001b[0m\u001b[0;34m(\u001b[0m\u001b[0m__ret\u001b[0m\u001b[0;34m)\u001b[0m\u001b[0;34m\u001b[0m\u001b[0;34m\u001b[0m\u001b[0m\n\u001b[1;32m   2818\u001b[0m     \u001b[0;32mreturn\u001b[0m \u001b[0m__ret\u001b[0m\u001b[0;34m\u001b[0m\u001b[0;34m\u001b[0m\u001b[0m\n",
            "\u001b[0;32m/usr/local/lib/python3.7/dist-packages/matplotlib/__init__.py\u001b[0m in \u001b[0;36minner\u001b[0;34m(ax, data, *args, **kwargs)\u001b[0m\n\u001b[1;32m   1563\u001b[0m     \u001b[0;32mdef\u001b[0m \u001b[0minner\u001b[0m\u001b[0;34m(\u001b[0m\u001b[0max\u001b[0m\u001b[0;34m,\u001b[0m \u001b[0;34m*\u001b[0m\u001b[0margs\u001b[0m\u001b[0;34m,\u001b[0m \u001b[0mdata\u001b[0m\u001b[0;34m=\u001b[0m\u001b[0;32mNone\u001b[0m\u001b[0;34m,\u001b[0m \u001b[0;34m**\u001b[0m\u001b[0mkwargs\u001b[0m\u001b[0;34m)\u001b[0m\u001b[0;34m:\u001b[0m\u001b[0;34m\u001b[0m\u001b[0;34m\u001b[0m\u001b[0m\n\u001b[1;32m   1564\u001b[0m         \u001b[0;32mif\u001b[0m \u001b[0mdata\u001b[0m \u001b[0;32mis\u001b[0m \u001b[0;32mNone\u001b[0m\u001b[0;34m:\u001b[0m\u001b[0;34m\u001b[0m\u001b[0;34m\u001b[0m\u001b[0m\n\u001b[0;32m-> 1565\u001b[0;31m             \u001b[0;32mreturn\u001b[0m \u001b[0mfunc\u001b[0m\u001b[0;34m(\u001b[0m\u001b[0max\u001b[0m\u001b[0;34m,\u001b[0m \u001b[0;34m*\u001b[0m\u001b[0mmap\u001b[0m\u001b[0;34m(\u001b[0m\u001b[0msanitize_sequence\u001b[0m\u001b[0;34m,\u001b[0m \u001b[0margs\u001b[0m\u001b[0;34m)\u001b[0m\u001b[0;34m,\u001b[0m \u001b[0;34m**\u001b[0m\u001b[0mkwargs\u001b[0m\u001b[0;34m)\u001b[0m\u001b[0;34m\u001b[0m\u001b[0;34m\u001b[0m\u001b[0m\n\u001b[0m\u001b[1;32m   1566\u001b[0m \u001b[0;34m\u001b[0m\u001b[0m\n\u001b[1;32m   1567\u001b[0m         \u001b[0mbound\u001b[0m \u001b[0;34m=\u001b[0m \u001b[0mnew_sig\u001b[0m\u001b[0;34m.\u001b[0m\u001b[0mbind\u001b[0m\u001b[0;34m(\u001b[0m\u001b[0max\u001b[0m\u001b[0;34m,\u001b[0m \u001b[0;34m*\u001b[0m\u001b[0margs\u001b[0m\u001b[0;34m,\u001b[0m \u001b[0;34m**\u001b[0m\u001b[0mkwargs\u001b[0m\u001b[0;34m)\u001b[0m\u001b[0;34m\u001b[0m\u001b[0;34m\u001b[0m\u001b[0m\n",
            "\u001b[0;32m/usr/local/lib/python3.7/dist-packages/matplotlib/cbook/deprecation.py\u001b[0m in \u001b[0;36mwrapper\u001b[0;34m(*args, **kwargs)\u001b[0m\n\u001b[1;32m    356\u001b[0m                 \u001b[0;34mf\"%(removal)s.  If any parameter follows {name!r}, they \"\u001b[0m\u001b[0;34m\u001b[0m\u001b[0;34m\u001b[0m\u001b[0m\n\u001b[1;32m    357\u001b[0m                 f\"should be pass as keyword, not positionally.\")\n\u001b[0;32m--> 358\u001b[0;31m         \u001b[0;32mreturn\u001b[0m \u001b[0mfunc\u001b[0m\u001b[0;34m(\u001b[0m\u001b[0;34m*\u001b[0m\u001b[0margs\u001b[0m\u001b[0;34m,\u001b[0m \u001b[0;34m**\u001b[0m\u001b[0mkwargs\u001b[0m\u001b[0;34m)\u001b[0m\u001b[0;34m\u001b[0m\u001b[0;34m\u001b[0m\u001b[0m\n\u001b[0m\u001b[1;32m    359\u001b[0m \u001b[0;34m\u001b[0m\u001b[0m\n\u001b[1;32m    360\u001b[0m     \u001b[0;32mreturn\u001b[0m \u001b[0mwrapper\u001b[0m\u001b[0;34m\u001b[0m\u001b[0;34m\u001b[0m\u001b[0m\n",
            "\u001b[0;32m/usr/local/lib/python3.7/dist-packages/matplotlib/axes/_axes.py\u001b[0m in \u001b[0;36mscatter\u001b[0;34m(self, x, y, s, c, marker, cmap, norm, vmin, vmax, alpha, linewidths, verts, edgecolors, plotnonfinite, **kwargs)\u001b[0m\n\u001b[1;32m   4389\u001b[0m         \u001b[0my\u001b[0m \u001b[0;34m=\u001b[0m \u001b[0mnp\u001b[0m\u001b[0;34m.\u001b[0m\u001b[0mma\u001b[0m\u001b[0;34m.\u001b[0m\u001b[0mravel\u001b[0m\u001b[0;34m(\u001b[0m\u001b[0my\u001b[0m\u001b[0;34m)\u001b[0m\u001b[0;34m\u001b[0m\u001b[0;34m\u001b[0m\u001b[0m\n\u001b[1;32m   4390\u001b[0m         \u001b[0;32mif\u001b[0m \u001b[0mx\u001b[0m\u001b[0;34m.\u001b[0m\u001b[0msize\u001b[0m \u001b[0;34m!=\u001b[0m \u001b[0my\u001b[0m\u001b[0;34m.\u001b[0m\u001b[0msize\u001b[0m\u001b[0;34m:\u001b[0m\u001b[0;34m\u001b[0m\u001b[0;34m\u001b[0m\u001b[0m\n\u001b[0;32m-> 4391\u001b[0;31m             \u001b[0;32mraise\u001b[0m \u001b[0mValueError\u001b[0m\u001b[0;34m(\u001b[0m\u001b[0;34m\"x and y must be the same size\"\u001b[0m\u001b[0;34m)\u001b[0m\u001b[0;34m\u001b[0m\u001b[0;34m\u001b[0m\u001b[0m\n\u001b[0m\u001b[1;32m   4392\u001b[0m \u001b[0;34m\u001b[0m\u001b[0m\n\u001b[1;32m   4393\u001b[0m         \u001b[0;32mif\u001b[0m \u001b[0ms\u001b[0m \u001b[0;32mis\u001b[0m \u001b[0;32mNone\u001b[0m\u001b[0;34m:\u001b[0m\u001b[0;34m\u001b[0m\u001b[0;34m\u001b[0m\u001b[0m\n",
            "\u001b[0;31mValueError\u001b[0m: x and y must be the same size"
          ]
        },
        {
          "output_type": "display_data",
          "data": {
            "image/png": "[encoded data removed]",
            "text/plain": [
              "<Figure size 432x288 with 1 Axes>"
            ]
          },
          "metadata": {
            "tags": []
          }
        }
      ]
    },
    {
      "cell_type": "code",
      "metadata": {
        "colab": {
          "base_uri": "https://localhost:8080/",
          "height": 126
        },
        "id": "ULS4ovTOvU74",
        "outputId": "87783ee4-83f5-4180-d167-ecc04093c31e"
      },
      "source": [
        "plt.scatter(x_train,y_train)\n",
        "plt.plot(x_train,lr.predict(x_train)\n",
        "plt.title('Study on Personality Test(Training set)')\n",
        "plt.xlabel('Test')\n",
        "plt.ylabel('Total Score')"
      ],
      "execution_count": 97,
      "outputs": [
        {
          "output_type": "error",
          "ename": "SyntaxError",
          "evalue": "ignored",
          "traceback": [
            "\u001b[0;36m  File \u001b[0;32m\"<ipython-input-97-cfc32f0d621b>\"\u001b[0;36m, line \u001b[0;32m3\u001b[0m\n\u001b[0;31m    plt.title('Study on Personality Test(Training set)')\u001b[0m\n\u001b[0m      ^\u001b[0m\n\u001b[0;31mSyntaxError\u001b[0m\u001b[0;31m:\u001b[0m invalid syntax\n"
          ]
        }
      ]
    },
    {
      "cell_type": "markdown",
      "metadata": {
        "id": "3-h2g9dF2lMH"
      },
      "source": [
        "## **Visualiztion test set result**"
      ]
    },
    {
      "cell_type": "code",
      "metadata": {
        "colab": {
          "base_uri": "https://localhost:8080/",
          "height": 311
        },
        "id": "-_CjbvALNc7A",
        "outputId": "ae3dda35-4e65-4c1a-9424-b0ee6ee25d23"
      },
      "source": [
        "plt.scatter(x_test,y_test)\n",
        "plt.plot(x_train,lr.predict(x_train))\n",
        "plt.title('Study on Personality Test (Training Set)')\n",
        "plt.xlabel('Test')\n",
        "plt.ylabel('Total Score')"
      ],
      "execution_count": null,
      "outputs": [
        {
          "output_type": "execute_result",
          "data": {
            "text/plain": [
              "Text(0, 0.5, 'Total Score')"
            ]
          },
          "metadata": {
            "tags": []
          },
          "execution_count": 64
        },
        {
          "output_type": "display_data",
          "data": {
            "image/png": "[encoded data removed]",
            "text/plain": [
              "<Figure size 432x288 with 1 Axes>"
            ]
          },
          "metadata": {
            "tags": [],
            "needs_background": "light"
          }
        }
      ]
    },
    {
      "cell_type": "code",
      "metadata": {
        "colab": {
          "base_uri": "https://localhost:8080/",
          "height": 566
        },
        "id": "xM5s-PI1of1o",
        "outputId": "f1521e6f-f3c1-4740-fbed-75f5743626ec"
      },
      "source": [
        "#outliers\n",
        "plt.figure(figsize=(16,8))\n",
        "\n",
        "plt.subplot(1,3,1)\n",
        "sns.distplot(data['Total Score'])"
      ],
      "execution_count": null,
      "outputs": [
        {
          "output_type": "stream",
          "text": [
            "/usr/local/lib/python3.7/dist-packages/seaborn/distributions.py:2557: FutureWarning: `distplot` is a deprecated function and will be removed in a future version. Please adapt your code to use either `displot` (a figure-level function with similar flexibility) or `histplot` (an axes-level function for histograms).\n",
            "  warnings.warn(msg, FutureWarning)\n"
          ],
          "name": "stderr"
        },
        {
          "output_type": "execute_result",
          "data": {
            "text/plain": [
              "<matplotlib.axes._subplots.AxesSubplot at 0x7ff42f594fd0>"
            ]
          },
          "metadata": {
            "tags": []
          },
          "execution_count": 65
        },
        {
          "output_type": "display_data",
          "data": {
            "image/png": "[encoded data removed]",
            "text/plain": [
              "<Figure size 1152x576 with 1 Axes>"
            ]
          },
          "metadata": {
            "tags": [],
            "needs_background": "light"
          }
        }
      ]
    },
    {
      "cell_type": "code",
      "metadata": {
        "id": "xmATMCJhPGRZ"
      },
      "source": [
        ""
      ],
      "execution_count": null,
      "outputs": []
    },
    {
      "cell_type": "code",
      "metadata": {
        "colab": {
          "base_uri": "https://localhost:8080/",
          "height": 361
        },
        "id": "4H_n3tOTX630",
        "outputId": "506a42a9-2a3c-4f8b-bee8-41174433398e"
      },
      "source": [
        "from sklearn.metrics import  r2_score\n",
        "\n",
        "r2 = r2_score(y,y_pred)\n",
        "\n",
        "print(r2)"
      ],
      "execution_count": null,
      "outputs": [
        {
          "output_type": "error",
          "ename": "ValueError",
          "evalue": "ignored",
          "traceback": [
            "\u001b[0;31m---------------------------------------------------------------------------\u001b[0m",
            "\u001b[0;31mValueError\u001b[0m                                Traceback (most recent call last)",
            "\u001b[0;32m<ipython-input-66-9e0f00969551>\u001b[0m in \u001b[0;36m<module>\u001b[0;34m()\u001b[0m\n\u001b[1;32m      1\u001b[0m \u001b[0;32mfrom\u001b[0m \u001b[0msklearn\u001b[0m\u001b[0;34m.\u001b[0m\u001b[0mmetrics\u001b[0m \u001b[0;32mimport\u001b[0m  \u001b[0mr2_score\u001b[0m\u001b[0;34m\u001b[0m\u001b[0;34m\u001b[0m\u001b[0m\n\u001b[1;32m      2\u001b[0m \u001b[0;34m\u001b[0m\u001b[0m\n\u001b[0;32m----> 3\u001b[0;31m \u001b[0mr2\u001b[0m \u001b[0;34m=\u001b[0m \u001b[0mr2_score\u001b[0m\u001b[0;34m(\u001b[0m\u001b[0my\u001b[0m\u001b[0;34m,\u001b[0m\u001b[0my_pred\u001b[0m\u001b[0;34m)\u001b[0m\u001b[0;34m\u001b[0m\u001b[0;34m\u001b[0m\u001b[0m\n\u001b[0m\u001b[1;32m      4\u001b[0m \u001b[0;34m\u001b[0m\u001b[0m\n\u001b[1;32m      5\u001b[0m \u001b[0mprint\u001b[0m\u001b[0;34m(\u001b[0m\u001b[0mr2\u001b[0m\u001b[0;34m)\u001b[0m\u001b[0;34m\u001b[0m\u001b[0;34m\u001b[0m\u001b[0m\n",
            "\u001b[0;32m/usr/local/lib/python3.7/dist-packages/sklearn/metrics/_regression.py\u001b[0m in \u001b[0;36mr2_score\u001b[0;34m(y_true, y_pred, sample_weight, multioutput)\u001b[0m\n\u001b[1;32m    575\u001b[0m     \"\"\"\n\u001b[1;32m    576\u001b[0m     y_type, y_true, y_pred, multioutput = _check_reg_targets(\n\u001b[0;32m--> 577\u001b[0;31m         y_true, y_pred, multioutput)\n\u001b[0m\u001b[1;32m    578\u001b[0m     \u001b[0mcheck_consistent_length\u001b[0m\u001b[0;34m(\u001b[0m\u001b[0my_true\u001b[0m\u001b[0;34m,\u001b[0m \u001b[0my_pred\u001b[0m\u001b[0;34m,\u001b[0m \u001b[0msample_weight\u001b[0m\u001b[0;34m)\u001b[0m\u001b[0;34m\u001b[0m\u001b[0;34m\u001b[0m\u001b[0m\n\u001b[1;32m    579\u001b[0m \u001b[0;34m\u001b[0m\u001b[0m\n",
            "\u001b[0;32m/usr/local/lib/python3.7/dist-packages/sklearn/metrics/_regression.py\u001b[0m in \u001b[0;36m_check_reg_targets\u001b[0;34m(y_true, y_pred, multioutput, dtype)\u001b[0m\n\u001b[1;32m     82\u001b[0m \u001b[0;34m\u001b[0m\u001b[0m\n\u001b[1;32m     83\u001b[0m     \"\"\"\n\u001b[0;32m---> 84\u001b[0;31m     \u001b[0mcheck_consistent_length\u001b[0m\u001b[0;34m(\u001b[0m\u001b[0my_true\u001b[0m\u001b[0;34m,\u001b[0m \u001b[0my_pred\u001b[0m\u001b[0;34m)\u001b[0m\u001b[0;34m\u001b[0m\u001b[0;34m\u001b[0m\u001b[0m\n\u001b[0m\u001b[1;32m     85\u001b[0m     \u001b[0my_true\u001b[0m \u001b[0;34m=\u001b[0m \u001b[0mcheck_array\u001b[0m\u001b[0;34m(\u001b[0m\u001b[0my_true\u001b[0m\u001b[0;34m,\u001b[0m \u001b[0mensure_2d\u001b[0m\u001b[0;34m=\u001b[0m\u001b[0;32mFalse\u001b[0m\u001b[0;34m,\u001b[0m \u001b[0mdtype\u001b[0m\u001b[0;34m=\u001b[0m\u001b[0mdtype\u001b[0m\u001b[0;34m)\u001b[0m\u001b[0;34m\u001b[0m\u001b[0;34m\u001b[0m\u001b[0m\n\u001b[1;32m     86\u001b[0m     \u001b[0my_pred\u001b[0m \u001b[0;34m=\u001b[0m \u001b[0mcheck_array\u001b[0m\u001b[0;34m(\u001b[0m\u001b[0my_pred\u001b[0m\u001b[0;34m,\u001b[0m \u001b[0mensure_2d\u001b[0m\u001b[0;34m=\u001b[0m\u001b[0;32mFalse\u001b[0m\u001b[0;34m,\u001b[0m \u001b[0mdtype\u001b[0m\u001b[0;34m=\u001b[0m\u001b[0mdtype\u001b[0m\u001b[0;34m)\u001b[0m\u001b[0;34m\u001b[0m\u001b[0;34m\u001b[0m\u001b[0m\n",
            "\u001b[0;32m/usr/local/lib/python3.7/dist-packages/sklearn/utils/validation.py\u001b[0m in \u001b[0;36mcheck_consistent_length\u001b[0;34m(*arrays)\u001b[0m\n\u001b[1;32m    210\u001b[0m     \u001b[0;32mif\u001b[0m \u001b[0mlen\u001b[0m\u001b[0;34m(\u001b[0m\u001b[0muniques\u001b[0m\u001b[0;34m)\u001b[0m \u001b[0;34m>\u001b[0m \u001b[0;36m1\u001b[0m\u001b[0;34m:\u001b[0m\u001b[0;34m\u001b[0m\u001b[0;34m\u001b[0m\u001b[0m\n\u001b[1;32m    211\u001b[0m         raise ValueError(\"Found input variables with inconsistent numbers of\"\n\u001b[0;32m--> 212\u001b[0;31m                          \" samples: %r\" % [int(l) for l in lengths])\n\u001b[0m\u001b[1;32m    213\u001b[0m \u001b[0;34m\u001b[0m\u001b[0m\n\u001b[1;32m    214\u001b[0m \u001b[0;34m\u001b[0m\u001b[0m\n",
            "\u001b[0;31mValueError\u001b[0m: Found input variables with inconsistent numbers of samples: [300, 60]"
          ]
        }
      ]
    }
  ]
}