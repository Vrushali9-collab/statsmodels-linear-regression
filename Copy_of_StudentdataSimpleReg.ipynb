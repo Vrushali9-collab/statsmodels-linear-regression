{
  "nbformat": 4,
  "nbformat_minor": 0,
  "metadata": {
    "colab": {
      "name": "Copy of StudentdataSimpleReg.ipynb",
      "provenance": [],
      "collapsed_sections": [],
      "toc_visible": true,
      "include_colab_link": true
    },
    "kernelspec": {
      "name": "python3",
      "display_name": "Python 3"
    },
    "language_info": {
      "name": "python"
    }
  },
  "cells": [
    {
      "cell_type": "markdown",
      "metadata": {
        "id": "view-in-github",
        "colab_type": "text"
      },
      "source": [
        "<a href=\"https://colab.research.google.com/github/Vrushali9-collab/statsmodels-linear-regression/blob/main/Copy_of_StudentdataSimpleReg.ipynb\" target=\"_parent\"><img src=\"https://colab.research.google.com/assets/colab-badge.svg\" alt=\"Open In Colab\"/></a>"
      ]
    },
    {
      "cell_type": "markdown",
      "metadata": {
        "id": "36AKKbxSysGt"
      },
      "source": [
        "### **Importing lib**"
      ]
    },
    {
      "cell_type": "code",
      "metadata": {
        "id": "-vuA5SR6dOj4",
        "colab": {
          "base_uri": "https://localhost:8080/"
        },
        "outputId": "b9e8d6a8-5721-426f-dcdc-b1c68fc26af8"
      },
      "source": [
        "import pandas as pd\n",
        "import numpy as np\n",
        "import seaborn as sns\n",
        "import matplotlib.pyplot as plt\n",
        "import statsmodels.api as sm\n",
        "sns.set_style(\"whitegrid\")\n",
        "from sklearn.metrics import mean_absolute_error\n"
      ],
      "execution_count": 1,
      "outputs": [
        {
          "output_type": "stream",
          "text": [
            "/usr/local/lib/python3.7/dist-packages/statsmodels/tools/_testing.py:19: FutureWarning: pandas.util.testing is deprecated. Use the functions in the public API at pandas.testing instead.\n",
            "  import pandas.util.testing as tm\n"
          ],
          "name": "stderr"
        }
      ]
    },
    {
      "cell_type": "markdown",
      "metadata": {
        "id": "PoDt8Md1y4iM"
      },
      "source": [
        "## **Importing dataset**"
      ]
    },
    {
      "cell_type": "code",
      "metadata": {
        "id": "feyUFuFXdXSB"
      },
      "source": [
        "#importing dataset\n",
        "data=pd.read_csv('/content/personality test.csv')"
      ],
      "execution_count": 2,
      "outputs": []
    },
    {
      "cell_type": "code",
      "metadata": {
        "colab": {
          "base_uri": "https://localhost:8080/"
        },
        "id": "NRWkwRm21fdv",
        "outputId": "f9d43526-ec08-4ad7-bd31-633616bae56f"
      },
      "source": [
        "data.count()"
      ],
      "execution_count": 3,
      "outputs": [
        {
          "output_type": "execute_result",
          "data": {
            "text/plain": [
              "Self Awareness          300\n",
              "Empathy                 300\n",
              "Self Motivation         300\n",
              "Emotional Stabilty      300\n",
              "Managing Relations      300\n",
              "Integrity               300\n",
              "Self Development        300\n",
              "Value Orientation       300\n",
              "Commitment              300\n",
              "Altruistic Behaviour    300\n",
              "Total Score             300\n",
              "dtype: int64"
            ]
          },
          "metadata": {
            "tags": []
          },
          "execution_count": 3
        }
      ]
    },
    {
      "cell_type": "code",
      "metadata": {
        "colab": {
          "base_uri": "https://localhost:8080/"
        },
        "id": "C05gsk8BdxNw",
        "outputId": "9dcdabfe-f9cd-474b-cd2c-ad1be0b5be84"
      },
      "source": [
        "data.shape"
      ],
      "execution_count": 4,
      "outputs": [
        {
          "output_type": "execute_result",
          "data": {
            "text/plain": [
              "(300, 11)"
            ]
          },
          "metadata": {
            "tags": []
          },
          "execution_count": 4
        }
      ]
    },
    {
      "cell_type": "code",
      "metadata": {
        "colab": {
          "base_uri": "https://localhost:8080/",
          "height": 363
        },
        "id": "JmqwjNrOd0Pw",
        "outputId": "cd9d0363-bef2-4f1e-a7f7-aeb8e5782a51"
      },
      "source": [
        "data.describe().T"
      ],
      "execution_count": 5,
      "outputs": [
        {
          "output_type": "execute_result",
          "data": {
            "text/html": [
              "<div>\n",
              "<style scoped>\n",
              "    .dataframe tbody tr th:only-of-type {\n",
              "        vertical-align: middle;\n",
              "    }\n",
              "\n",
              "    .dataframe tbody tr th {\n",
              "        vertical-align: top;\n",
              "    }\n",
              "\n",
              "    .dataframe thead th {\n",
              "        text-align: right;\n",
              "    }\n",
              "</style>\n",
              "<table border=\"1\" class=\"dataframe\">\n",
              "  <thead>\n",
              "    <tr style=\"text-align: right;\">\n",
              "      <th></th>\n",
              "      <th>count</th>\n",
              "      <th>mean</th>\n",
              "      <th>std</th>\n",
              "      <th>min</th>\n",
              "      <th>25%</th>\n",
              "      <th>50%</th>\n",
              "      <th>75%</th>\n",
              "      <th>max</th>\n",
              "    </tr>\n",
              "  </thead>\n",
              "  <tbody>\n",
              "    <tr>\n",
              "      <th>Self Awareness</th>\n",
              "      <td>300.0</td>\n",
              "      <td>4.333333</td>\n",
              "      <td>1.456925</td>\n",
              "      <td>1.0</td>\n",
              "      <td>5.00</td>\n",
              "      <td>5.0</td>\n",
              "      <td>5.00</td>\n",
              "      <td>5.0</td>\n",
              "    </tr>\n",
              "    <tr>\n",
              "      <th>Empathy</th>\n",
              "      <td>300.0</td>\n",
              "      <td>9.413333</td>\n",
              "      <td>4.013667</td>\n",
              "      <td>0.0</td>\n",
              "      <td>5.75</td>\n",
              "      <td>10.0</td>\n",
              "      <td>12.00</td>\n",
              "      <td>16.0</td>\n",
              "    </tr>\n",
              "    <tr>\n",
              "      <th>Self Motivation</th>\n",
              "      <td>300.0</td>\n",
              "      <td>9.276667</td>\n",
              "      <td>3.917219</td>\n",
              "      <td>0.0</td>\n",
              "      <td>7.00</td>\n",
              "      <td>9.0</td>\n",
              "      <td>13.00</td>\n",
              "      <td>19.0</td>\n",
              "    </tr>\n",
              "    <tr>\n",
              "      <th>Emotional Stabilty</th>\n",
              "      <td>300.0</td>\n",
              "      <td>6.813333</td>\n",
              "      <td>3.710938</td>\n",
              "      <td>1.0</td>\n",
              "      <td>4.00</td>\n",
              "      <td>7.0</td>\n",
              "      <td>11.00</td>\n",
              "      <td>15.0</td>\n",
              "    </tr>\n",
              "    <tr>\n",
              "      <th>Managing Relations</th>\n",
              "      <td>300.0</td>\n",
              "      <td>6.046667</td>\n",
              "      <td>3.686433</td>\n",
              "      <td>2.0</td>\n",
              "      <td>3.00</td>\n",
              "      <td>5.0</td>\n",
              "      <td>10.00</td>\n",
              "      <td>16.0</td>\n",
              "    </tr>\n",
              "    <tr>\n",
              "      <th>Integrity</th>\n",
              "      <td>300.0</td>\n",
              "      <td>4.786667</td>\n",
              "      <td>1.909619</td>\n",
              "      <td>1.0</td>\n",
              "      <td>3.00</td>\n",
              "      <td>5.0</td>\n",
              "      <td>6.00</td>\n",
              "      <td>11.0</td>\n",
              "    </tr>\n",
              "    <tr>\n",
              "      <th>Self Development</th>\n",
              "      <td>300.0</td>\n",
              "      <td>4.100000</td>\n",
              "      <td>2.546556</td>\n",
              "      <td>0.0</td>\n",
              "      <td>3.00</td>\n",
              "      <td>3.0</td>\n",
              "      <td>6.00</td>\n",
              "      <td>10.0</td>\n",
              "    </tr>\n",
              "    <tr>\n",
              "      <th>Value Orientation</th>\n",
              "      <td>300.0</td>\n",
              "      <td>4.436667</td>\n",
              "      <td>2.523334</td>\n",
              "      <td>0.0</td>\n",
              "      <td>2.00</td>\n",
              "      <td>5.0</td>\n",
              "      <td>6.00</td>\n",
              "      <td>9.0</td>\n",
              "    </tr>\n",
              "    <tr>\n",
              "      <th>Commitment</th>\n",
              "      <td>300.0</td>\n",
              "      <td>4.160000</td>\n",
              "      <td>2.858023</td>\n",
              "      <td>0.0</td>\n",
              "      <td>3.00</td>\n",
              "      <td>3.0</td>\n",
              "      <td>6.00</td>\n",
              "      <td>11.0</td>\n",
              "    </tr>\n",
              "    <tr>\n",
              "      <th>Altruistic Behaviour</th>\n",
              "      <td>300.0</td>\n",
              "      <td>5.270000</td>\n",
              "      <td>3.078206</td>\n",
              "      <td>0.0</td>\n",
              "      <td>4.00</td>\n",
              "      <td>5.0</td>\n",
              "      <td>6.00</td>\n",
              "      <td>16.0</td>\n",
              "    </tr>\n",
              "    <tr>\n",
              "      <th>Total Score</th>\n",
              "      <td>300.0</td>\n",
              "      <td>58.636667</td>\n",
              "      <td>26.305473</td>\n",
              "      <td>16.0</td>\n",
              "      <td>44.00</td>\n",
              "      <td>50.0</td>\n",
              "      <td>78.25</td>\n",
              "      <td>111.0</td>\n",
              "    </tr>\n",
              "  </tbody>\n",
              "</table>\n",
              "</div>"
            ],
            "text/plain": [
              "                      count       mean        std  ...   50%    75%    max\n",
              "Self Awareness        300.0   4.333333   1.456925  ...   5.0   5.00    5.0\n",
              "Empathy               300.0   9.413333   4.013667  ...  10.0  12.00   16.0\n",
              "Self Motivation       300.0   9.276667   3.917219  ...   9.0  13.00   19.0\n",
              "Emotional Stabilty    300.0   6.813333   3.710938  ...   7.0  11.00   15.0\n",
              "Managing Relations    300.0   6.046667   3.686433  ...   5.0  10.00   16.0\n",
              "Integrity             300.0   4.786667   1.909619  ...   5.0   6.00   11.0\n",
              "Self Development      300.0   4.100000   2.546556  ...   3.0   6.00   10.0\n",
              "Value Orientation     300.0   4.436667   2.523334  ...   5.0   6.00    9.0\n",
              "Commitment            300.0   4.160000   2.858023  ...   3.0   6.00   11.0\n",
              "Altruistic Behaviour  300.0   5.270000   3.078206  ...   5.0   6.00   16.0\n",
              "Total Score           300.0  58.636667  26.305473  ...  50.0  78.25  111.0\n",
              "\n",
              "[11 rows x 8 columns]"
            ]
          },
          "metadata": {
            "tags": []
          },
          "execution_count": 5
        }
      ]
    },
    {
      "cell_type": "code",
      "metadata": {
        "colab": {
          "base_uri": "https://localhost:8080/",
          "height": 461
        },
        "id": "bQV9taTM6JDI",
        "outputId": "8108b460-ff5f-438e-b909-c28767e1c212"
      },
      "source": [
        "data.corr()"
      ],
      "execution_count": 6,
      "outputs": [
        {
          "output_type": "execute_result",
          "data": {
            "text/html": [
              "<div>\n",
              "<style scoped>\n",
              "    .dataframe tbody tr th:only-of-type {\n",
              "        vertical-align: middle;\n",
              "    }\n",
              "\n",
              "    .dataframe tbody tr th {\n",
              "        vertical-align: top;\n",
              "    }\n",
              "\n",
              "    .dataframe thead th {\n",
              "        text-align: right;\n",
              "    }\n",
              "</style>\n",
              "<table border=\"1\" class=\"dataframe\">\n",
              "  <thead>\n",
              "    <tr style=\"text-align: right;\">\n",
              "      <th></th>\n",
              "      <th>Self Awareness</th>\n",
              "      <th>Empathy</th>\n",
              "      <th>Self Motivation</th>\n",
              "      <th>Emotional Stabilty</th>\n",
              "      <th>Managing Relations</th>\n",
              "      <th>Integrity</th>\n",
              "      <th>Self Development</th>\n",
              "      <th>Value Orientation</th>\n",
              "      <th>Commitment</th>\n",
              "      <th>Altruistic Behaviour</th>\n",
              "      <th>Total Score</th>\n",
              "    </tr>\n",
              "  </thead>\n",
              "  <tbody>\n",
              "    <tr>\n",
              "      <th>Self Awareness</th>\n",
              "      <td>1.000000</td>\n",
              "      <td>0.664975</td>\n",
              "      <td>0.595593</td>\n",
              "      <td>0.622102</td>\n",
              "      <td>0.381928</td>\n",
              "      <td>0.660360</td>\n",
              "      <td>0.562500</td>\n",
              "      <td>0.627114</td>\n",
              "      <td>0.509231</td>\n",
              "      <td>0.639854</td>\n",
              "      <td>0.679570</td>\n",
              "    </tr>\n",
              "    <tr>\n",
              "      <th>Empathy</th>\n",
              "      <td>0.664975</td>\n",
              "      <td>1.000000</td>\n",
              "      <td>0.769771</td>\n",
              "      <td>0.799414</td>\n",
              "      <td>0.672511</td>\n",
              "      <td>0.770366</td>\n",
              "      <td>0.805147</td>\n",
              "      <td>0.798111</td>\n",
              "      <td>0.775002</td>\n",
              "      <td>0.775699</td>\n",
              "      <td>0.896455</td>\n",
              "    </tr>\n",
              "    <tr>\n",
              "      <th>Self Motivation</th>\n",
              "      <td>0.595593</td>\n",
              "      <td>0.769771</td>\n",
              "      <td>1.000000</td>\n",
              "      <td>0.850236</td>\n",
              "      <td>0.801608</td>\n",
              "      <td>0.753232</td>\n",
              "      <td>0.798518</td>\n",
              "      <td>0.706409</td>\n",
              "      <td>0.762585</td>\n",
              "      <td>0.676937</td>\n",
              "      <td>0.893442</td>\n",
              "    </tr>\n",
              "    <tr>\n",
              "      <th>Emotional Stabilty</th>\n",
              "      <td>0.622102</td>\n",
              "      <td>0.799414</td>\n",
              "      <td>0.850236</td>\n",
              "      <td>1.000000</td>\n",
              "      <td>0.874890</td>\n",
              "      <td>0.722113</td>\n",
              "      <td>0.877199</td>\n",
              "      <td>0.732353</td>\n",
              "      <td>0.846045</td>\n",
              "      <td>0.730531</td>\n",
              "      <td>0.931714</td>\n",
              "    </tr>\n",
              "    <tr>\n",
              "      <th>Managing Relations</th>\n",
              "      <td>0.381928</td>\n",
              "      <td>0.672511</td>\n",
              "      <td>0.801608</td>\n",
              "      <td>0.874890</td>\n",
              "      <td>1.000000</td>\n",
              "      <td>0.616185</td>\n",
              "      <td>0.798596</td>\n",
              "      <td>0.594639</td>\n",
              "      <td>0.761136</td>\n",
              "      <td>0.578326</td>\n",
              "      <td>0.836146</td>\n",
              "    </tr>\n",
              "    <tr>\n",
              "      <th>Integrity</th>\n",
              "      <td>0.660360</td>\n",
              "      <td>0.770366</td>\n",
              "      <td>0.753232</td>\n",
              "      <td>0.722113</td>\n",
              "      <td>0.616185</td>\n",
              "      <td>1.000000</td>\n",
              "      <td>0.761611</td>\n",
              "      <td>0.845348</td>\n",
              "      <td>0.779012</td>\n",
              "      <td>0.773950</td>\n",
              "      <td>0.857119</td>\n",
              "    </tr>\n",
              "    <tr>\n",
              "      <th>Self Development</th>\n",
              "      <td>0.562500</td>\n",
              "      <td>0.805147</td>\n",
              "      <td>0.798518</td>\n",
              "      <td>0.877199</td>\n",
              "      <td>0.798596</td>\n",
              "      <td>0.761611</td>\n",
              "      <td>1.000000</td>\n",
              "      <td>0.896728</td>\n",
              "      <td>0.939362</td>\n",
              "      <td>0.857536</td>\n",
              "      <td>0.949094</td>\n",
              "    </tr>\n",
              "    <tr>\n",
              "      <th>Value Orientation</th>\n",
              "      <td>0.627114</td>\n",
              "      <td>0.798111</td>\n",
              "      <td>0.706409</td>\n",
              "      <td>0.732353</td>\n",
              "      <td>0.594639</td>\n",
              "      <td>0.845348</td>\n",
              "      <td>0.896728</td>\n",
              "      <td>1.000000</td>\n",
              "      <td>0.885790</td>\n",
              "      <td>0.902342</td>\n",
              "      <td>0.894277</td>\n",
              "    </tr>\n",
              "    <tr>\n",
              "      <th>Commitment</th>\n",
              "      <td>0.509231</td>\n",
              "      <td>0.775002</td>\n",
              "      <td>0.762585</td>\n",
              "      <td>0.846045</td>\n",
              "      <td>0.761136</td>\n",
              "      <td>0.779012</td>\n",
              "      <td>0.939362</td>\n",
              "      <td>0.885790</td>\n",
              "      <td>1.000000</td>\n",
              "      <td>0.893769</td>\n",
              "      <td>0.931721</td>\n",
              "    </tr>\n",
              "    <tr>\n",
              "      <th>Altruistic Behaviour</th>\n",
              "      <td>0.639854</td>\n",
              "      <td>0.775699</td>\n",
              "      <td>0.676937</td>\n",
              "      <td>0.730531</td>\n",
              "      <td>0.578326</td>\n",
              "      <td>0.773950</td>\n",
              "      <td>0.857536</td>\n",
              "      <td>0.902342</td>\n",
              "      <td>0.893769</td>\n",
              "      <td>1.000000</td>\n",
              "      <td>0.878581</td>\n",
              "    </tr>\n",
              "    <tr>\n",
              "      <th>Total Score</th>\n",
              "      <td>0.679570</td>\n",
              "      <td>0.896455</td>\n",
              "      <td>0.893442</td>\n",
              "      <td>0.931714</td>\n",
              "      <td>0.836146</td>\n",
              "      <td>0.857119</td>\n",
              "      <td>0.949094</td>\n",
              "      <td>0.894277</td>\n",
              "      <td>0.931721</td>\n",
              "      <td>0.878581</td>\n",
              "      <td>1.000000</td>\n",
              "    </tr>\n",
              "  </tbody>\n",
              "</table>\n",
              "</div>"
            ],
            "text/plain": [
              "                      Self Awareness  ...  Total Score\n",
              "Self Awareness              1.000000  ...     0.679570\n",
              "Empathy                     0.664975  ...     0.896455\n",
              "Self Motivation             0.595593  ...     0.893442\n",
              "Emotional Stabilty          0.622102  ...     0.931714\n",
              "Managing Relations          0.381928  ...     0.836146\n",
              "Integrity                   0.660360  ...     0.857119\n",
              "Self Development            0.562500  ...     0.949094\n",
              "Value Orientation           0.627114  ...     0.894277\n",
              "Commitment                  0.509231  ...     0.931721\n",
              "Altruistic Behaviour        0.639854  ...     0.878581\n",
              "Total Score                 0.679570  ...     1.000000\n",
              "\n",
              "[11 rows x 11 columns]"
            ]
          },
          "metadata": {
            "tags": []
          },
          "execution_count": 6
        }
      ]
    },
    {
      "cell_type": "code",
      "metadata": {
        "colab": {
          "base_uri": "https://localhost:8080/",
          "height": 407
        },
        "id": "QCKrbgG-6S0N",
        "outputId": "8d7ffa9e-afcf-4586-caf1-96d65a7de407"
      },
      "source": [
        "data.isnull()"
      ],
      "execution_count": 7,
      "outputs": [
        {
          "output_type": "execute_result",
          "data": {
            "text/html": [
              "<div>\n",
              "<style scoped>\n",
              "    .dataframe tbody tr th:only-of-type {\n",
              "        vertical-align: middle;\n",
              "    }\n",
              "\n",
              "    .dataframe tbody tr th {\n",
              "        vertical-align: top;\n",
              "    }\n",
              "\n",
              "    .dataframe thead th {\n",
              "        text-align: right;\n",
              "    }\n",
              "</style>\n",
              "<table border=\"1\" class=\"dataframe\">\n",
              "  <thead>\n",
              "    <tr style=\"text-align: right;\">\n",
              "      <th></th>\n",
              "      <th>Self Awareness</th>\n",
              "      <th>Empathy</th>\n",
              "      <th>Self Motivation</th>\n",
              "      <th>Emotional Stabilty</th>\n",
              "      <th>Managing Relations</th>\n",
              "      <th>Integrity</th>\n",
              "      <th>Self Development</th>\n",
              "      <th>Value Orientation</th>\n",
              "      <th>Commitment</th>\n",
              "      <th>Altruistic Behaviour</th>\n",
              "      <th>Total Score</th>\n",
              "    </tr>\n",
              "  </thead>\n",
              "  <tbody>\n",
              "    <tr>\n",
              "      <th>0</th>\n",
              "      <td>False</td>\n",
              "      <td>False</td>\n",
              "      <td>False</td>\n",
              "      <td>False</td>\n",
              "      <td>False</td>\n",
              "      <td>False</td>\n",
              "      <td>False</td>\n",
              "      <td>False</td>\n",
              "      <td>False</td>\n",
              "      <td>False</td>\n",
              "      <td>False</td>\n",
              "    </tr>\n",
              "    <tr>\n",
              "      <th>1</th>\n",
              "      <td>False</td>\n",
              "      <td>False</td>\n",
              "      <td>False</td>\n",
              "      <td>False</td>\n",
              "      <td>False</td>\n",
              "      <td>False</td>\n",
              "      <td>False</td>\n",
              "      <td>False</td>\n",
              "      <td>False</td>\n",
              "      <td>False</td>\n",
              "      <td>False</td>\n",
              "    </tr>\n",
              "    <tr>\n",
              "      <th>2</th>\n",
              "      <td>False</td>\n",
              "      <td>False</td>\n",
              "      <td>False</td>\n",
              "      <td>False</td>\n",
              "      <td>False</td>\n",
              "      <td>False</td>\n",
              "      <td>False</td>\n",
              "      <td>False</td>\n",
              "      <td>False</td>\n",
              "      <td>False</td>\n",
              "      <td>False</td>\n",
              "    </tr>\n",
              "    <tr>\n",
              "      <th>3</th>\n",
              "      <td>False</td>\n",
              "      <td>False</td>\n",
              "      <td>False</td>\n",
              "      <td>False</td>\n",
              "      <td>False</td>\n",
              "      <td>False</td>\n",
              "      <td>False</td>\n",
              "      <td>False</td>\n",
              "      <td>False</td>\n",
              "      <td>False</td>\n",
              "      <td>False</td>\n",
              "    </tr>\n",
              "    <tr>\n",
              "      <th>4</th>\n",
              "      <td>False</td>\n",
              "      <td>False</td>\n",
              "      <td>False</td>\n",
              "      <td>False</td>\n",
              "      <td>False</td>\n",
              "      <td>False</td>\n",
              "      <td>False</td>\n",
              "      <td>False</td>\n",
              "      <td>False</td>\n",
              "      <td>False</td>\n",
              "      <td>False</td>\n",
              "    </tr>\n",
              "    <tr>\n",
              "      <th>...</th>\n",
              "      <td>...</td>\n",
              "      <td>...</td>\n",
              "      <td>...</td>\n",
              "      <td>...</td>\n",
              "      <td>...</td>\n",
              "      <td>...</td>\n",
              "      <td>...</td>\n",
              "      <td>...</td>\n",
              "      <td>...</td>\n",
              "      <td>...</td>\n",
              "      <td>...</td>\n",
              "    </tr>\n",
              "    <tr>\n",
              "      <th>295</th>\n",
              "      <td>False</td>\n",
              "      <td>False</td>\n",
              "      <td>False</td>\n",
              "      <td>False</td>\n",
              "      <td>False</td>\n",
              "      <td>False</td>\n",
              "      <td>False</td>\n",
              "      <td>False</td>\n",
              "      <td>False</td>\n",
              "      <td>False</td>\n",
              "      <td>False</td>\n",
              "    </tr>\n",
              "    <tr>\n",
              "      <th>296</th>\n",
              "      <td>False</td>\n",
              "      <td>False</td>\n",
              "      <td>False</td>\n",
              "      <td>False</td>\n",
              "      <td>False</td>\n",
              "      <td>False</td>\n",
              "      <td>False</td>\n",
              "      <td>False</td>\n",
              "      <td>False</td>\n",
              "      <td>False</td>\n",
              "      <td>False</td>\n",
              "    </tr>\n",
              "    <tr>\n",
              "      <th>297</th>\n",
              "      <td>False</td>\n",
              "      <td>False</td>\n",
              "      <td>False</td>\n",
              "      <td>False</td>\n",
              "      <td>False</td>\n",
              "      <td>False</td>\n",
              "      <td>False</td>\n",
              "      <td>False</td>\n",
              "      <td>False</td>\n",
              "      <td>False</td>\n",
              "      <td>False</td>\n",
              "    </tr>\n",
              "    <tr>\n",
              "      <th>298</th>\n",
              "      <td>False</td>\n",
              "      <td>False</td>\n",
              "      <td>False</td>\n",
              "      <td>False</td>\n",
              "      <td>False</td>\n",
              "      <td>False</td>\n",
              "      <td>False</td>\n",
              "      <td>False</td>\n",
              "      <td>False</td>\n",
              "      <td>False</td>\n",
              "      <td>False</td>\n",
              "    </tr>\n",
              "    <tr>\n",
              "      <th>299</th>\n",
              "      <td>False</td>\n",
              "      <td>False</td>\n",
              "      <td>False</td>\n",
              "      <td>False</td>\n",
              "      <td>False</td>\n",
              "      <td>False</td>\n",
              "      <td>False</td>\n",
              "      <td>False</td>\n",
              "      <td>False</td>\n",
              "      <td>False</td>\n",
              "      <td>False</td>\n",
              "    </tr>\n",
              "  </tbody>\n",
              "</table>\n",
              "<p>300 rows × 11 columns</p>\n",
              "</div>"
            ],
            "text/plain": [
              "     Self Awareness  Empathy  ...  Altruistic Behaviour  Total Score\n",
              "0             False    False  ...                 False        False\n",
              "1             False    False  ...                 False        False\n",
              "2             False    False  ...                 False        False\n",
              "3             False    False  ...                 False        False\n",
              "4             False    False  ...                 False        False\n",
              "..              ...      ...  ...                   ...          ...\n",
              "295           False    False  ...                 False        False\n",
              "296           False    False  ...                 False        False\n",
              "297           False    False  ...                 False        False\n",
              "298           False    False  ...                 False        False\n",
              "299           False    False  ...                 False        False\n",
              "\n",
              "[300 rows x 11 columns]"
            ]
          },
          "metadata": {
            "tags": []
          },
          "execution_count": 7
        }
      ]
    },
    {
      "cell_type": "code",
      "metadata": {
        "id": "e7bjCZnod4fU"
      },
      "source": [
        "#spliting data into dependent and independent data \n",
        "x = data.iloc[:, 0:1]\n",
        "y = data.iloc[:, 1]\n"
      ],
      "execution_count": 14,
      "outputs": []
    },
    {
      "cell_type": "code",
      "metadata": {
        "colab": {
          "base_uri": "https://localhost:8080/",
          "height": 191
        },
        "id": "dJbNJPRlrRrK",
        "outputId": "6cefddb1-bdeb-4133-8150-49714c1c1cfe"
      },
      "source": [
        "x.head()"
      ],
      "execution_count": 15,
      "outputs": [
        {
          "output_type": "execute_result",
          "data": {
            "text/html": [
              "<div>\n",
              "<style scoped>\n",
              "    .dataframe tbody tr th:only-of-type {\n",
              "        vertical-align: middle;\n",
              "    }\n",
              "\n",
              "    .dataframe tbody tr th {\n",
              "        vertical-align: top;\n",
              "    }\n",
              "\n",
              "    .dataframe thead th {\n",
              "        text-align: right;\n",
              "    }\n",
              "</style>\n",
              "<table border=\"1\" class=\"dataframe\">\n",
              "  <thead>\n",
              "    <tr style=\"text-align: right;\">\n",
              "      <th></th>\n",
              "      <th>Self Awareness</th>\n",
              "    </tr>\n",
              "  </thead>\n",
              "  <tbody>\n",
              "    <tr>\n",
              "      <th>0</th>\n",
              "      <td>5</td>\n",
              "    </tr>\n",
              "    <tr>\n",
              "      <th>1</th>\n",
              "      <td>5</td>\n",
              "    </tr>\n",
              "    <tr>\n",
              "      <th>2</th>\n",
              "      <td>5</td>\n",
              "    </tr>\n",
              "    <tr>\n",
              "      <th>3</th>\n",
              "      <td>5</td>\n",
              "    </tr>\n",
              "    <tr>\n",
              "      <th>4</th>\n",
              "      <td>5</td>\n",
              "    </tr>\n",
              "  </tbody>\n",
              "</table>\n",
              "</div>"
            ],
            "text/plain": [
              "   Self Awareness\n",
              "0               5\n",
              "1               5\n",
              "2               5\n",
              "3               5\n",
              "4               5"
            ]
          },
          "metadata": {
            "tags": []
          },
          "execution_count": 15
        }
      ]
    },
    {
      "cell_type": "code",
      "metadata": {
        "colab": {
          "base_uri": "https://localhost:8080/"
        },
        "id": "PuQmg7yIrVSB",
        "outputId": "c1371732-828a-44db-9533-80cbc0c39055"
      },
      "source": [
        "y.head()"
      ],
      "execution_count": 16,
      "outputs": [
        {
          "output_type": "execute_result",
          "data": {
            "text/plain": [
              "0    10\n",
              "1    10\n",
              "2     9\n",
              "3    10\n",
              "4     3\n",
              "Name: Empathy, dtype: int64"
            ]
          },
          "metadata": {
            "tags": []
          },
          "execution_count": 16
        }
      ]
    },
    {
      "cell_type": "code",
      "metadata": {
        "colab": {
          "base_uri": "https://localhost:8080/",
          "height": 373
        },
        "id": "Gj1yEpcNiICF",
        "outputId": "bc48abfb-3078-4adf-abb6-ce19c997737d"
      },
      "source": [
        "#building corealtion matrix\n",
        "sns.heatmap(data.corr())"
      ],
      "execution_count": 17,
      "outputs": [
        {
          "output_type": "execute_result",
          "data": {
            "text/plain": [
              "<matplotlib.axes._subplots.AxesSubplot at 0x7f5e2147e4d0>"
            ]
          },
          "metadata": {
            "tags": []
          },
          "execution_count": 17
        },
        {
          "output_type": "display_data",
          "data": {
            "image/png": "[encoded data removed]",
            "text/plain": [
              "<Figure size 432x288 with 2 Axes>"
            ]
          },
          "metadata": {
            "tags": [],
            "needs_background": "light"
          }
        }
      ]
    },
    {
      "cell_type": "markdown",
      "metadata": {
        "id": "JgIMUHKHzFwd"
      },
      "source": [
        "## **Splitting dataset into traing and test**"
      ]
    },
    {
      "cell_type": "code",
      "metadata": {
        "id": "qU2LenqyvIZ_",
        "colab": {
          "base_uri": "https://localhost:8080/"
        },
        "outputId": "08aa3208-5080-4eb4-dabf-ed89dcc46577"
      },
      "source": [
        "from sklearn.model_selection import train_test_split\n",
        "x_train,x_test,y_train,y_test=train_test_split(x,y,test_size=0.33,random_state=1)\n",
        "\n",
        "print(x_train.shape, x_test.shape, y_train.shape, y_test.shape)"
      ],
      "execution_count": 18,
      "outputs": [
        {
          "output_type": "stream",
          "text": [
            "(201, 1) (99, 1) (201,) (99,)\n"
          ],
          "name": "stdout"
        }
      ]
    },
    {
      "cell_type": "markdown",
      "metadata": {
        "id": "X86j60a_3n39"
      },
      "source": [
        "## **Training the Sample Linear Regression model on Training test**\n",
        "\n",
        "\n",
        "\n"
      ]
    },
    {
      "cell_type": "code",
      "metadata": {
        "id": "L8lJfeio30tk",
        "colab": {
          "base_uri": "https://localhost:8080/"
        },
        "outputId": "5266f7e4-d5be-4461-f3e3-0140f51fe54e"
      },
      "source": [
        "from sklearn.linear_model import LinearRegression\n",
        "lr=LinearRegression()\n",
        "lr.fit(x_train,y_train)"
      ],
      "execution_count": 19,
      "outputs": [
        {
          "output_type": "execute_result",
          "data": {
            "text/plain": [
              "LinearRegression(copy_X=True, fit_intercept=True, n_jobs=None, normalize=False)"
            ]
          },
          "metadata": {
            "tags": []
          },
          "execution_count": 19
        }
      ]
    },
    {
      "cell_type": "code",
      "metadata": {
        "colab": {
          "base_uri": "https://localhost:8080/"
        },
        "id": "PefAnw58ZnNG",
        "outputId": "23119349-005f-4ef5-f89a-f8c629bcdb87"
      },
      "source": [
        "x_train.shape"
      ],
      "execution_count": 20,
      "outputs": [
        {
          "output_type": "execute_result",
          "data": {
            "text/plain": [
              "(201, 1)"
            ]
          },
          "metadata": {
            "tags": []
          },
          "execution_count": 20
        }
      ]
    },
    {
      "cell_type": "code",
      "metadata": {
        "colab": {
          "base_uri": "https://localhost:8080/"
        },
        "id": "g1SYhk5JaPRb",
        "outputId": "4072ad66-70db-422e-f263-9a16ea76e80b"
      },
      "source": [
        "y_train.shape"
      ],
      "execution_count": null,
      "outputs": [
        {
          "output_type": "execute_result",
          "data": {
            "text/plain": [
              "(240, 1)"
            ]
          },
          "metadata": {
            "tags": []
          },
          "execution_count": 30
        }
      ]
    },
    {
      "cell_type": "markdown",
      "metadata": {
        "id": "_e71RjIptoJ6"
      },
      "source": [
        "## **Predicting test set result**"
      ]
    },
    {
      "cell_type": "code",
      "metadata": {
        "id": "GWRHXBy1tnR4",
        "colab": {
          "base_uri": "https://localhost:8080/"
        },
        "outputId": "c91500ae-84e9-4b5e-c749-d9beaaa2fc66"
      },
      "source": [
        "y_pred=lr.predict(x_test)\n",
        "y_pred.shape"
      ],
      "execution_count": 21,
      "outputs": [
        {
          "output_type": "execute_result",
          "data": {
            "text/plain": [
              "(99,)"
            ]
          },
          "metadata": {
            "tags": []
          },
          "execution_count": 21
        }
      ]
    },
    {
      "cell_type": "code",
      "metadata": {
        "colab": {
          "base_uri": "https://localhost:8080/",
          "height": 35
        },
        "id": "rUSHBgYzvJmf",
        "outputId": "94ca5e7e-9764-4874-df69-44f7adc27038"
      },
      "source": [
        "acc=lr.score(x_test,y_test)\n",
        "\"Accuracy:{}%\".format(int(round(acc*100)))"
      ],
      "execution_count": 22,
      "outputs": [
        {
          "output_type": "execute_result",
          "data": {
            "application/vnd.google.colaboratory.intrinsic+json": {
              "type": "string"
            },
            "text/plain": [
              "'Accuracy:50%'"
            ]
          },
          "metadata": {
            "tags": []
          },
          "execution_count": 22
        }
      ]
    },
    {
      "cell_type": "code",
      "metadata": {
        "colab": {
          "base_uri": "https://localhost:8080/"
        },
        "id": "99DFWLS3BwC8",
        "outputId": "74c92481-c629-4e25-cfd6-c6766e0b8011"
      },
      "source": [
        "from sklearn.metrics import r2_score\n",
        "r2_score(y_test,y_pred)\n",
        "#r2 value proves thats our model is good"
      ],
      "execution_count": 24,
      "outputs": [
        {
          "output_type": "execute_result",
          "data": {
            "text/plain": [
              "0.49728609512236266"
            ]
          },
          "metadata": {
            "tags": []
          },
          "execution_count": 24
        }
      ]
    },
    {
      "cell_type": "markdown",
      "metadata": {
        "id": "fQnPxhPdvKwo"
      },
      "source": [
        "## **Visualiztion traing set result**\n",
        "\n",
        "\n",
        "\n"
      ]
    },
    {
      "cell_type": "code",
      "metadata": {
        "colab": {
          "base_uri": "https://localhost:8080/",
          "height": 295
        },
        "id": "_yznFzszLCML",
        "outputId": "de722557-2f75-4bd0-97b9-148929958eaa"
      },
      "source": [
        "plt.scatter(x_train, y_train, color = 'red',label='Data Point')\n",
        "plt.plot(x_train, lr.predict(x_train), color = 'green',label='Linear Regerssion')\n",
        "plt.title('Study on Personality Test(Training set)')\n",
        "plt.xlabel('Total Score')\n",
        "plt.ylabel('Test')\n",
        "plt.legend()\n",
        "plt.show()"
      ],
      "execution_count": 23,
      "outputs": [
        {
          "output_type": "display_data",
          "data": {
            "image/png": "[encoded data removed]",
            "text/plain": [
              "<Figure size 432x288 with 1 Axes>"
            ]
          },
          "metadata": {
            "tags": [],
            "needs_background": "light"
          }
        }
      ]
    },
    {
      "cell_type": "markdown",
      "metadata": {
        "id": "x214_DBJN2A1"
      },
      "source": [
        "### **Visualiztion test set result**"
      ]
    },
    {
      "cell_type": "code",
      "metadata": {
        "colab": {
          "base_uri": "https://localhost:8080/",
          "height": 295
        },
        "id": "ULS4ovTOvU74",
        "outputId": "9dd7f9ba-b85f-4da1-9a70-0525863a186f"
      },
      "source": [
        "plt.scatter(x_test,y_test,color='red',label='Data Point')\n",
        "plt.plot(x_train,lr.predict(x_train),label='Linear Regerssion')\n",
        "plt.title('Study on Personality Test(Testing set)')\n",
        "plt.xlabel('Test')\n",
        "plt.ylabel('Total Score')\n",
        "plt.legend()\n",
        "plt.show()"
      ],
      "execution_count": null,
      "outputs": [
        {
          "output_type": "display_data",
          "data": {
            "image/png": "[encoded data removed]",
            "text/plain": [
              "<Figure size 432x288 with 1 Axes>"
            ]
          },
          "metadata": {
            "tags": []
          }
        }
      ]
    },
    {
      "cell_type": "code",
      "metadata": {
        "colab": {
          "base_uri": "https://localhost:8080/",
          "height": 615
        },
        "id": "xM5s-PI1of1o",
        "outputId": "3c1c49ba-277f-401d-e205-98f119eb5803"
      },
      "source": [
        "#outliers\n",
        "plt.figure(figsize=(16,8))\n",
        "\n",
        "plt.subplot(1,3,1)\n",
        "sns.distplot(data['Total Score'])\n",
        "\n",
        "sns.distplot(data[\"Total Score\"], kde=False, rug=True)\n",
        "plt.show()"
      ],
      "execution_count": null,
      "outputs": [
        {
          "output_type": "stream",
          "text": [
            "/usr/local/lib/python3.7/dist-packages/seaborn/distributions.py:2557: FutureWarning: `distplot` is a deprecated function and will be removed in a future version. Please adapt your code to use either `displot` (a figure-level function with similar flexibility) or `histplot` (an axes-level function for histograms).\n",
            "  warnings.warn(msg, FutureWarning)\n",
            "/usr/local/lib/python3.7/dist-packages/seaborn/distributions.py:2557: FutureWarning: `distplot` is a deprecated function and will be removed in a future version. Please adapt your code to use either `displot` (a figure-level function with similar flexibility) or `histplot` (an axes-level function for histograms).\n",
            "  warnings.warn(msg, FutureWarning)\n",
            "/usr/local/lib/python3.7/dist-packages/seaborn/distributions.py:2056: FutureWarning: The `axis` variable is no longer used and will be removed. Instead, assign variables directly to `x` or `y`.\n",
            "  warnings.warn(msg, FutureWarning)\n"
          ],
          "name": "stderr"
        },
        {
          "output_type": "display_data",
          "data": {
            "image/png": "[encoded data removed]",
            "text/plain": [
              "<Figure size 1152x576 with 1 Axes>"
            ]
          },
          "metadata": {
            "tags": []
          }
        }
      ]
    },
    {
      "cell_type": "markdown",
      "metadata": {
        "id": "DSfMt-Ydnahb"
      },
      "source": [
        "### **Categorising the students who passed or failed**"
      ]
    },
    {
      "cell_type": "code",
      "metadata": {
        "colab": {
          "base_uri": "https://localhost:8080/",
          "height": 407
        },
        "id": "o74BGCjTndei",
        "outputId": "04c2d079-764c-4066-b2df-bfc274bd42f4"
      },
      "source": [
        "cut_off = 50\n",
        "\n",
        "data['Result'] = data['Total Score']>=50\n",
        "data"
      ],
      "execution_count": null,
      "outputs": [
        {
          "output_type": "execute_result",
          "data": {
            "text/html": [
              "<div>\n",
              "<style scoped>\n",
              "    .dataframe tbody tr th:only-of-type {\n",
              "        vertical-align: middle;\n",
              "    }\n",
              "\n",
              "    .dataframe tbody tr th {\n",
              "        vertical-align: top;\n",
              "    }\n",
              "\n",
              "    .dataframe thead th {\n",
              "        text-align: right;\n",
              "    }\n",
              "</style>\n",
              "<table border=\"1\" class=\"dataframe\">\n",
              "  <thead>\n",
              "    <tr style=\"text-align: right;\">\n",
              "      <th></th>\n",
              "      <th>Self Awareness</th>\n",
              "      <th>Empathy</th>\n",
              "      <th>Self Motivation</th>\n",
              "      <th>Emotional Stabilty</th>\n",
              "      <th>Managing Relations</th>\n",
              "      <th>Integrity</th>\n",
              "      <th>Self Development</th>\n",
              "      <th>Value Orientation</th>\n",
              "      <th>Commitment</th>\n",
              "      <th>Altruistic Behaviour</th>\n",
              "      <th>Total Score</th>\n",
              "      <th>Result</th>\n",
              "    </tr>\n",
              "  </thead>\n",
              "  <tbody>\n",
              "    <tr>\n",
              "      <th>0</th>\n",
              "      <td>5</td>\n",
              "      <td>10</td>\n",
              "      <td>3</td>\n",
              "      <td>4</td>\n",
              "      <td>2</td>\n",
              "      <td>7</td>\n",
              "      <td>3</td>\n",
              "      <td>5</td>\n",
              "      <td>3</td>\n",
              "      <td>6</td>\n",
              "      <td>48</td>\n",
              "      <td>False</td>\n",
              "    </tr>\n",
              "    <tr>\n",
              "      <th>1</th>\n",
              "      <td>5</td>\n",
              "      <td>10</td>\n",
              "      <td>7</td>\n",
              "      <td>4</td>\n",
              "      <td>2</td>\n",
              "      <td>5</td>\n",
              "      <td>3</td>\n",
              "      <td>5</td>\n",
              "      <td>3</td>\n",
              "      <td>6</td>\n",
              "      <td>50</td>\n",
              "      <td>True</td>\n",
              "    </tr>\n",
              "    <tr>\n",
              "      <th>2</th>\n",
              "      <td>5</td>\n",
              "      <td>9</td>\n",
              "      <td>7</td>\n",
              "      <td>4</td>\n",
              "      <td>2</td>\n",
              "      <td>5</td>\n",
              "      <td>3</td>\n",
              "      <td>5</td>\n",
              "      <td>3</td>\n",
              "      <td>5</td>\n",
              "      <td>48</td>\n",
              "      <td>False</td>\n",
              "    </tr>\n",
              "    <tr>\n",
              "      <th>3</th>\n",
              "      <td>5</td>\n",
              "      <td>10</td>\n",
              "      <td>7</td>\n",
              "      <td>4</td>\n",
              "      <td>2</td>\n",
              "      <td>5</td>\n",
              "      <td>3</td>\n",
              "      <td>5</td>\n",
              "      <td>3</td>\n",
              "      <td>6</td>\n",
              "      <td>50</td>\n",
              "      <td>True</td>\n",
              "    </tr>\n",
              "    <tr>\n",
              "      <th>4</th>\n",
              "      <td>5</td>\n",
              "      <td>3</td>\n",
              "      <td>7</td>\n",
              "      <td>4</td>\n",
              "      <td>2</td>\n",
              "      <td>5</td>\n",
              "      <td>3</td>\n",
              "      <td>5</td>\n",
              "      <td>3</td>\n",
              "      <td>6</td>\n",
              "      <td>43</td>\n",
              "      <td>False</td>\n",
              "    </tr>\n",
              "    <tr>\n",
              "      <th>...</th>\n",
              "      <td>...</td>\n",
              "      <td>...</td>\n",
              "      <td>...</td>\n",
              "      <td>...</td>\n",
              "      <td>...</td>\n",
              "      <td>...</td>\n",
              "      <td>...</td>\n",
              "      <td>...</td>\n",
              "      <td>...</td>\n",
              "      <td>...</td>\n",
              "      <td>...</td>\n",
              "      <td>...</td>\n",
              "    </tr>\n",
              "    <tr>\n",
              "      <th>295</th>\n",
              "      <td>5</td>\n",
              "      <td>10</td>\n",
              "      <td>7</td>\n",
              "      <td>4</td>\n",
              "      <td>2</td>\n",
              "      <td>5</td>\n",
              "      <td>3</td>\n",
              "      <td>5</td>\n",
              "      <td>3</td>\n",
              "      <td>6</td>\n",
              "      <td>50</td>\n",
              "      <td>True</td>\n",
              "    </tr>\n",
              "    <tr>\n",
              "      <th>296</th>\n",
              "      <td>5</td>\n",
              "      <td>9</td>\n",
              "      <td>7</td>\n",
              "      <td>4</td>\n",
              "      <td>2</td>\n",
              "      <td>5</td>\n",
              "      <td>3</td>\n",
              "      <td>5</td>\n",
              "      <td>3</td>\n",
              "      <td>5</td>\n",
              "      <td>48</td>\n",
              "      <td>False</td>\n",
              "    </tr>\n",
              "    <tr>\n",
              "      <th>297</th>\n",
              "      <td>5</td>\n",
              "      <td>10</td>\n",
              "      <td>7</td>\n",
              "      <td>4</td>\n",
              "      <td>2</td>\n",
              "      <td>5</td>\n",
              "      <td>3</td>\n",
              "      <td>5</td>\n",
              "      <td>3</td>\n",
              "      <td>6</td>\n",
              "      <td>50</td>\n",
              "      <td>True</td>\n",
              "    </tr>\n",
              "    <tr>\n",
              "      <th>298</th>\n",
              "      <td>5</td>\n",
              "      <td>3</td>\n",
              "      <td>7</td>\n",
              "      <td>4</td>\n",
              "      <td>2</td>\n",
              "      <td>5</td>\n",
              "      <td>3</td>\n",
              "      <td>5</td>\n",
              "      <td>3</td>\n",
              "      <td>6</td>\n",
              "      <td>43</td>\n",
              "      <td>False</td>\n",
              "    </tr>\n",
              "    <tr>\n",
              "      <th>299</th>\n",
              "      <td>5</td>\n",
              "      <td>10</td>\n",
              "      <td>7</td>\n",
              "      <td>4</td>\n",
              "      <td>2</td>\n",
              "      <td>5</td>\n",
              "      <td>3</td>\n",
              "      <td>5</td>\n",
              "      <td>3</td>\n",
              "      <td>6</td>\n",
              "      <td>50</td>\n",
              "      <td>True</td>\n",
              "    </tr>\n",
              "  </tbody>\n",
              "</table>\n",
              "<p>300 rows × 12 columns</p>\n",
              "</div>"
            ],
            "text/plain": [
              "     Self Awareness  Empathy  ...  Total Score  Result\n",
              "0                 5       10  ...           48   False\n",
              "1                 5       10  ...           50    True\n",
              "2                 5        9  ...           48   False\n",
              "3                 5       10  ...           50    True\n",
              "4                 5        3  ...           43   False\n",
              "..              ...      ...  ...          ...     ...\n",
              "295               5       10  ...           50    True\n",
              "296               5        9  ...           48   False\n",
              "297               5       10  ...           50    True\n",
              "298               5        3  ...           43   False\n",
              "299               5       10  ...           50    True\n",
              "\n",
              "[300 rows x 12 columns]"
            ]
          },
          "metadata": {
            "tags": []
          },
          "execution_count": 36
        }
      ]
    },
    {
      "cell_type": "code",
      "metadata": {
        "id": "V627BT_hoL0e"
      },
      "source": [
        "data[\"Result\"] = data[\"Result\"].astype(str)"
      ],
      "execution_count": null,
      "outputs": []
    },
    {
      "cell_type": "code",
      "metadata": {
        "id": "ceT1DizOoRII"
      },
      "source": [
        "data.Result = data.Result.replace({\"True\": \"Passed\", \"False\": \"Failed\"})"
      ],
      "execution_count": null,
      "outputs": []
    },
    {
      "cell_type": "code",
      "metadata": {
        "colab": {
          "base_uri": "https://localhost:8080/",
          "height": 407
        },
        "id": "QgmRDHbAoXri",
        "outputId": "c97f5571-c7f0-4381-d6f3-c7db98245d6d"
      },
      "source": [
        "data"
      ],
      "execution_count": null,
      "outputs": [
        {
          "output_type": "execute_result",
          "data": {
            "text/html": [
              "<div>\n",
              "<style scoped>\n",
              "    .dataframe tbody tr th:only-of-type {\n",
              "        vertical-align: middle;\n",
              "    }\n",
              "\n",
              "    .dataframe tbody tr th {\n",
              "        vertical-align: top;\n",
              "    }\n",
              "\n",
              "    .dataframe thead th {\n",
              "        text-align: right;\n",
              "    }\n",
              "</style>\n",
              "<table border=\"1\" class=\"dataframe\">\n",
              "  <thead>\n",
              "    <tr style=\"text-align: right;\">\n",
              "      <th></th>\n",
              "      <th>Self Awareness</th>\n",
              "      <th>Empathy</th>\n",
              "      <th>Self Motivation</th>\n",
              "      <th>Emotional Stabilty</th>\n",
              "      <th>Managing Relations</th>\n",
              "      <th>Integrity</th>\n",
              "      <th>Self Development</th>\n",
              "      <th>Value Orientation</th>\n",
              "      <th>Commitment</th>\n",
              "      <th>Altruistic Behaviour</th>\n",
              "      <th>Total Score</th>\n",
              "      <th>Result</th>\n",
              "    </tr>\n",
              "  </thead>\n",
              "  <tbody>\n",
              "    <tr>\n",
              "      <th>0</th>\n",
              "      <td>5</td>\n",
              "      <td>10</td>\n",
              "      <td>3</td>\n",
              "      <td>4</td>\n",
              "      <td>2</td>\n",
              "      <td>7</td>\n",
              "      <td>3</td>\n",
              "      <td>5</td>\n",
              "      <td>3</td>\n",
              "      <td>6</td>\n",
              "      <td>48</td>\n",
              "      <td>Failed</td>\n",
              "    </tr>\n",
              "    <tr>\n",
              "      <th>1</th>\n",
              "      <td>5</td>\n",
              "      <td>10</td>\n",
              "      <td>7</td>\n",
              "      <td>4</td>\n",
              "      <td>2</td>\n",
              "      <td>5</td>\n",
              "      <td>3</td>\n",
              "      <td>5</td>\n",
              "      <td>3</td>\n",
              "      <td>6</td>\n",
              "      <td>50</td>\n",
              "      <td>Passed</td>\n",
              "    </tr>\n",
              "    <tr>\n",
              "      <th>2</th>\n",
              "      <td>5</td>\n",
              "      <td>9</td>\n",
              "      <td>7</td>\n",
              "      <td>4</td>\n",
              "      <td>2</td>\n",
              "      <td>5</td>\n",
              "      <td>3</td>\n",
              "      <td>5</td>\n",
              "      <td>3</td>\n",
              "      <td>5</td>\n",
              "      <td>48</td>\n",
              "      <td>Failed</td>\n",
              "    </tr>\n",
              "    <tr>\n",
              "      <th>3</th>\n",
              "      <td>5</td>\n",
              "      <td>10</td>\n",
              "      <td>7</td>\n",
              "      <td>4</td>\n",
              "      <td>2</td>\n",
              "      <td>5</td>\n",
              "      <td>3</td>\n",
              "      <td>5</td>\n",
              "      <td>3</td>\n",
              "      <td>6</td>\n",
              "      <td>50</td>\n",
              "      <td>Passed</td>\n",
              "    </tr>\n",
              "    <tr>\n",
              "      <th>4</th>\n",
              "      <td>5</td>\n",
              "      <td>3</td>\n",
              "      <td>7</td>\n",
              "      <td>4</td>\n",
              "      <td>2</td>\n",
              "      <td>5</td>\n",
              "      <td>3</td>\n",
              "      <td>5</td>\n",
              "      <td>3</td>\n",
              "      <td>6</td>\n",
              "      <td>43</td>\n",
              "      <td>Failed</td>\n",
              "    </tr>\n",
              "    <tr>\n",
              "      <th>...</th>\n",
              "      <td>...</td>\n",
              "      <td>...</td>\n",
              "      <td>...</td>\n",
              "      <td>...</td>\n",
              "      <td>...</td>\n",
              "      <td>...</td>\n",
              "      <td>...</td>\n",
              "      <td>...</td>\n",
              "      <td>...</td>\n",
              "      <td>...</td>\n",
              "      <td>...</td>\n",
              "      <td>...</td>\n",
              "    </tr>\n",
              "    <tr>\n",
              "      <th>295</th>\n",
              "      <td>5</td>\n",
              "      <td>10</td>\n",
              "      <td>7</td>\n",
              "      <td>4</td>\n",
              "      <td>2</td>\n",
              "      <td>5</td>\n",
              "      <td>3</td>\n",
              "      <td>5</td>\n",
              "      <td>3</td>\n",
              "      <td>6</td>\n",
              "      <td>50</td>\n",
              "      <td>Passed</td>\n",
              "    </tr>\n",
              "    <tr>\n",
              "      <th>296</th>\n",
              "      <td>5</td>\n",
              "      <td>9</td>\n",
              "      <td>7</td>\n",
              "      <td>4</td>\n",
              "      <td>2</td>\n",
              "      <td>5</td>\n",
              "      <td>3</td>\n",
              "      <td>5</td>\n",
              "      <td>3</td>\n",
              "      <td>5</td>\n",
              "      <td>48</td>\n",
              "      <td>Failed</td>\n",
              "    </tr>\n",
              "    <tr>\n",
              "      <th>297</th>\n",
              "      <td>5</td>\n",
              "      <td>10</td>\n",
              "      <td>7</td>\n",
              "      <td>4</td>\n",
              "      <td>2</td>\n",
              "      <td>5</td>\n",
              "      <td>3</td>\n",
              "      <td>5</td>\n",
              "      <td>3</td>\n",
              "      <td>6</td>\n",
              "      <td>50</td>\n",
              "      <td>Passed</td>\n",
              "    </tr>\n",
              "    <tr>\n",
              "      <th>298</th>\n",
              "      <td>5</td>\n",
              "      <td>3</td>\n",
              "      <td>7</td>\n",
              "      <td>4</td>\n",
              "      <td>2</td>\n",
              "      <td>5</td>\n",
              "      <td>3</td>\n",
              "      <td>5</td>\n",
              "      <td>3</td>\n",
              "      <td>6</td>\n",
              "      <td>43</td>\n",
              "      <td>Failed</td>\n",
              "    </tr>\n",
              "    <tr>\n",
              "      <th>299</th>\n",
              "      <td>5</td>\n",
              "      <td>10</td>\n",
              "      <td>7</td>\n",
              "      <td>4</td>\n",
              "      <td>2</td>\n",
              "      <td>5</td>\n",
              "      <td>3</td>\n",
              "      <td>5</td>\n",
              "      <td>3</td>\n",
              "      <td>6</td>\n",
              "      <td>50</td>\n",
              "      <td>Passed</td>\n",
              "    </tr>\n",
              "  </tbody>\n",
              "</table>\n",
              "<p>300 rows × 12 columns</p>\n",
              "</div>"
            ],
            "text/plain": [
              "     Self Awareness  Empathy  ...  Total Score  Result\n",
              "0                 5       10  ...           48  Failed\n",
              "1                 5       10  ...           50  Passed\n",
              "2                 5        9  ...           48  Failed\n",
              "3                 5       10  ...           50  Passed\n",
              "4                 5        3  ...           43  Failed\n",
              "..              ...      ...  ...          ...     ...\n",
              "295               5       10  ...           50  Passed\n",
              "296               5        9  ...           48  Failed\n",
              "297               5       10  ...           50  Passed\n",
              "298               5        3  ...           43  Failed\n",
              "299               5       10  ...           50  Passed\n",
              "\n",
              "[300 rows x 12 columns]"
            ]
          },
          "metadata": {
            "tags": []
          },
          "execution_count": 39
        }
      ]
    },
    {
      "cell_type": "code",
      "metadata": {
        "colab": {
          "base_uri": "https://localhost:8080/"
        },
        "id": "qzuobQkZod5l",
        "outputId": "5ff01006-ca67-4f41-cbd5-f7a8fc13bdf0"
      },
      "source": [
        "data[\"Result\"].value_counts()"
      ],
      "execution_count": null,
      "outputs": [
        {
          "output_type": "execute_result",
          "data": {
            "text/plain": [
              "Passed    204\n",
              "Failed     96\n",
              "Name: Result, dtype: int64"
            ]
          },
          "metadata": {
            "tags": []
          },
          "execution_count": 40
        }
      ]
    },
    {
      "cell_type": "code",
      "metadata": {
        "id": "pfGCVL7rKH3M",
        "colab": {
          "base_uri": "https://localhost:8080/"
        },
        "outputId": "372926a5-5f00-44a7-c552-f1cae81fb48d"
      },
      "source": [
        "#confidence intervale for math score\n",
        "import scipy.stats as stats\n",
        "import math \n",
        "\n",
        "np.random.seed(10)\n",
        "sample_size=1000\n",
        "sample =np.random.choice(a=data['Total Score'],size=sample_size)\n",
        "sample_mean=sample.mean()\n",
        "\n",
        "#check z_critical value\n",
        "z_critical=stats.norm.ppf(q=0.95)\n",
        "\n",
        "print(\"z_critical value:\",z_critical)\n",
        "\n",
        "#get population standard devition \n",
        "pop_stdev=data['Total Score'].std()\n",
        "\n",
        "#checking the margin of level \n",
        "margin_of_error=z_critical*(pop_stdev/math.sqrt(sample_size))\n",
        "\n",
        "#defining our confidence interval \n",
        "confidence_interval=(sample_mean-margin_of_error, sample_mean+margin_of_error)\n",
        "\n",
        "#print results\n",
        "print(\"confidence interval:\", end=\"\")\n",
        "print(confidence_interval)\n",
        "print(\"True mean:{}\".format(data['Total Score'].mean()))"
      ],
      "execution_count": null,
      "outputs": [
        {
          "output_type": "stream",
          "text": [
            "z_critical value: 1.6448536269514722\n",
            "confidence interval:(58.17672505721774, 60.913274942782266)\n",
            "True mean:58.63666666666666\n"
          ],
          "name": "stdout"
        }
      ]
    },
    {
      "cell_type": "code",
      "metadata": {
        "id": "YsuB3jY4n_o6",
        "colab": {
          "base_uri": "https://localhost:8080/"
        },
        "outputId": "0d3e6aa0-625c-46bc-bd8c-08c22184b10f"
      },
      "source": [
        "#mean_absolute_error\n",
        "mae=mean_absolute_error(y_test,y_pred)\n",
        "print('MAE:%3f'%mae)"
      ],
      "execution_count": null,
      "outputs": [
        {
          "output_type": "stream",
          "text": [
            "MAE:1.982675\n"
          ],
          "name": "stdout"
        }
      ]
    }
  ]
}