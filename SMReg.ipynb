{
  "nbformat": 4,
  "nbformat_minor": 0,
  "metadata": {
    "colab": {
      "name": "Untitled6.ipynb",
      "provenance": [],
      "collapsed_sections": [],
      "authorship_tag": "ABX9TyMKAh8Mia67Hb+6EhjSL/bB",
      "include_colab_link": true
    },
    "kernelspec": {
      "name": "python3",
      "display_name": "Python 3"
    },
    "language_info": {
      "name": "python"
    }
  },
  "cells": [
    {
      "cell_type": "markdown",
      "metadata": {
        "id": "view-in-github",
        "colab_type": "text"
      },
      "source": [
        "<a href=\"https://colab.research.google.com/github/Vrushali9-collab/statsmodels-linear-regression/blob/main/SMReg.ipynb\" target=\"_parent\"><img src=\"https://colab.research.google.com/assets/colab-badge.svg\" alt=\"Open In Colab\"/></a>"
      ]
    },
    {
      "cell_type": "markdown",
      "metadata": {
        "id": "jl_oDnW82WLB"
      },
      "source": [
        "### ***Simple Linear Regression ***"
      ]
    },
    {
      "cell_type": "code",
      "metadata": {
        "id": "oo3-EFSH1hF9"
      },
      "source": [
        "import pandas.util.testing as tm\n",
        "import pandas as pd\n",
        "import numpy as np\n",
        "import seaborn as sns\n",
        "import matplotlib.pyplot as plt\n",
        "import statsmodels.api as sm\n",
        "%matplotlib inline"
      ],
      "execution_count": null,
      "outputs": []
    },
    {
      "cell_type": "code",
      "metadata": {
        "id": "GdPa31hB1xE6"
      },
      "source": [
        "#importing dataset\n",
        "data=pd.read_csv('/content/advertising.csv')"
      ],
      "execution_count": null,
      "outputs": []
    },
    {
      "cell_type": "code",
      "metadata": {
        "id": "VtnFluIt2jMk"
      },
      "source": [
        "#Initializing the variables\n",
        "x = data['TV'].values.reshape(-1,1)\n",
        "y = data['Sales'].values.reshape(-1,1)"
      ],
      "execution_count": null,
      "outputs": []
    },
    {
      "cell_type": "code",
      "metadata": {
        "colab": {
          "base_uri": "https://localhost:8080/",
          "height": 496
        },
        "id": "1RjdBNB-4p1n",
        "outputId": "f97b7cb0-5387-4bc2-9dc3-889c4537f986"
      },
      "source": [
        "\n",
        "#Ploting a graph to see the points\n",
        "plt.figure(figsize=(16, 8))\n",
        "plt.scatter(x, y, c='black')\n",
        "plt.xlabel(\"Money spent on TV ads ($)\")\n",
        "plt.ylabel(\"Sales ($)\")\n",
        "plt.show()"
      ],
      "execution_count": null,
      "outputs": [
        {
          "output_type": "display_data",
          "data": {
            "image/png": "[encoded data removed]",
            "text/plain": [
              "<Figure size 1152x576 with 1 Axes>"
            ]
          },
          "metadata": {
            "tags": [],
            "needs_background": "light"
          }
        }
      ]
    },
    {
      "cell_type": "code",
      "metadata": {
        "colab": {
          "base_uri": "https://localhost:8080/"
        },
        "id": "64FumFc12pyA",
        "outputId": "0ac6c640-06d1-4dc8-ebd5-0dde70900cc0"
      },
      "source": [
        "#Spliting the dataset into Training set and Test Set\n",
        "from sklearn.model_selection import train_test_split\n",
        "x_train,x_test,y_train,y_test=train_test_split(x,y,test_size=0.2,random_state=42)\n",
        "print(x_train.shape, x_test.shape, y_train.shape, y_test.shape)\n"
      ],
      "execution_count": null,
      "outputs": [
        {
          "output_type": "stream",
          "text": [
            "(160, 1) (40, 1) (160, 1) (40, 1)\n"
          ],
          "name": "stdout"
        }
      ]
    },
    {
      "cell_type": "code",
      "metadata": {
        "colab": {
          "base_uri": "https://localhost:8080/"
        },
        "id": "cxYKdzAc3NXG",
        "outputId": "0efc30ff-2e01-4806-ef57-e4c0d49c0a0f"
      },
      "source": [
        "#Fitting Linear Regression to the training set\n",
        "from sklearn.linear_model import LinearRegression\n",
        "lr=LinearRegression()\n",
        "lr.fit(x_train,y_train)"
      ],
      "execution_count": null,
      "outputs": [
        {
          "output_type": "execute_result",
          "data": {
            "text/plain": [
              "LinearRegression(copy_X=True, fit_intercept=True, n_jobs=None, normalize=False)"
            ]
          },
          "metadata": {
            "tags": []
          },
          "execution_count": 24
        }
      ]
    },
    {
      "cell_type": "code",
      "metadata": {
        "id": "37Xwq5UL3ee-"
      },
      "source": [
        "#predicting test set result\n",
        "y_pred=lr.predict(x_test)"
      ],
      "execution_count": null,
      "outputs": []
    },
    {
      "cell_type": "code",
      "metadata": {
        "colab": {
          "base_uri": "https://localhost:8080/"
        },
        "id": "QpniNTeg3sbL",
        "outputId": "5c5d165c-772e-4cec-a305-e85235db33c9"
      },
      "source": [
        "y_pred.shape"
      ],
      "execution_count": null,
      "outputs": [
        {
          "output_type": "execute_result",
          "data": {
            "text/plain": [
              "(160, 1)"
            ]
          },
          "metadata": {
            "tags": []
          },
          "execution_count": 47
        }
      ]
    },
    {
      "cell_type": "code",
      "metadata": {
        "colab": {
          "base_uri": "https://localhost:8080/"
        },
        "id": "0LqrNr9W3vPG",
        "outputId": "52a7c269-f556-40ad-dc78-820f80742380"
      },
      "source": [
        "y_test.shape"
      ],
      "execution_count": null,
      "outputs": [
        {
          "output_type": "execute_result",
          "data": {
            "text/plain": [
              "(40, 1)"
            ]
          },
          "metadata": {
            "tags": []
          },
          "execution_count": 48
        }
      ]
    },
    {
      "cell_type": "code",
      "metadata": {
        "colab": {
          "base_uri": "https://localhost:8080/"
        },
        "id": "tfUMu5Nm4M9l",
        "outputId": "dcba56b2-7aa6-4732-ad4d-9c60b0e96055"
      },
      "source": [
        "y_train.shape"
      ],
      "execution_count": null,
      "outputs": [
        {
          "output_type": "execute_result",
          "data": {
            "text/plain": [
              "(160, 1)"
            ]
          },
          "metadata": {
            "tags": []
          },
          "execution_count": 49
        }
      ]
    },
    {
      "cell_type": "code",
      "metadata": {
        "colab": {
          "base_uri": "https://localhost:8080/",
          "height": 278
        },
        "id": "JObYFTu8AwLv",
        "outputId": "a8964f87-b97f-4bca-a018-7dbd07cae973"
      },
      "source": [
        "#predicting the Train Set Result\n",
        "plt.scatter(x_train,y_train,c='black')\n",
        "plt.plot(x_train,lr.predict(x_train))\n",
        "plt.xlabel(\"Money spent on TV ads ($)\")\n",
        "plt.ylabel(\"Sales ($)\")\n",
        "plt.show()"
      ],
      "execution_count": null,
      "outputs": [
        {
          "output_type": "display_data",
          "data": {
            "image/png": "[encoded data removed]",
            "text/plain": [
              "<Figure size 432x288 with 1 Axes>"
            ]
          },
          "metadata": {
            "tags": [],
            "needs_background": "light"
          }
        }
      ]
    },
    {
      "cell_type": "code",
      "metadata": {
        "colab": {
          "base_uri": "https://localhost:8080/",
          "height": 278
        },
        "id": "BZKgHv9638NA",
        "outputId": "9dd66ec2-f145-43ac-b4d2-a15d6e8fee8f"
      },
      "source": [
        "#predicting the Test set result\n",
        "plt.scatter(x_test,y_test)\n",
        "plt.plot(x_test,lr.predict(x_test))\n",
        "plt.xlabel(\"Money spent on TV ads ($)\")\n",
        "plt.ylabel(\"Sales ($)\")\n",
        "plt.show()"
      ],
      "execution_count": null,
      "outputs": [
        {
          "output_type": "display_data",
          "data": {
            "image/png": "[encoded data removed]",
            "text/plain": [
              "<Figure size 432x288 with 1 Axes>"
            ]
          },
          "metadata": {
            "tags": [],
            "needs_background": "light"
          }
        }
      ]
    },
    {
      "cell_type": "code",
      "metadata": {
        "colab": {
          "base_uri": "https://localhost:8080/"
        },
        "id": "74_jYswIBtBk",
        "outputId": "09f9a169-adb9-493e-e479-cc7fd6d9144a"
      },
      "source": [
        "#Calculating the Coefficients\n",
        "lr.coef_"
      ],
      "execution_count": null,
      "outputs": [
        {
          "output_type": "execute_result",
          "data": {
            "text/plain": [
              "array([[0.05548294]])"
            ]
          },
          "metadata": {
            "tags": []
          },
          "execution_count": 41
        }
      ]
    },
    {
      "cell_type": "code",
      "metadata": {
        "colab": {
          "base_uri": "https://localhost:8080/"
        },
        "id": "hUEwpo6iB0WZ",
        "outputId": "63da7cb2-6381-4c9c-e700-7933be154ddb"
      },
      "source": [
        "#Calculating the Intercept\n",
        "lr.intercept_"
      ],
      "execution_count": null,
      "outputs": [
        {
          "output_type": "execute_result",
          "data": {
            "text/plain": [
              "array([7.00710843])"
            ]
          },
          "metadata": {
            "tags": []
          },
          "execution_count": 42
        }
      ]
    },
    {
      "cell_type": "code",
      "metadata": {
        "id": "gAl9MpiNFTLM"
      },
      "source": [
        "#Calculating the R squared value\n",
        "from sklearn.metrics import r2_score\n",
        "score=r2_score(y_train, y_pred)"
      ],
      "execution_count": null,
      "outputs": []
    },
    {
      "cell_type": "code",
      "metadata": {
        "colab": {
          "base_uri": "https://localhost:8080/"
        },
        "id": "p-gZFm44Fr5D",
        "outputId": "1eda45ad-444d-4f8c-8675-ae59866ea005"
      },
      "source": [
        "print('Coefficient of Determination for Linear Regerssion is:', score)"
      ],
      "execution_count": null,
      "outputs": [
        {
          "output_type": "stream",
          "text": [
            "Coefficient of Determination for Linear Regerssion is: 0.8134866044709264\n"
          ],
          "name": "stdout"
        }
      ]
    },
    {
      "cell_type": "markdown",
      "metadata": {
        "id": "Lrnp2lIUDIw-"
      },
      "source": [
        "### **Multiple Linear Regerssion**"
      ]
    },
    {
      "cell_type": "code",
      "metadata": {
        "id": "oh4E1mGrIiUC"
      },
      "source": [
        "#Initializing the variables\n",
        "x = data.drop(['Sales'], axis=1)\n",
        "y = data['Sales'].values.reshape(-1,1)"
      ],
      "execution_count": null,
      "outputs": []
    },
    {
      "cell_type": "code",
      "metadata": {
        "id": "qkM_oNg1Izj0"
      },
      "source": [
        "#Splitting our dataset to Training and Testing dataset\n",
        "from sklearn.model_selection import train_test_split\n",
        "x_train, x_test, y_train, y_test = train_test_split(x, y, test_size=0.2, random_state=42)"
      ],
      "execution_count": null,
      "outputs": []
    },
    {
      "cell_type": "code",
      "metadata": {
        "colab": {
          "base_uri": "https://localhost:8080/"
        },
        "id": "NkB6f_ExI6am",
        "outputId": "9552e7e1-70b3-45ce-9d65-c4fdb138f498"
      },
      "source": [
        "#Fitting Linear Regression to the training set\n",
        "from sklearn.linear_model import LinearRegression\n",
        "multiple_reg = LinearRegression()\n",
        "multiple_reg.fit(x_train, y_train)"
      ],
      "execution_count": null,
      "outputs": [
        {
          "output_type": "execute_result",
          "data": {
            "text/plain": [
              "LinearRegression(copy_X=True, fit_intercept=True, n_jobs=None, normalize=False)"
            ]
          },
          "metadata": {
            "tags": []
          },
          "execution_count": 58
        }
      ]
    },
    {
      "cell_type": "code",
      "metadata": {
        "id": "DZjHICHaJDLi"
      },
      "source": [
        "#predicting the Test set result\n",
        "y_pred = multiple_reg.predict(x_test)"
      ],
      "execution_count": null,
      "outputs": []
    },
    {
      "cell_type": "code",
      "metadata": {
        "colab": {
          "base_uri": "https://localhost:8080/"
        },
        "id": "n1OIgW-OJGx3",
        "outputId": "2007ef0e-923f-4049-ecc9-89c14b5e8a01"
      },
      "source": [
        "y_pred.shape"
      ],
      "execution_count": null,
      "outputs": [
        {
          "output_type": "execute_result",
          "data": {
            "text/plain": [
              "(40, 1)"
            ]
          },
          "metadata": {
            "tags": []
          },
          "execution_count": 60
        }
      ]
    },
    {
      "cell_type": "code",
      "metadata": {
        "colab": {
          "base_uri": "https://localhost:8080/"
        },
        "id": "JrrOL7Q2JJsB",
        "outputId": "d821badf-200d-491c-df55-71a68deb9dd3"
      },
      "source": [
        "#Calculating the Coefficients\n",
        "multiple_reg.coef_"
      ],
      "execution_count": null,
      "outputs": [
        {
          "output_type": "execute_result",
          "data": {
            "text/plain": [
              "array([[0.05450927, 0.10094536, 0.00433665]])"
            ]
          },
          "metadata": {
            "tags": []
          },
          "execution_count": 61
        }
      ]
    },
    {
      "cell_type": "code",
      "metadata": {
        "colab": {
          "base_uri": "https://localhost:8080/"
        },
        "id": "pLDCC6VyJQMe",
        "outputId": "0ba006f8-76c4-4680-f70d-c886e623720f"
      },
      "source": [
        "#Calculating the Intercept\n",
        "multiple_reg.intercept_"
      ],
      "execution_count": null,
      "outputs": [
        {
          "output_type": "execute_result",
          "data": {
            "text/plain": [
              "array([4.7141264])"
            ]
          },
          "metadata": {
            "tags": []
          },
          "execution_count": 62
        }
      ]
    },
    {
      "cell_type": "code",
      "metadata": {
        "colab": {
          "base_uri": "https://localhost:8080/"
        },
        "id": "pwQve-SdJVJg",
        "outputId": "a45a0a75-49e8-4650-abfc-ed2a831a9202"
      },
      "source": [
        "#Calculating the R squared value\n",
        "from sklearn.metrics import r2_score\n",
        "r2_score(y_test, y_pred)"
      ],
      "execution_count": null,
      "outputs": [
        {
          "output_type": "execute_result",
          "data": {
            "text/plain": [
              "0.9059011844150826"
            ]
          },
          "metadata": {
            "tags": []
          },
          "execution_count": 63
        }
      ]
    },
    {
      "cell_type": "code",
      "metadata": {
        "colab": {
          "base_uri": "https://localhost:8080/"
        },
        "id": "clK4ebg-JhrD",
        "outputId": "c7fc9d44-ef64-4573-c77c-1820dd108e0f"
      },
      "source": [
        "#Taking the input from the user\n",
        "print(\"Enter the ammount you will invest on:\")\n",
        "tv = float(input(\"TV : \"))\n",
        "radio = float(input(\"Radio : \"))\n",
        "newspaper = float(input(\"Newspaper : \"))\n",
        "\n",
        "#predicting the sales with respect to the inputs\n",
        "output = multiple_reg.predict([[tv,radio,newspaper]])\n",
        "print(\"you will get Rs{:.2f} sales by advertising Rs{} on TV, Rs{} on Radio and Rs{} on newspaper.\"\\\n",
        "      .format(output[0][0] if output else \"not predictable\",tv,radio,newspaper))"
      ],
      "execution_count": null,
      "outputs": [
        {
          "output_type": "stream",
          "text": [
            "Enter the ammount you will invest on:\n",
            "TV : 50\n",
            "Radio : 100\n",
            "Newspaper : 200\n",
            "you will get Rs18.40 sales by advertising Rs50.0 on TV, Rs100.0 on Radio and Rs200.0 on newspaper.\n"
          ],
          "name": "stdout"
        }
      ]
    }
  ]
}