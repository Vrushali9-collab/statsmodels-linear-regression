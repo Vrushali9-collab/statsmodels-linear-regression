{
  "nbformat": 4,
  "nbformat_minor": 0,
  "metadata": {
    "colab": {
      "name": "Untitled3.ipynb",
      "provenance": [],
      "collapsed_sections": [],
      "authorship_tag": "ABX9TyNH2j/n59RGmZ70eydo4n1j",
      "include_colab_link": true
    },
    "kernelspec": {
      "name": "python3",
      "display_name": "Python 3"
    },
    "language_info": {
      "name": "python"
    }
  },
  "cells": [
    {
      "cell_type": "markdown",
      "metadata": {
        "id": "view-in-github",
        "colab_type": "text"
      },
      "source": [
        "<a href=\"https://colab.research.google.com/github/Vrushali9-collab/statsmodels-linear-regression/blob/main/Untitled3.ipynb\" target=\"_parent\"><img src=\"https://colab.research.google.com/assets/colab-badge.svg\" alt=\"Open In Colab\"/></a>"
      ]
    },
    {
      "cell_type": "markdown",
      "metadata": {
        "id": "36AKKbxSysGt"
      },
      "source": [
        "### **Importing lib**"
      ]
    },
    {
      "cell_type": "code",
      "metadata": {
        "id": "-vuA5SR6dOj4",
        "colab": {
          "base_uri": "https://localhost:8080/"
        },
        "outputId": "f6ccef89-fc68-4d84-c845-d0b511a3f927"
      },
      "source": [
        "import pandas as pd\n",
        "import numpy as np\n",
        "import seaborn as sns\n",
        "import matplotlib.pyplot as plt\n",
        "import statsmodels.api as sm\n",
        "sns.set_style(\"whitegrid\")\n"
      ],
      "execution_count": 1,
      "outputs": [
        {
          "output_type": "stream",
          "text": [
            "/usr/local/lib/python3.7/dist-packages/statsmodels/tools/_testing.py:19: FutureWarning: pandas.util.testing is deprecated. Use the functions in the public API at pandas.testing instead.\n",
            "  import pandas.util.testing as tm\n"
          ],
          "name": "stderr"
        }
      ]
    },
    {
      "cell_type": "markdown",
      "metadata": {
        "id": "PoDt8Md1y4iM"
      },
      "source": [
        "## **Importing dataset**"
      ]
    },
    {
      "cell_type": "code",
      "metadata": {
        "id": "feyUFuFXdXSB"
      },
      "source": [
        "#importing dataset\n",
        "data=pd.read_csv('/content/Student_Grade.csv')"
      ],
      "execution_count": 6,
      "outputs": []
    },
    {
      "cell_type": "code",
      "metadata": {
        "colab": {
          "base_uri": "https://localhost:8080/"
        },
        "id": "NRWkwRm21fdv",
        "outputId": "a2aa39ed-6257-4e87-9924-9d4d6e729bc6"
      },
      "source": [
        "data.count()"
      ],
      "execution_count": 7,
      "outputs": [
        {
          "output_type": "execute_result",
          "data": {
            "text/plain": [
              "Study Time In Minutes    200\n",
              "Credit Grade             200\n",
              "dtype: int64"
            ]
          },
          "metadata": {
            "tags": []
          },
          "execution_count": 7
        }
      ]
    },
    {
      "cell_type": "code",
      "metadata": {
        "colab": {
          "base_uri": "https://localhost:8080/"
        },
        "id": "C05gsk8BdxNw",
        "outputId": "42ec3dd6-681d-49bd-9a3e-c865b06a6fa5"
      },
      "source": [
        "data.shape"
      ],
      "execution_count": 8,
      "outputs": [
        {
          "output_type": "execute_result",
          "data": {
            "text/plain": [
              "(200, 2)"
            ]
          },
          "metadata": {
            "tags": []
          },
          "execution_count": 8
        }
      ]
    },
    {
      "cell_type": "code",
      "metadata": {
        "colab": {
          "base_uri": "https://localhost:8080/",
          "height": 107
        },
        "id": "JmqwjNrOd0Pw",
        "outputId": "31714347-185c-4fc7-f4a9-c04fc6f6f701"
      },
      "source": [
        "data.describe().T"
      ],
      "execution_count": 9,
      "outputs": [
        {
          "output_type": "execute_result",
          "data": {
            "text/html": [
              "<div>\n",
              "<style scoped>\n",
              "    .dataframe tbody tr th:only-of-type {\n",
              "        vertical-align: middle;\n",
              "    }\n",
              "\n",
              "    .dataframe tbody tr th {\n",
              "        vertical-align: top;\n",
              "    }\n",
              "\n",
              "    .dataframe thead th {\n",
              "        text-align: right;\n",
              "    }\n",
              "</style>\n",
              "<table border=\"1\" class=\"dataframe\">\n",
              "  <thead>\n",
              "    <tr style=\"text-align: right;\">\n",
              "      <th></th>\n",
              "      <th>count</th>\n",
              "      <th>mean</th>\n",
              "      <th>std</th>\n",
              "      <th>min</th>\n",
              "      <th>25%</th>\n",
              "      <th>50%</th>\n",
              "      <th>75%</th>\n",
              "      <th>max</th>\n",
              "    </tr>\n",
              "  </thead>\n",
              "  <tbody>\n",
              "    <tr>\n",
              "      <th>Study Time In Minutes</th>\n",
              "      <td>200.0</td>\n",
              "      <td>243.5050</td>\n",
              "      <td>104.639174</td>\n",
              "      <td>54.00</td>\n",
              "      <td>144.75</td>\n",
              "      <td>230.500</td>\n",
              "      <td>333.2500</td>\n",
              "      <td>492.0</td>\n",
              "    </tr>\n",
              "    <tr>\n",
              "      <th>Credit Grade</th>\n",
              "      <td>200.0</td>\n",
              "      <td>6.6408</td>\n",
              "      <td>2.100660</td>\n",
              "      <td>2.87</td>\n",
              "      <td>4.60</td>\n",
              "      <td>6.445</td>\n",
              "      <td>8.6975</td>\n",
              "      <td>10.0</td>\n",
              "    </tr>\n",
              "  </tbody>\n",
              "</table>\n",
              "</div>"
            ],
            "text/plain": [
              "                       count      mean         std  ...      50%       75%    max\n",
              "Study Time In Minutes  200.0  243.5050  104.639174  ...  230.500  333.2500  492.0\n",
              "Credit Grade           200.0    6.6408    2.100660  ...    6.445    8.6975   10.0\n",
              "\n",
              "[2 rows x 8 columns]"
            ]
          },
          "metadata": {
            "tags": []
          },
          "execution_count": 9
        }
      ]
    },
    {
      "cell_type": "code",
      "metadata": {
        "colab": {
          "base_uri": "https://localhost:8080/"
        },
        "id": "e7bjCZnod4fU",
        "outputId": "e760287b-98fc-4604-bd16-9b8195353cce"
      },
      "source": [
        "#spliting data into dependent and independent data \n",
        "x=data.iloc[:,:-1]\n",
        "print(x)\n",
        "y=data.iloc[:,-1]\n",
        "print(y)\n"
      ],
      "execution_count": 10,
      "outputs": [
        {
          "output_type": "stream",
          "text": [
            "     Study Time In Minutes\n",
            "0                      230\n",
            "1                      160\n",
            "2                      234\n",
            "3                      120\n",
            "4                      350\n",
            "..                     ...\n",
            "195                    141\n",
            "196                    167\n",
            "197                    181\n",
            "198                    100\n",
            "199                    390\n",
            "\n",
            "[200 rows x 1 columns]\n",
            "0      6.43\n",
            "1      4.94\n",
            "2      6.53\n",
            "3      4.17\n",
            "4      8.99\n",
            "       ... \n",
            "195    4.53\n",
            "196    5.08\n",
            "197    5.38\n",
            "198    3.65\n",
            "199    9.85\n",
            "Name: Credit Grade, Length: 200, dtype: float64\n"
          ],
          "name": "stdout"
        }
      ]
    },
    {
      "cell_type": "markdown",
      "metadata": {
        "id": "JgIMUHKHzFwd"
      },
      "source": [
        "## **Splitting dataset into traing and test**"
      ]
    },
    {
      "cell_type": "code",
      "metadata": {
        "id": "qU2LenqyvIZ_"
      },
      "source": [
        "from sklearn.model_selection import train_test_split"
      ],
      "execution_count": 11,
      "outputs": []
    },
    {
      "cell_type": "code",
      "metadata": {
        "colab": {
          "base_uri": "https://localhost:8080/"
        },
        "id": "Edl8Jme1u7YM",
        "outputId": "193c6211-5d73-4a40-a07d-1780a4f79f74"
      },
      "source": [
        "x_train,x_test,y_train,y_test=train_test_split(x,y,test_size=0.2,random_state=0)\n",
        "\n",
        "print(x_train.shape, x_test.shape, y_train.shape, y_test.shape)\n",
        "\n"
      ],
      "execution_count": 12,
      "outputs": [
        {
          "output_type": "stream",
          "text": [
            "(160, 1) (40, 1) (160,) (40,)\n"
          ],
          "name": "stdout"
        }
      ]
    },
    {
      "cell_type": "markdown",
      "metadata": {
        "id": "X86j60a_3n39"
      },
      "source": [
        "## **Training the Sample Linear Regression model on Training test**\n",
        "\n",
        "\n",
        "\n"
      ]
    },
    {
      "cell_type": "code",
      "metadata": {
        "id": "L8lJfeio30tk"
      },
      "source": [
        "from sklearn.linear_model import LinearRegression"
      ],
      "execution_count": 13,
      "outputs": []
    },
    {
      "cell_type": "code",
      "metadata": {
        "id": "mgMhULNA4KlJ"
      },
      "source": [
        "lr=LinearRegression()"
      ],
      "execution_count": 14,
      "outputs": []
    },
    {
      "cell_type": "code",
      "metadata": {
        "colab": {
          "base_uri": "https://localhost:8080/"
        },
        "id": "BKH4qRDr4e4q",
        "outputId": "fe737e9d-1a2c-49ce-86e6-8f215ce8a287"
      },
      "source": [
        "lr.fit(x_train,y_train)"
      ],
      "execution_count": 15,
      "outputs": [
        {
          "output_type": "execute_result",
          "data": {
            "text/plain": [
              "LinearRegression(copy_X=True, fit_intercept=True, n_jobs=None, normalize=False)"
            ]
          },
          "metadata": {
            "tags": []
          },
          "execution_count": 15
        }
      ]
    },
    {
      "cell_type": "markdown",
      "metadata": {
        "id": "_e71RjIptoJ6"
      },
      "source": [
        "## **Predicting test set result**"
      ]
    },
    {
      "cell_type": "code",
      "metadata": {
        "id": "GWRHXBy1tnR4"
      },
      "source": [
        "y_pred=lr.predict(x_test)"
      ],
      "execution_count": 16,
      "outputs": []
    },
    {
      "cell_type": "code",
      "metadata": {
        "colab": {
          "base_uri": "https://localhost:8080/"
        },
        "id": "DP3XBLAkt4ni",
        "outputId": "f37e1216-4e40-4f07-cbf4-6e78ec6cb046"
      },
      "source": [
        "y_pred"
      ],
      "execution_count": 17,
      "outputs": [
        {
          "output_type": "execute_result",
          "data": {
            "text/plain": [
              "array([ 6.66163141,  9.69985093,  4.69572466,  9.9580003 ,  8.36938879,\n",
              "        9.16369454, 10.87145192,  9.66013564,  8.36938879,  4.37800236,\n",
              "        6.44319733,  5.82761036,  4.91415874,  4.59643644,  6.36376675,\n",
              "       10.85159428,  9.16369454,  8.56796523,  8.38924643,  6.18504795,\n",
              "        7.99209355,  7.53536774,  8.62753816,  6.36376675,  3.34540487,\n",
              "        8.1509547 ,  8.68711109,  7.13821486,  7.57508303,  4.31842942,\n",
              "        9.22326748,  3.74255775,  3.84184597,  4.17942592,  4.49714822,\n",
              "        4.37800236,  6.42333968,  8.74668402,  6.38362439,  4.23899885])"
            ]
          },
          "metadata": {
            "tags": []
          },
          "execution_count": 17
        }
      ]
    },
    {
      "cell_type": "code",
      "metadata": {
        "colab": {
          "base_uri": "https://localhost:8080/"
        },
        "id": "1LSLA5NNt_x4",
        "outputId": "48c757ca-a033-471d-e54e-58bf22287cd8"
      },
      "source": [
        "y_test"
      ],
      "execution_count": 18,
      "outputs": [
        {
          "output_type": "execute_result",
          "data": {
            "text/plain": [
              "18      6.71\n",
              "170    10.00\n",
              "107     4.72\n",
              "98     10.00\n",
              "177     8.58\n",
              "182     9.42\n",
              "5      10.00\n",
              "146     9.91\n",
              "12      8.82\n",
              "152     4.29\n",
              "61      6.58\n",
              "125     5.81\n",
              "180     4.88\n",
              "154     4.52\n",
              "80      6.33\n",
              "7      10.00\n",
              "33      9.42\n",
              "130     8.82\n",
              "37      8.69\n",
              "74      6.24\n",
              "183     8.18\n",
              "145     7.69\n",
              "45      8.87\n",
              "159     6.41\n",
              "60      3.19\n",
              "123     8.36\n",
              "179     8.93\n",
              "185     7.28\n",
              "122     7.73\n",
              "44      4.22\n",
              "16      9.50\n",
              "55      3.66\n",
              "150     3.69\n",
              "111     4.07\n",
              "22      4.39\n",
              "189     4.29\n",
              "129     6.50\n",
              "4       8.99\n",
              "83      6.46\n",
              "106     4.14\n",
              "Name: Credit Grade, dtype: float64"
            ]
          },
          "metadata": {
            "tags": []
          },
          "execution_count": 18
        }
      ]
    },
    {
      "cell_type": "code",
      "metadata": {
        "colab": {
          "base_uri": "https://localhost:8080/"
        },
        "id": "Fep7Hd1QiQNG",
        "outputId": "a324ee00-1a55-45fd-911b-462443a1d1ba"
      },
      "source": [
        "y_train"
      ],
      "execution_count": 19,
      "outputs": [
        {
          "output_type": "execute_result",
          "data": {
            "text/plain": [
              "134    5.50\n",
              "66     6.48\n",
              "26     7.32\n",
              "113    3.45\n",
              "168    8.68\n",
              "       ... \n",
              "67     6.41\n",
              "192    5.41\n",
              "117    8.24\n",
              "47     4.20\n",
              "172    4.05\n",
              "Name: Credit Grade, Length: 160, dtype: float64"
            ]
          },
          "metadata": {
            "tags": []
          },
          "execution_count": 19
        }
      ]
    },
    {
      "cell_type": "code",
      "metadata": {
        "colab": {
          "base_uri": "https://localhost:8080/"
        },
        "id": "dfZ2iLvauZkb",
        "outputId": "80d9ede2-ef49-49c1-9930-6db50b12bee6"
      },
      "source": [
        "df=pd.DataFrame()\n",
        "df[\"y_actual\"]=y_test\n",
        "df[\"y_pred\"]=y_pred\n",
        "print(df)"
      ],
      "execution_count": 20,
      "outputs": [
        {
          "output_type": "stream",
          "text": [
            "     y_actual     y_pred\n",
            "18       6.71   6.661631\n",
            "170     10.00   9.699851\n",
            "107      4.72   4.695725\n",
            "98      10.00   9.958000\n",
            "177      8.58   8.369389\n",
            "182      9.42   9.163695\n",
            "5       10.00  10.871452\n",
            "146      9.91   9.660136\n",
            "12       8.82   8.369389\n",
            "152      4.29   4.378002\n",
            "61       6.58   6.443197\n",
            "125      5.81   5.827610\n",
            "180      4.88   4.914159\n",
            "154      4.52   4.596436\n",
            "80       6.33   6.363767\n",
            "7       10.00  10.851594\n",
            "33       9.42   9.163695\n",
            "130      8.82   8.567965\n",
            "37       8.69   8.389246\n",
            "74       6.24   6.185048\n",
            "183      8.18   7.992094\n",
            "145      7.69   7.535368\n",
            "45       8.87   8.627538\n",
            "159      6.41   6.363767\n",
            "60       3.19   3.345405\n",
            "123      8.36   8.150955\n",
            "179      8.93   8.687111\n",
            "185      7.28   7.138215\n",
            "122      7.73   7.575083\n",
            "44       4.22   4.318429\n",
            "16       9.50   9.223267\n",
            "55       3.66   3.742558\n",
            "150      3.69   3.841846\n",
            "111      4.07   4.179426\n",
            "22       4.39   4.497148\n",
            "189      4.29   4.378002\n",
            "129      6.50   6.423340\n",
            "4        8.99   8.746684\n",
            "83       6.46   6.383624\n",
            "106      4.14   4.238999\n"
          ],
          "name": "stdout"
        }
      ]
    },
    {
      "cell_type": "markdown",
      "metadata": {
        "id": "fQnPxhPdvKwo"
      },
      "source": [
        "## **Visualiztion traing set result**\n",
        "\n",
        "\n",
        "\n"
      ]
    },
    {
      "cell_type": "code",
      "metadata": {
        "colab": {
          "base_uri": "https://localhost:8080/",
          "height": 312
        },
        "id": "ULS4ovTOvU74",
        "outputId": "5adacbcb-2fb6-471d-cee6-af4c9139671f"
      },
      "source": [
        "plt.scatter(x_train,y_train)\n",
        "plt.plot(x_train,lr.predict(x_train))\n",
        "plt.title('Study time in min vs Credit (Training Set)')\n",
        "plt.xlabel('Study time in min')\n",
        "plt.ylabel('Credit')"
      ],
      "execution_count": 21,
      "outputs": [
        {
          "output_type": "execute_result",
          "data": {
            "text/plain": [
              "Text(0, 0.5, 'Credit')"
            ]
          },
          "metadata": {
            "tags": []
          },
          "execution_count": 21
        },
        {
          "output_type": "display_data",
          "data": {
            "image/png": "[encoded data removed]",
            "text/plain": [
              "<Figure size 432x288 with 1 Axes>"
            ]
          },
          "metadata": {
            "tags": []
          }
        }
      ]
    },
    {
      "cell_type": "markdown",
      "metadata": {
        "id": "3-h2g9dF2lMH"
      },
      "source": [
        "## **Visualiztion test set result**"
      ]
    },
    {
      "cell_type": "code",
      "metadata": {
        "colab": {
          "base_uri": "https://localhost:8080/",
          "height": 312
        },
        "id": "-_CjbvALNc7A",
        "outputId": "0757633e-d5b7-4f60-9fb9-568b42e2b278"
      },
      "source": [
        "plt.scatter(x_test,y_test)\n",
        "plt.plot(x_train,lr.predict(x_train))\n",
        "plt.title('Study time in min vs Credit (Testing Set)')\n",
        "plt.xlabel('Study time in min')\n",
        "plt.ylabel('Credit')"
      ],
      "execution_count": 22,
      "outputs": [
        {
          "output_type": "execute_result",
          "data": {
            "text/plain": [
              "Text(0, 0.5, 'Credit')"
            ]
          },
          "metadata": {
            "tags": []
          },
          "execution_count": 22
        },
        {
          "output_type": "display_data",
          "data": {
            "image/png": "[encoded data removed]",
            "text/plain": [
              "<Figure size 432x288 with 1 Axes>"
            ]
          },
          "metadata": {
            "tags": []
          }
        }
      ]
    },
    {
      "cell_type": "code",
      "metadata": {
        "colab": {
          "base_uri": "https://localhost:8080/",
          "height": 570
        },
        "id": "xM5s-PI1of1o",
        "outputId": "d84e7e27-7c38-42b0-9c18-857ef4a9657b"
      },
      "source": [
        "#outliers\n",
        "plt.figure(figsize=(16,8))\n",
        "\n",
        "plt.subplot(1,3,1)\n",
        "sns.distplot(data['Credit Grade'])"
      ],
      "execution_count": 23,
      "outputs": [
        {
          "output_type": "stream",
          "text": [
            "/usr/local/lib/python3.7/dist-packages/seaborn/distributions.py:2557: FutureWarning: `distplot` is a deprecated function and will be removed in a future version. Please adapt your code to use either `displot` (a figure-level function with similar flexibility) or `histplot` (an axes-level function for histograms).\n",
            "  warnings.warn(msg, FutureWarning)\n"
          ],
          "name": "stderr"
        },
        {
          "output_type": "execute_result",
          "data": {
            "text/plain": [
              "<matplotlib.axes._subplots.AxesSubplot at 0x7fe64c1ca650>"
            ]
          },
          "metadata": {
            "tags": []
          },
          "execution_count": 23
        },
        {
          "output_type": "display_data",
          "data": {
            "image/png": "[encoded data removed]",
            "text/plain": [
              "<Figure size 1152x576 with 1 Axes>"
            ]
          },
          "metadata": {
            "tags": []
          }
        }
      ]
    },
    {
      "cell_type": "code",
      "metadata": {
        "colab": {
          "base_uri": "https://localhost:8080/"
        },
        "id": "JkPnSE4spifj",
        "outputId": "ee3d198c-c261-4c60-d97d-110d58141d56"
      },
      "source": [
        "#lets take seed\n",
        "np.random.seed(10)\n",
        "\n",
        "sample_Credit_Grade=np.random.choice(a=data['Credit Grade'],size=100)\n",
        "#getting math score mean\n",
        "print(\"sample_credit_grade:\",sample_Credit_Grade.mean())\n",
        "#getting the population mean \n",
        "print(\"population mean for credit_grade:\",data['Credit Grade'].mean())"
      ],
      "execution_count": 24,
      "outputs": [
        {
          "output_type": "stream",
          "text": [
            "sample_credit_grade: 6.3677\n",
            "population mean for credit_grade: 6.6408000000000005\n"
          ],
          "name": "stdout"
        }
      ]
    }
  ]
}