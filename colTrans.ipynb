{
  "nbformat": 4,
  "nbformat_minor": 0,
  "metadata": {
    "colab": {
      "name": "Untitled6.ipynb",
      "provenance": [],
      "collapsed_sections": [],
      "toc_visible": true,
      "authorship_tag": "ABX9TyOcfYTs2cKoxNcXLfoJPuAw",
      "include_colab_link": true
    },
    "kernelspec": {
      "name": "python3",
      "display_name": "Python 3"
    },
    "language_info": {
      "name": "python"
    }
  },
  "cells": [
    {
      "cell_type": "markdown",
      "metadata": {
        "id": "view-in-github",
        "colab_type": "text"
      },
      "source": [
        "<a href=\"https://colab.research.google.com/github/Vrushali9-collab/statsmodels-linear-regression/blob/main/colTrans.ipynb\" target=\"_parent\"><img src=\"https://colab.research.google.com/assets/colab-badge.svg\" alt=\"Open In Colab\"/></a>"
      ]
    },
    {
      "cell_type": "markdown",
      "metadata": {
        "id": "tA2V8TrO-WW9"
      },
      "source": [
        "### **Importing Lib**"
      ]
    },
    {
      "cell_type": "code",
      "metadata": {
        "id": "nx0Cz-lZ9ytX"
      },
      "source": [
        "import pandas as pd\n",
        "import numpy as np\n",
        "from sklearn.compose import ColumnTransformer\n",
        "from sklearn.preprocessing import OneHotEncoder\n",
        "from sklearn.impute import SimpleImputer"
      ],
      "execution_count": null,
      "outputs": []
    },
    {
      "cell_type": "markdown",
      "metadata": {
        "id": "0B-Nk66D-enq"
      },
      "source": [
        "### **Importing Dataset**"
      ]
    },
    {
      "cell_type": "code",
      "metadata": {
        "id": "e5PVieOk-mM5"
      },
      "source": [
        "data=pd.read_csv('/content/50_Startups.csv')\n",
        "#spliting data into dependent and independent data \n",
        "x=data.iloc[:,:-1]\n",
        "print(x)\n",
        "y=data.iloc[:,-1]\n",
        "print(y)\n"
      ],
      "execution_count": null,
      "outputs": []
    },
    {
      "cell_type": "code",
      "metadata": {
        "id": "Wa56NiKnGXxH"
      },
      "source": [
        "data.head()"
      ],
      "execution_count": null,
      "outputs": []
    },
    {
      "cell_type": "code",
      "metadata": {
        "colab": {
          "base_uri": "https://localhost:8080/"
        },
        "id": "jj2WaLQWGn6y",
        "outputId": "d0bdeefc-41fc-48dc-e6cb-b37969c8518f"
      },
      "source": [
        "data.isnull().sum()"
      ],
      "execution_count": null,
      "outputs": [
        {
          "output_type": "execute_result",
          "data": {
            "text/plain": [
              "R&D Spend          0\n",
              "Administration     0\n",
              "Marketing Spend    0\n",
              "State              0\n",
              "Profit             0\n",
              "dtype: int64"
            ]
          },
          "metadata": {
            "tags": []
          },
          "execution_count": 56
        }
      ]
    },
    {
      "cell_type": "markdown",
      "metadata": {
        "id": "QEfIGnKDIrGL"
      },
      "source": [
        "### ***Adding SimpleImputer to profit ***"
      ]
    },
    {
      "cell_type": "code",
      "metadata": {
        "id": "JEjTByWOIaF6"
      },
      "source": [
        "x_train_Profit.shape"
      ],
      "execution_count": null,
      "outputs": []
    }
  ]
}